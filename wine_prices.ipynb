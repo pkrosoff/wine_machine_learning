{
  "nbformat": 4,
  "nbformat_minor": 0,
  "metadata": {
    "colab": {
      "name": "wine_prices.ipynb",
      "provenance": [],
      "collapsed_sections": [],
      "mount_file_id": "1FCQhy1CgSuQPSkLHYFCng0ylqNg3w050",
      "authorship_tag": "ABX9TyNUdWQGOifx+7PRi3q4mU05",
      "include_colab_link": true
    },
    "kernelspec": {
      "name": "python3",
      "display_name": "Python 3"
    }
  },
  "cells": [
    {
      "cell_type": "markdown",
      "metadata": {
        "id": "view-in-github",
        "colab_type": "text"
      },
      "source": [
        "<a href=\"https://colab.research.google.com/github/pkrosoff/wine_machine_learning/blob/kelly_branch/wine_prices.ipynb\" target=\"_parent\"><img src=\"https://colab.research.google.com/assets/colab-badge.svg\" alt=\"Open In Colab\"/></a>"
      ]
    },
    {
      "cell_type": "code",
      "metadata": {
        "colab": {
          "base_uri": "https://localhost:8080/"
        },
        "id": "VH2QgC9r11HM",
        "outputId": "fa73f8ec-b7fe-44b6-c640-17fad69b2e35"
      },
      "source": [
        "import os\n",
        "# Find the latest version of spark 3.0  from http://www-us.apache.org/dist/spark/ and enter as the spark version\n",
        "# For example:\n",
        "spark_version = 'spark-3.0.1'\n",
        "# spark_version = 'spark-3.<enter version>'\n",
        "os.environ['SPARK_VERSION']=spark_version\n",
        "\n",
        "# Install Spark and Java\n",
        "!apt-get update\n",
        "!apt-get install openjdk-11-jdk-headless -qq > /dev/null\n",
        "!wget -q http://www-us.apache.org/dist/spark/$SPARK_VERSION/$SPARK_VERSION-bin-hadoop2.7.tgz\n",
        "!tar xf $SPARK_VERSION-bin-hadoop2.7.tgz\n",
        "!pip install -q findspark\n",
        "\n",
        "# Set Environment Variables\n",
        "os.environ[\"JAVA_HOME\"] = \"/usr/lib/jvm/java-11-openjdk-amd64\"\n",
        "os.environ[\"SPARK_HOME\"] = f\"/content/{spark_version}-bin-hadoop2.7\"\n",
        "\n",
        "# Start a SparkSession\n",
        "import findspark\n",
        "findspark.init()"
      ],
      "execution_count": 1,
      "outputs": [
        {
          "output_type": "stream",
          "text": [
            "Hit:1 https://cloud.r-project.org/bin/linux/ubuntu bionic-cran40/ InRelease\n",
            "Ign:2 https://developer.download.nvidia.com/compute/cuda/repos/ubuntu1804/x86_64  InRelease\n",
            "Ign:3 https://developer.download.nvidia.com/compute/machine-learning/repos/ubuntu1804/x86_64  InRelease\n",
            "Hit:4 https://developer.download.nvidia.com/compute/cuda/repos/ubuntu1804/x86_64  Release\n",
            "Hit:5 https://developer.download.nvidia.com/compute/machine-learning/repos/ubuntu1804/x86_64  Release\n",
            "Hit:6 http://ppa.launchpad.net/c2d4u.team/c2d4u4.0+/ubuntu bionic InRelease\n",
            "Hit:7 http://archive.ubuntu.com/ubuntu bionic InRelease\n",
            "Hit:9 http://security.ubuntu.com/ubuntu bionic-security InRelease\n",
            "Hit:10 http://archive.ubuntu.com/ubuntu bionic-updates InRelease\n",
            "Hit:12 http://ppa.launchpad.net/graphics-drivers/ppa/ubuntu bionic InRelease\n",
            "Hit:13 http://archive.ubuntu.com/ubuntu bionic-backports InRelease\n",
            "Reading package lists... Done\n"
          ],
          "name": "stdout"
        }
      ]
    },
    {
      "cell_type": "code",
      "metadata": {
        "id": "t8_9nT_F5N1M"
      },
      "source": [
        "# Start Spark session\n",
        "from pyspark.sql import SparkSession\n",
        "spark = SparkSession.builder.appName(\"wine_hashing\").getOrCreate()"
      ],
      "execution_count": 2,
      "outputs": []
    },
    {
      "cell_type": "code",
      "metadata": {
        "id": "pEQfRAGJ5cG5"
      },
      "source": [
        "from pyspark.ml.feature import HashingTF, IDF, Tokenizer, StopWordsRemover\n",
        "from google.colab import drive\n",
        "import pandas as pd\n",
        "import numpy as np\n",
        "import matplotlib.pyplot as plt\n",
        "import seaborn as sns\n",
        "\n",
        "from pyspark.sql.functions import regexp_replace, col\n"
      ],
      "execution_count": 3,
      "outputs": []
    },
    {
      "cell_type": "code",
      "metadata": {
        "id": "mDUw_mUxGNPU"
      },
      "source": [
        "# from pyspark import SparkFiles\n",
        "# path =\"/content/drive/MyDrive/winemag-data_first150k.csv\"\n",
        "# spark.sparkContext.addFile(path)\n",
        "# df = spark.read.csv(SparkFiles.get(\"winemag-data_first150k.csv\"), sep=\",\", header=True)\n",
        "\n",
        "path = \"/content/drive/MyDrive/winemag-data_first150k.csv\"\n",
        "df = pd.read_csv(path)"
      ],
      "execution_count": 4,
      "outputs": []
    },
    {
      "cell_type": "code",
      "metadata": {
        "colab": {
          "base_uri": "https://localhost:8080/",
          "height": 606
        },
        "id": "y0EqeL4MXMyY",
        "outputId": "3315a2f8-c33b-4e2c-87d8-a82172a209b0"
      },
      "source": [
        "df\n"
      ],
      "execution_count": 5,
      "outputs": [
        {
          "output_type": "execute_result",
          "data": {
            "text/html": [
              "<div>\n",
              "<style scoped>\n",
              "    .dataframe tbody tr th:only-of-type {\n",
              "        vertical-align: middle;\n",
              "    }\n",
              "\n",
              "    .dataframe tbody tr th {\n",
              "        vertical-align: top;\n",
              "    }\n",
              "\n",
              "    .dataframe thead th {\n",
              "        text-align: right;\n",
              "    }\n",
              "</style>\n",
              "<table border=\"1\" class=\"dataframe\">\n",
              "  <thead>\n",
              "    <tr style=\"text-align: right;\">\n",
              "      <th></th>\n",
              "      <th>Unnamed: 0</th>\n",
              "      <th>country</th>\n",
              "      <th>description</th>\n",
              "      <th>designation</th>\n",
              "      <th>points</th>\n",
              "      <th>price</th>\n",
              "      <th>province</th>\n",
              "      <th>region_1</th>\n",
              "      <th>region_2</th>\n",
              "      <th>variety</th>\n",
              "      <th>winery</th>\n",
              "    </tr>\n",
              "  </thead>\n",
              "  <tbody>\n",
              "    <tr>\n",
              "      <th>0</th>\n",
              "      <td>0</td>\n",
              "      <td>US</td>\n",
              "      <td>This tremendous 100% varietal wine hails from ...</td>\n",
              "      <td>Martha's Vineyard</td>\n",
              "      <td>96</td>\n",
              "      <td>235.0</td>\n",
              "      <td>California</td>\n",
              "      <td>Napa Valley</td>\n",
              "      <td>Napa</td>\n",
              "      <td>Cabernet Sauvignon</td>\n",
              "      <td>Heitz</td>\n",
              "    </tr>\n",
              "    <tr>\n",
              "      <th>1</th>\n",
              "      <td>1</td>\n",
              "      <td>Spain</td>\n",
              "      <td>Ripe aromas of fig, blackberry and cassis are ...</td>\n",
              "      <td>Carodorum Selección Especial Reserva</td>\n",
              "      <td>96</td>\n",
              "      <td>110.0</td>\n",
              "      <td>Northern Spain</td>\n",
              "      <td>Toro</td>\n",
              "      <td>NaN</td>\n",
              "      <td>Tinta de Toro</td>\n",
              "      <td>Bodega Carmen Rodríguez</td>\n",
              "    </tr>\n",
              "    <tr>\n",
              "      <th>2</th>\n",
              "      <td>2</td>\n",
              "      <td>US</td>\n",
              "      <td>Mac Watson honors the memory of a wine once ma...</td>\n",
              "      <td>Special Selected Late Harvest</td>\n",
              "      <td>96</td>\n",
              "      <td>90.0</td>\n",
              "      <td>California</td>\n",
              "      <td>Knights Valley</td>\n",
              "      <td>Sonoma</td>\n",
              "      <td>Sauvignon Blanc</td>\n",
              "      <td>Macauley</td>\n",
              "    </tr>\n",
              "    <tr>\n",
              "      <th>3</th>\n",
              "      <td>3</td>\n",
              "      <td>US</td>\n",
              "      <td>This spent 20 months in 30% new French oak, an...</td>\n",
              "      <td>Reserve</td>\n",
              "      <td>96</td>\n",
              "      <td>65.0</td>\n",
              "      <td>Oregon</td>\n",
              "      <td>Willamette Valley</td>\n",
              "      <td>Willamette Valley</td>\n",
              "      <td>Pinot Noir</td>\n",
              "      <td>Ponzi</td>\n",
              "    </tr>\n",
              "    <tr>\n",
              "      <th>4</th>\n",
              "      <td>4</td>\n",
              "      <td>France</td>\n",
              "      <td>This is the top wine from La Bégude, named aft...</td>\n",
              "      <td>La Brûlade</td>\n",
              "      <td>95</td>\n",
              "      <td>66.0</td>\n",
              "      <td>Provence</td>\n",
              "      <td>Bandol</td>\n",
              "      <td>NaN</td>\n",
              "      <td>Provence red blend</td>\n",
              "      <td>Domaine de la Bégude</td>\n",
              "    </tr>\n",
              "    <tr>\n",
              "      <th>...</th>\n",
              "      <td>...</td>\n",
              "      <td>...</td>\n",
              "      <td>...</td>\n",
              "      <td>...</td>\n",
              "      <td>...</td>\n",
              "      <td>...</td>\n",
              "      <td>...</td>\n",
              "      <td>...</td>\n",
              "      <td>...</td>\n",
              "      <td>...</td>\n",
              "      <td>...</td>\n",
              "    </tr>\n",
              "    <tr>\n",
              "      <th>150925</th>\n",
              "      <td>150925</td>\n",
              "      <td>Italy</td>\n",
              "      <td>Many people feel Fiano represents southern Ita...</td>\n",
              "      <td>NaN</td>\n",
              "      <td>91</td>\n",
              "      <td>20.0</td>\n",
              "      <td>Southern Italy</td>\n",
              "      <td>Fiano di Avellino</td>\n",
              "      <td>NaN</td>\n",
              "      <td>White Blend</td>\n",
              "      <td>Feudi di San Gregorio</td>\n",
              "    </tr>\n",
              "    <tr>\n",
              "      <th>150926</th>\n",
              "      <td>150926</td>\n",
              "      <td>France</td>\n",
              "      <td>Offers an intriguing nose with ginger, lime an...</td>\n",
              "      <td>Cuvée Prestige</td>\n",
              "      <td>91</td>\n",
              "      <td>27.0</td>\n",
              "      <td>Champagne</td>\n",
              "      <td>Champagne</td>\n",
              "      <td>NaN</td>\n",
              "      <td>Champagne Blend</td>\n",
              "      <td>H.Germain</td>\n",
              "    </tr>\n",
              "    <tr>\n",
              "      <th>150927</th>\n",
              "      <td>150927</td>\n",
              "      <td>Italy</td>\n",
              "      <td>This classic example comes from a cru vineyard...</td>\n",
              "      <td>Terre di Dora</td>\n",
              "      <td>91</td>\n",
              "      <td>20.0</td>\n",
              "      <td>Southern Italy</td>\n",
              "      <td>Fiano di Avellino</td>\n",
              "      <td>NaN</td>\n",
              "      <td>White Blend</td>\n",
              "      <td>Terredora</td>\n",
              "    </tr>\n",
              "    <tr>\n",
              "      <th>150928</th>\n",
              "      <td>150928</td>\n",
              "      <td>France</td>\n",
              "      <td>A perfect salmon shade, with scents of peaches...</td>\n",
              "      <td>Grand Brut Rosé</td>\n",
              "      <td>90</td>\n",
              "      <td>52.0</td>\n",
              "      <td>Champagne</td>\n",
              "      <td>Champagne</td>\n",
              "      <td>NaN</td>\n",
              "      <td>Champagne Blend</td>\n",
              "      <td>Gosset</td>\n",
              "    </tr>\n",
              "    <tr>\n",
              "      <th>150929</th>\n",
              "      <td>150929</td>\n",
              "      <td>Italy</td>\n",
              "      <td>More Pinot Grigios should taste like this. A r...</td>\n",
              "      <td>NaN</td>\n",
              "      <td>90</td>\n",
              "      <td>15.0</td>\n",
              "      <td>Northeastern Italy</td>\n",
              "      <td>Alto Adige</td>\n",
              "      <td>NaN</td>\n",
              "      <td>Pinot Grigio</td>\n",
              "      <td>Alois Lageder</td>\n",
              "    </tr>\n",
              "  </tbody>\n",
              "</table>\n",
              "<p>150930 rows × 11 columns</p>\n",
              "</div>"
            ],
            "text/plain": [
              "        Unnamed: 0 country  ...             variety                   winery\n",
              "0                0      US  ...  Cabernet Sauvignon                    Heitz\n",
              "1                1   Spain  ...       Tinta de Toro  Bodega Carmen Rodríguez\n",
              "2                2      US  ...     Sauvignon Blanc                 Macauley\n",
              "3                3      US  ...          Pinot Noir                    Ponzi\n",
              "4                4  France  ...  Provence red blend     Domaine de la Bégude\n",
              "...            ...     ...  ...                 ...                      ...\n",
              "150925      150925   Italy  ...         White Blend    Feudi di San Gregorio\n",
              "150926      150926  France  ...     Champagne Blend                H.Germain\n",
              "150927      150927   Italy  ...         White Blend                Terredora\n",
              "150928      150928  France  ...     Champagne Blend                   Gosset\n",
              "150929      150929   Italy  ...        Pinot Grigio            Alois Lageder\n",
              "\n",
              "[150930 rows x 11 columns]"
            ]
          },
          "metadata": {
            "tags": []
          },
          "execution_count": 5
        }
      ]
    },
    {
      "cell_type": "code",
      "metadata": {
        "colab": {
          "base_uri": "https://localhost:8080/"
        },
        "id": "JUHthRh_Y5TG",
        "outputId": "119ebeea-b9ef-4e4b-8596-b6a7d3aa86c0"
      },
      "source": [
        "# Examine the schema \n",
        "print(\"# of NaN in every column\\n\", df.isnull().sum(axis = 0))"
      ],
      "execution_count": 6,
      "outputs": [
        {
          "output_type": "stream",
          "text": [
            "# of NaN in every column\n",
            " Unnamed: 0         0\n",
            "country            5\n",
            "description        0\n",
            "designation    45735\n",
            "points             0\n",
            "price          13695\n",
            "province           5\n",
            "region_1       25060\n",
            "region_2       89977\n",
            "variety            0\n",
            "winery             0\n",
            "dtype: int64\n"
          ],
          "name": "stdout"
        }
      ]
    },
    {
      "cell_type": "code",
      "metadata": {
        "id": "KUGdcsgZmI_Q"
      },
      "source": [
        "# select only id, country, price, and NOT point\n",
        "df_2 = df[['description', 'price']]\n"
      ],
      "execution_count": 7,
      "outputs": []
    },
    {
      "cell_type": "code",
      "metadata": {
        "colab": {
          "base_uri": "https://localhost:8080/"
        },
        "id": "R08V-gYom7aG",
        "outputId": "d3e1f467-a160-4ca1-9609-3049cf89d061"
      },
      "source": [
        "df_2\n",
        "df_2['price'].unique()\n",
        "# df_2['points'].unique()"
      ],
      "execution_count": 8,
      "outputs": [
        {
          "output_type": "execute_result",
          "data": {
            "text/plain": [
              "array([ 235.,  110.,   90.,   65.,   66.,   73.,   60.,   80.,   48.,\n",
              "        185.,  325.,  290.,   75.,   24.,   79.,  220.,   45.,   57.,\n",
              "         62.,  105.,   15.,   37.,   nan,   22.,   42.,  135.,   29.,\n",
              "         23.,   17.,   26.,   55.,   39.,   69.,   30.,   50.,   40.,\n",
              "        100.,   68.,   28.,   18.,   25.,   36.,   38.,   85.,   19.,\n",
              "         54.,   59.,   10.,   12.,   13.,   14.,   20.,  125.,    7.,\n",
              "         49.,   93.,   32.,   16.,   21.,   44.,   35.,   61.,   34.,\n",
              "         11.,   58.,  120.,   41.,  200.,   43.,    9.,   56.,   46.,\n",
              "         92.,   94.,   27.,   95.,   33.,   70.,  155.,   63.,  130.,\n",
              "        115.,   31.,   98.,   52.,   64.,   91.,  111.,   88.,   74.,\n",
              "         77.,   87.,  113.,  140.,  500.,   51.,  150.,  240.,   72.,\n",
              "        103.,    8.,  136.,  141.,  102.,   47.,   53.,   96.,   78.,\n",
              "        149.,  138.,  117.,    4.,   99.,  848.,  450.,  330.,  175.,\n",
              "         89.,   82.,   71.,  137.,  145.,  698.,  160.,  770.,  118.,\n",
              "        238.,  202.,  250.,  165.,   83.,  107.,   76.,   67.,  128.,\n",
              "        119.,  129.,  180.,    6.,  225.,    5.,  152.,   84.,   86.,\n",
              "        124.,   97.,  365.,  179.,  350.,  195.,  300.,  156.,  315.,\n",
              "        187.,  520.,  170.,  428.,  257.,  294.,  166.,  226.,  280.,\n",
              "        380.,  740.,  108.,  391.,  282.,  312.,  123.,  131.,  196.,\n",
              "        850.,  600.,  237.,  227.,  351.,  415., 1100.,  104.,  127.,\n",
              "        106.,  258.,  375.,  320.,  980.,  112.,  101.,  230.,  142.,\n",
              "        468.,  639.,  288.,  281.,  357.,  208.,  199.,  307.,  159.,\n",
              "        168.,  133.,  310.,  215.,  670.,  122.,  245.,  463.,  260.,\n",
              "       2013.,  239.,  400.,  269.,  214.,  625.,   81.,  270.,  345.,\n",
              "        316.,  205.,  410.,  275.,  126.,  764.,  190.,  153.,  183.,\n",
              "        212.,  167.,  169.,  285.,  279.,  249.,  299.,  229.,  360.,\n",
              "        460.,  800.,  139., 1400.,  385.,  390.,  252.,  109.,  154.,\n",
              "        134.,  295.,  445.,  612.,  271.,  228.,  448.,  292.,  440.,\n",
              "        376.,  231.,  114.,  349.,  399.,  163.,  210.,  116.,  151.,\n",
              "        148.,  162.,  191.,  173.,  318.,  550.,  510.,  660.,  685.,\n",
              "        182.,  775.,  323.,  419.,  132., 2300., 1900., 1300., 1200.,\n",
              "        236.,  412., 1000.,  545.,  243.,  143.,  426.,  588.,  204.,\n",
              "        265.,  158.,  174.,  247.,  164.,  430.,  194.,  261.,  147.,\n",
              "        451.,  574.,  544.,  273.,  189.,  317.,  248.,  177.,  176.,\n",
              "        144.,  197.,  157.,  289.,  505.,  198.,  146.,  411.,  757.,\n",
              "        259.,  535.,  328.,  206.,  216.,  354.,  495.,  193.,  525.,\n",
              "        256.,  475.,  398.,  530.,  181.,  255.,  420.,  266.,  121.,\n",
              "        246.,  599.,  178.,  335.,  900.,  222.,  171.,  486.,  203.,\n",
              "        395.,  303.,  319.,  268.,  211.,  467.,  293.,  224.,  283.,\n",
              "        596.,  253.,  455.,  580.,  184.,  172.,  217.])"
            ]
          },
          "metadata": {
            "tags": []
          },
          "execution_count": 8
        }
      ]
    },
    {
      "cell_type": "code",
      "metadata": {
        "colab": {
          "base_uri": "https://localhost:8080/"
        },
        "id": "kXVlAjMRgVhf",
        "outputId": "85eeb544-e6f4-4bd8-bb22-44838c0169f1"
      },
      "source": [
        "df_2.info()"
      ],
      "execution_count": 9,
      "outputs": [
        {
          "output_type": "stream",
          "text": [
            "<class 'pandas.core.frame.DataFrame'>\n",
            "RangeIndex: 150930 entries, 0 to 150929\n",
            "Data columns (total 2 columns):\n",
            " #   Column       Non-Null Count   Dtype  \n",
            "---  ------       --------------   -----  \n",
            " 0   description  150930 non-null  object \n",
            " 1   price        137235 non-null  float64\n",
            "dtypes: float64(1), object(1)\n",
            "memory usage: 2.3+ MB\n"
          ],
          "name": "stdout"
        }
      ]
    },
    {
      "cell_type": "code",
      "metadata": {
        "colab": {
          "base_uri": "https://localhost:8080/"
        },
        "id": "JoeCpwfrg0_E",
        "outputId": "84cf9363-cab3-410b-92cc-0026973d3467"
      },
      "source": [
        "print(\"# of NaN in every column\\n\", df_2.isnull().sum(axis = 0))"
      ],
      "execution_count": 10,
      "outputs": [
        {
          "output_type": "stream",
          "text": [
            "# of NaN in every column\n",
            " description        0\n",
            "price          13695\n",
            "dtype: int64\n"
          ],
          "name": "stdout"
        }
      ]
    },
    {
      "cell_type": "code",
      "metadata": {
        "colab": {
          "base_uri": "https://localhost:8080/",
          "height": 419
        },
        "id": "Vhphf8xCg1Xu",
        "outputId": "a9e68a42-e6f5-4862-edb4-a72e384aa217"
      },
      "source": [
        "# drop NaN\n",
        "df_2 = df_2.dropna()\n",
        "df_2"
      ],
      "execution_count": 11,
      "outputs": [
        {
          "output_type": "execute_result",
          "data": {
            "text/html": [
              "<div>\n",
              "<style scoped>\n",
              "    .dataframe tbody tr th:only-of-type {\n",
              "        vertical-align: middle;\n",
              "    }\n",
              "\n",
              "    .dataframe tbody tr th {\n",
              "        vertical-align: top;\n",
              "    }\n",
              "\n",
              "    .dataframe thead th {\n",
              "        text-align: right;\n",
              "    }\n",
              "</style>\n",
              "<table border=\"1\" class=\"dataframe\">\n",
              "  <thead>\n",
              "    <tr style=\"text-align: right;\">\n",
              "      <th></th>\n",
              "      <th>description</th>\n",
              "      <th>price</th>\n",
              "    </tr>\n",
              "  </thead>\n",
              "  <tbody>\n",
              "    <tr>\n",
              "      <th>0</th>\n",
              "      <td>This tremendous 100% varietal wine hails from ...</td>\n",
              "      <td>235.0</td>\n",
              "    </tr>\n",
              "    <tr>\n",
              "      <th>1</th>\n",
              "      <td>Ripe aromas of fig, blackberry and cassis are ...</td>\n",
              "      <td>110.0</td>\n",
              "    </tr>\n",
              "    <tr>\n",
              "      <th>2</th>\n",
              "      <td>Mac Watson honors the memory of a wine once ma...</td>\n",
              "      <td>90.0</td>\n",
              "    </tr>\n",
              "    <tr>\n",
              "      <th>3</th>\n",
              "      <td>This spent 20 months in 30% new French oak, an...</td>\n",
              "      <td>65.0</td>\n",
              "    </tr>\n",
              "    <tr>\n",
              "      <th>4</th>\n",
              "      <td>This is the top wine from La Bégude, named aft...</td>\n",
              "      <td>66.0</td>\n",
              "    </tr>\n",
              "    <tr>\n",
              "      <th>...</th>\n",
              "      <td>...</td>\n",
              "      <td>...</td>\n",
              "    </tr>\n",
              "    <tr>\n",
              "      <th>150925</th>\n",
              "      <td>Many people feel Fiano represents southern Ita...</td>\n",
              "      <td>20.0</td>\n",
              "    </tr>\n",
              "    <tr>\n",
              "      <th>150926</th>\n",
              "      <td>Offers an intriguing nose with ginger, lime an...</td>\n",
              "      <td>27.0</td>\n",
              "    </tr>\n",
              "    <tr>\n",
              "      <th>150927</th>\n",
              "      <td>This classic example comes from a cru vineyard...</td>\n",
              "      <td>20.0</td>\n",
              "    </tr>\n",
              "    <tr>\n",
              "      <th>150928</th>\n",
              "      <td>A perfect salmon shade, with scents of peaches...</td>\n",
              "      <td>52.0</td>\n",
              "    </tr>\n",
              "    <tr>\n",
              "      <th>150929</th>\n",
              "      <td>More Pinot Grigios should taste like this. A r...</td>\n",
              "      <td>15.0</td>\n",
              "    </tr>\n",
              "  </tbody>\n",
              "</table>\n",
              "<p>137235 rows × 2 columns</p>\n",
              "</div>"
            ],
            "text/plain": [
              "                                              description  price\n",
              "0       This tremendous 100% varietal wine hails from ...  235.0\n",
              "1       Ripe aromas of fig, blackberry and cassis are ...  110.0\n",
              "2       Mac Watson honors the memory of a wine once ma...   90.0\n",
              "3       This spent 20 months in 30% new French oak, an...   65.0\n",
              "4       This is the top wine from La Bégude, named aft...   66.0\n",
              "...                                                   ...    ...\n",
              "150925  Many people feel Fiano represents southern Ita...   20.0\n",
              "150926  Offers an intriguing nose with ginger, lime an...   27.0\n",
              "150927  This classic example comes from a cru vineyard...   20.0\n",
              "150928  A perfect salmon shade, with scents of peaches...   52.0\n",
              "150929  More Pinot Grigios should taste like this. A r...   15.0\n",
              "\n",
              "[137235 rows x 2 columns]"
            ]
          },
          "metadata": {
            "tags": []
          },
          "execution_count": 11
        }
      ]
    },
    {
      "cell_type": "code",
      "metadata": {
        "colab": {
          "base_uri": "https://localhost:8080/"
        },
        "id": "182ONnL6g1pD",
        "outputId": "4a174db2-72aa-4a49-a74d-f3e7602572f0"
      },
      "source": [
        "print(\"# of NaN in every column\\n\", df_2.isnull().sum(axis = 0))"
      ],
      "execution_count": 12,
      "outputs": [
        {
          "output_type": "stream",
          "text": [
            "# of NaN in every column\n",
            " description    0\n",
            "price          0\n",
            "dtype: int64\n"
          ],
          "name": "stdout"
        }
      ]
    },
    {
      "cell_type": "code",
      "metadata": {
        "colab": {
          "base_uri": "https://localhost:8080/",
          "height": 374
        },
        "id": "DdpRmohCg150",
        "outputId": "484df21f-a976-4923-c29d-0d861540c2a9"
      },
      "source": [
        "df_3 = df_2.assign(description_length = df_2['description'].apply(len))\n",
        "df_3.info()\n",
        "df_3.head()"
      ],
      "execution_count": 13,
      "outputs": [
        {
          "output_type": "stream",
          "text": [
            "<class 'pandas.core.frame.DataFrame'>\n",
            "Int64Index: 137235 entries, 0 to 150929\n",
            "Data columns (total 3 columns):\n",
            " #   Column              Non-Null Count   Dtype  \n",
            "---  ------              --------------   -----  \n",
            " 0   description         137235 non-null  object \n",
            " 1   price               137235 non-null  float64\n",
            " 2   description_length  137235 non-null  int64  \n",
            "dtypes: float64(1), int64(1), object(1)\n",
            "memory usage: 4.2+ MB\n"
          ],
          "name": "stdout"
        },
        {
          "output_type": "execute_result",
          "data": {
            "text/html": [
              "<div>\n",
              "<style scoped>\n",
              "    .dataframe tbody tr th:only-of-type {\n",
              "        vertical-align: middle;\n",
              "    }\n",
              "\n",
              "    .dataframe tbody tr th {\n",
              "        vertical-align: top;\n",
              "    }\n",
              "\n",
              "    .dataframe thead th {\n",
              "        text-align: right;\n",
              "    }\n",
              "</style>\n",
              "<table border=\"1\" class=\"dataframe\">\n",
              "  <thead>\n",
              "    <tr style=\"text-align: right;\">\n",
              "      <th></th>\n",
              "      <th>description</th>\n",
              "      <th>price</th>\n",
              "      <th>description_length</th>\n",
              "    </tr>\n",
              "  </thead>\n",
              "  <tbody>\n",
              "    <tr>\n",
              "      <th>0</th>\n",
              "      <td>This tremendous 100% varietal wine hails from ...</td>\n",
              "      <td>235.0</td>\n",
              "      <td>355</td>\n",
              "    </tr>\n",
              "    <tr>\n",
              "      <th>1</th>\n",
              "      <td>Ripe aromas of fig, blackberry and cassis are ...</td>\n",
              "      <td>110.0</td>\n",
              "      <td>318</td>\n",
              "    </tr>\n",
              "    <tr>\n",
              "      <th>2</th>\n",
              "      <td>Mac Watson honors the memory of a wine once ma...</td>\n",
              "      <td>90.0</td>\n",
              "      <td>280</td>\n",
              "    </tr>\n",
              "    <tr>\n",
              "      <th>3</th>\n",
              "      <td>This spent 20 months in 30% new French oak, an...</td>\n",
              "      <td>65.0</td>\n",
              "      <td>386</td>\n",
              "    </tr>\n",
              "    <tr>\n",
              "      <th>4</th>\n",
              "      <td>This is the top wine from La Bégude, named aft...</td>\n",
              "      <td>66.0</td>\n",
              "      <td>376</td>\n",
              "    </tr>\n",
              "  </tbody>\n",
              "</table>\n",
              "</div>"
            ],
            "text/plain": [
              "                                         description  price  description_length\n",
              "0  This tremendous 100% varietal wine hails from ...  235.0                 355\n",
              "1  Ripe aromas of fig, blackberry and cassis are ...  110.0                 318\n",
              "2  Mac Watson honors the memory of a wine once ma...   90.0                 280\n",
              "3  This spent 20 months in 30% new French oak, an...   65.0                 386\n",
              "4  This is the top wine from La Bégude, named aft...   66.0                 376"
            ]
          },
          "metadata": {
            "tags": []
          },
          "execution_count": 13
        }
      ]
    },
    {
      "cell_type": "code",
      "metadata": {
        "colab": {
          "base_uri": "https://localhost:8080/"
        },
        "id": "3pYNmusCrZ5H",
        "outputId": "a0d57e7d-1a1a-4056-a43a-66b9ac582845"
      },
      "source": [
        "# describe the price\n",
        "df_3['price'].describe()\n",
        "\n",
        "# nunuique for price\n",
        "df_3['price'].nunique()"
      ],
      "execution_count": 14,
      "outputs": [
        {
          "output_type": "execute_result",
          "data": {
            "text/plain": [
              "357"
            ]
          },
          "metadata": {
            "tags": []
          },
          "execution_count": 14
        }
      ]
    },
    {
      "cell_type": "code",
      "metadata": {
        "id": "ek8v61DQdvsR",
        "colab": {
          "base_uri": "https://localhost:8080/",
          "height": 204
        },
        "outputId": "4aceabc6-4c6c-4680-dae8-9de5ad5c82c4"
      },
      "source": [
        "# Bin the prices so the range of prices is more manageable for the model\n",
        "\n",
        "# BINS NUMBER: 1, Returns 74% Accuracy\n",
        "\n",
        "def price_bins(price):\n",
        "    if price < 35:\n",
        "        return 1\n",
        "    elif price >= 35 and price < 70:\n",
        "        return 2 \n",
        "    elif price >= 70 and price < 105:\n",
        "        return 3 \n",
        "    elif price >= 105 and price < 140:\n",
        "        return 5 \n",
        "    elif price >= 140 and price < 175:\n",
        "        return 6\n",
        "    elif price >= 175 and price < 210:\n",
        "        return 7\n",
        "    elif price >= 210 and price < 245:\n",
        "        return 8\n",
        "    elif price >= 245 and price < 280:\n",
        "        return 9\n",
        "    elif price >= 280 and price < 315:\n",
        "        return 10\n",
        "    elif price >= 315 and price < 350:\n",
        "        return 11\n",
        "    elif price >= 350 and price < 385:\n",
        "        return 12\n",
        "    elif price >= 385 and price < 420:\n",
        "        return 13\n",
        "    elif price >= 420 and price < 455:\n",
        "        return 14\n",
        "    elif price >= 455 and price < 490:\n",
        "        return 15\n",
        "    elif price >= 490 and price < 525:\n",
        "        return 16\n",
        "    elif price >= 525 and price < 560:\n",
        "        return 17\n",
        "    elif price >= 560 and price < 595:\n",
        "        return 18\n",
        "    elif price >= 595 and price < 630:\n",
        "        return 19\n",
        "    elif price >= 630 and price < 665:\n",
        "        return 20\n",
        "    elif price >= 665 and price < 700:\n",
        "        return 21\n",
        "    else:\n",
        "        return 22\n",
        "\n",
        "# # #Applying transform method and assigning result to new column \"points_simplified\"\n",
        "df_3 = df_3.assign(price_grouped = df_3['price'].apply(price_bins))\n",
        "df_3.head()\n",
        "\n"
      ],
      "execution_count": 15,
      "outputs": [
        {
          "output_type": "execute_result",
          "data": {
            "text/html": [
              "<div>\n",
              "<style scoped>\n",
              "    .dataframe tbody tr th:only-of-type {\n",
              "        vertical-align: middle;\n",
              "    }\n",
              "\n",
              "    .dataframe tbody tr th {\n",
              "        vertical-align: top;\n",
              "    }\n",
              "\n",
              "    .dataframe thead th {\n",
              "        text-align: right;\n",
              "    }\n",
              "</style>\n",
              "<table border=\"1\" class=\"dataframe\">\n",
              "  <thead>\n",
              "    <tr style=\"text-align: right;\">\n",
              "      <th></th>\n",
              "      <th>description</th>\n",
              "      <th>price</th>\n",
              "      <th>description_length</th>\n",
              "      <th>price_grouped</th>\n",
              "    </tr>\n",
              "  </thead>\n",
              "  <tbody>\n",
              "    <tr>\n",
              "      <th>0</th>\n",
              "      <td>This tremendous 100% varietal wine hails from ...</td>\n",
              "      <td>235.0</td>\n",
              "      <td>355</td>\n",
              "      <td>8</td>\n",
              "    </tr>\n",
              "    <tr>\n",
              "      <th>1</th>\n",
              "      <td>Ripe aromas of fig, blackberry and cassis are ...</td>\n",
              "      <td>110.0</td>\n",
              "      <td>318</td>\n",
              "      <td>5</td>\n",
              "    </tr>\n",
              "    <tr>\n",
              "      <th>2</th>\n",
              "      <td>Mac Watson honors the memory of a wine once ma...</td>\n",
              "      <td>90.0</td>\n",
              "      <td>280</td>\n",
              "      <td>3</td>\n",
              "    </tr>\n",
              "    <tr>\n",
              "      <th>3</th>\n",
              "      <td>This spent 20 months in 30% new French oak, an...</td>\n",
              "      <td>65.0</td>\n",
              "      <td>386</td>\n",
              "      <td>2</td>\n",
              "    </tr>\n",
              "    <tr>\n",
              "      <th>4</th>\n",
              "      <td>This is the top wine from La Bégude, named aft...</td>\n",
              "      <td>66.0</td>\n",
              "      <td>376</td>\n",
              "      <td>2</td>\n",
              "    </tr>\n",
              "  </tbody>\n",
              "</table>\n",
              "</div>"
            ],
            "text/plain": [
              "                                         description  ...  price_grouped\n",
              "0  This tremendous 100% varietal wine hails from ...  ...              8\n",
              "1  Ripe aromas of fig, blackberry and cassis are ...  ...              5\n",
              "2  Mac Watson honors the memory of a wine once ma...  ...              3\n",
              "3  This spent 20 months in 30% new French oak, an...  ...              2\n",
              "4  This is the top wine from La Bégude, named aft...  ...              2\n",
              "\n",
              "[5 rows x 4 columns]"
            ]
          },
          "metadata": {
            "tags": []
          },
          "execution_count": 15
        }
      ]
    },
    {
      "cell_type": "code",
      "metadata": {
        "id": "UAy-fNtChs0Y"
      },
      "source": [
        "# # ALTERNATIVE BINS MODEL NUMBER: 2, Returns 83% Accuracy\n",
        "\n",
        "# def price_bins_2(price):\n",
        "#     if price < 50:\n",
        "#         return 1\n",
        "#     elif price >= 50 and price < 100:\n",
        "#         return 2\n",
        "#     elif price >= 100 and price < 150:\n",
        "#         return 3\n",
        "#     elif price >= 150 and price < 200:\n",
        "#         return 4\n",
        "#     elif price >= 200 and price < 250:\n",
        "#         return 5\n",
        "#     elif price >= 250 and price < 300:\n",
        "#         return 6\n",
        "#     elif price >= 300 and price < 350:\n",
        "#         return 7\n",
        "#     elif price >= 350 and price < 400:\n",
        "#         return 8\n",
        "#     elif price >= 400 and price < 450:\n",
        "#         return 9\n",
        "#     elif price >= 450 and price < 500:\n",
        "#         return 10\n",
        "#     elif price >= 500 and price < 550:\n",
        "#         return 11\n",
        "#     elif price >= 550 and price < 600:\n",
        "#         return 12\n",
        "#     elif price >= 600 and price < 650:\n",
        "#         return 13\n",
        "#     elif price >= 650 and price < 700:\n",
        "#         return 14\n",
        "#     else:\n",
        "#         return 15\n",
        "\n",
        "# #Applying transform method and assigning result to new column \"points_simplified\"\n",
        "# df_3 = df_3.assign(price_grouped = df_3['price'].apply(price_bins_2))\n",
        "# df_3.head()"
      ],
      "execution_count": 16,
      "outputs": []
    },
    {
      "cell_type": "code",
      "metadata": {
        "id": "vrUrvbIUrgAc"
      },
      "source": [
        "# # ALTERNATIVE BINS MODEL NUMBER: 3, Returns 92% Accuracy\n",
        "\n",
        "# def price_bins_3(price):\n",
        "#     if price < 75:\n",
        "#         return 1\n",
        "#     elif price >= 75 and price < 150:\n",
        "#         return 2\n",
        "#     elif price >= 150 and price < 225:\n",
        "#         return 3\n",
        "#     elif price >= 225 and price < 300:\n",
        "#         return 4\n",
        "#     elif price >= 300 and price < 375:\n",
        "#         return 5\n",
        "#     elif price >= 375 and price < 450:\n",
        "#         return 6\n",
        "#     elif price >= 450 and price < 525:\n",
        "#         return 7\n",
        "#     elif price >= 525 and price < 600:\n",
        "#         return 8\n",
        "#     elif price >= 600 and price < 675:\n",
        "#         return 9\n",
        "#     else:\n",
        "#         return 10\n",
        "\n",
        "# #Applying transform method and assigning result to new column \"points_simplified\"\n",
        "# df_3 = df_3.assign(price_grouped = df_3['price'].apply(price_bins_3))\n",
        "# df_3.head()"
      ],
      "execution_count": 17,
      "outputs": []
    },
    {
      "cell_type": "code",
      "metadata": {
        "id": "USXIDQPTpWhD"
      },
      "source": [
        "# # ALTERNATIVE BINS MODEL NUMBER: 4, Returns 96% Accuracy\n",
        "\n",
        "# def price_bins_4(price):\n",
        "#     if price < 100:\n",
        "#         return 1\n",
        "#     elif price >= 100 and price < 200:\n",
        "#         return 2\n",
        "#     elif price >= 200 and price < 300:\n",
        "#         return 3\n",
        "#     elif price >= 300 and price < 400:\n",
        "#         return 4\n",
        "#     elif price >= 400 and price < 500:\n",
        "#         return 5\n",
        "#     elif price >= 500 and price < 600:\n",
        "#         return 6\n",
        "#     elif price >= 600 and price < 700:\n",
        "#         return 7\n",
        "#     else:\n",
        "#         return 8\n",
        "\n",
        "# # #Applying transform method and assigning result to new column \"points_simplified\"\n",
        "# df_3 = df_3.assign(price_grouped = df_3['price'].apply(price_bins_4))\n",
        "# df_3.head()"
      ],
      "execution_count": 18,
      "outputs": []
    },
    {
      "cell_type": "code",
      "metadata": {
        "id": "DNU7Mo3h61LH"
      },
      "source": [
        ""
      ],
      "execution_count": 18,
      "outputs": []
    },
    {
      "cell_type": "code",
      "metadata": {
        "id": "OfRcFzCp62xR"
      },
      "source": [
        "# # ALTERNATIVE BINS MODEL NUMBER: 5, Returns 50% Accuracy\n",
        "\n",
        "# USE for histogram, IT shows the distribution is mainly consisting of wines less than $100\n",
        "\n",
        "# def price_bins_5(price):\n",
        "#     if price < 10:\n",
        "#         return 1\n",
        "#     elif price >= 10 and price < 20:\n",
        "#         return 2\n",
        "#     elif price >= 20 and price < 30:\n",
        "#         return 3\n",
        "#     elif price >= 30 and price < 40:\n",
        "#         return 4\n",
        "#     elif price >= 40 and price < 50:\n",
        "#         return 5\n",
        "#     elif price >= 50 and price < 60:\n",
        "#         return 6\n",
        "#     elif price >= 60 and price < 70:\n",
        "#         return 7\n",
        "#     elif price >= 70 and price < 80:\n",
        "#         return 8\n",
        "#     elif price >= 80 and price < 90:\n",
        "#         return 9\n",
        "#     elif price >= 90 and price < 100:\n",
        "#         return 10\n",
        "#     else:\n",
        "#         return 11\n",
        "\n",
        "# # #Applying transform method and assigning result to new column \"points_simplified\"\n",
        "# df_3 = df_3.assign(price_grouped = df_3['price'].apply(price_bins_5))\n",
        "# df_3.head()"
      ],
      "execution_count": 19,
      "outputs": []
    },
    {
      "cell_type": "code",
      "metadata": {
        "colab": {
          "base_uri": "https://localhost:8080/",
          "height": 297
        },
        "id": "me7qKsDs1uRm",
        "outputId": "d10a90d1-3436-4fbf-c012-5b9949f94641"
      },
      "source": [
        "# Histogram\n",
        "bins = df_3['price_grouped'].nunique()\n",
        "\n",
        "\n",
        "sns.histplot(data=df_3, x=\"price_grouped\", element=\"step\")\n"
      ],
      "execution_count": 20,
      "outputs": [
        {
          "output_type": "execute_result",
          "data": {
            "text/plain": [
              "<matplotlib.axes._subplots.AxesSubplot at 0x7fd1af3a2240>"
            ]
          },
          "metadata": {
            "tags": []
          },
          "execution_count": 20
        },
        {
          "output_type": "display_data",
          "data": {
            "image/png": "[encoded data removed]",
            "text/plain": [
              "<Figure size 432x288 with 1 Axes>"
            ]
          },
          "metadata": {
            "tags": [],
            "needs_background": "light"
          }
        }
      ]
    },
    {
      "cell_type": "markdown",
      "metadata": {
        "id": "2qNWpauxvlMo"
      },
      "source": [
        "Converting the Pandas Dataframe to a Pyspark Dataframe \n"
      ]
    },
    {
      "cell_type": "code",
      "metadata": {
        "id": "cGzHswBXg50j",
        "colab": {
          "base_uri": "https://localhost:8080/"
        },
        "outputId": "bd03e7c5-c677-4e42-e455-ffde1c5fc10b"
      },
      "source": [
        "\n",
        "# Pandas to Spark\n",
        "wine_DF = spark.createDataFrame(df_3)\n",
        "\n",
        "wine_DF.show()"
      ],
      "execution_count": 21,
      "outputs": [
        {
          "output_type": "stream",
          "text": [
            "+--------------------+-----+------------------+-------------+\n",
            "|         description|price|description_length|price_grouped|\n",
            "+--------------------+-----+------------------+-------------+\n",
            "|This tremendous 1...|235.0|               355|            8|\n",
            "|Ripe aromas of fi...|110.0|               318|            5|\n",
            "|Mac Watson honors...| 90.0|               280|            3|\n",
            "|This spent 20 mon...| 65.0|               386|            2|\n",
            "|This is the top w...| 66.0|               376|            2|\n",
            "|Deep, dense and p...| 73.0|               315|            3|\n",
            "|Slightly gritty b...| 65.0|               319|            2|\n",
            "|Lush cedary black...|110.0|               357|            5|\n",
            "|This re-named vin...| 65.0|               298|            2|\n",
            "|The producer sour...| 60.0|               307|            2|\n",
            "|Elegance, complex...| 80.0|               374|            3|\n",
            "|From 18-year-old ...| 48.0|               260|            2|\n",
            "|A standout even i...| 48.0|               289|            2|\n",
            "|This wine is in p...| 90.0|               303|            3|\n",
            "|With its sophisti...|185.0|               427|            7|\n",
            "|First made in 200...| 90.0|               277|            3|\n",
            "|This blockbuster,...|325.0|               276|           11|\n",
            "|Nicely oaked blac...| 80.0|               338|            3|\n",
            "|Coming from a sev...|290.0|               372|           10|\n",
            "|This fresh and li...| 75.0|               260|            3|\n",
            "+--------------------+-----+------------------+-------------+\n",
            "only showing top 20 rows\n",
            "\n"
          ],
          "name": "stdout"
        }
      ]
    },
    {
      "cell_type": "code",
      "metadata": {
        "id": "WnSkv1o-oR9v",
        "colab": {
          "base_uri": "https://localhost:8080/"
        },
        "outputId": "5d5f3165-531e-4a5d-cc26-34629fed1fed"
      },
      "source": [
        "# find the number of missing values per column\n",
        "from pyspark.sql.functions import isnan, when, count, col, isnull\n",
        "\n",
        "wine_DF.select([count(when(isnull(j), j)).alias(j) for j in wine_DF.columns]).show()\n"
      ],
      "execution_count": 22,
      "outputs": [
        {
          "output_type": "stream",
          "text": [
            "+-----------+-----+------------------+-------------+\n",
            "|description|price|description_length|price_grouped|\n",
            "+-----------+-----+------------------+-------------+\n",
            "|          0|    0|                 0|            0|\n",
            "+-----------+-----+------------------+-------------+\n",
            "\n"
          ],
          "name": "stdout"
        }
      ]
    },
    {
      "cell_type": "markdown",
      "metadata": {
        "id": "wXYm8gqEjJH3"
      },
      "source": [
        "Feeding the NLP model to catagorize the wines into price points\n"
      ]
    },
    {
      "cell_type": "code",
      "metadata": {
        "id": "mNyUIYQXp7af"
      },
      "source": [
        "from pyspark.ml.feature import Tokenizer, StopWordsRemover, HashingTF, IDF, StringIndexer\n",
        "# Create all the features to the data set\n",
        "wine_prices = StringIndexer(inputCol='price_grouped',outputCol='label')\n",
        "tokenizer = Tokenizer(inputCol=\"description\", outputCol=\"token_text\")\n",
        "stopremove = StopWordsRemover(inputCol='token_text',outputCol='stop_tokens')\n",
        "hashingTF = HashingTF(inputCol=\"stop_tokens\", outputCol='hash_token')\n",
        "idf = IDF(inputCol='hash_token', outputCol='idf_token')\n",
        "\n"
      ],
      "execution_count": 23,
      "outputs": []
    },
    {
      "cell_type": "code",
      "metadata": {
        "id": "L1RUBS6FR-eQ"
      },
      "source": [
        "from pyspark.ml.feature import VectorAssembler\n",
        "from pyspark.ml.linalg import Vector\n",
        "\n",
        "# Create feature vectors\n",
        "clean_up = VectorAssembler(inputCols=['idf_token', 'description_length'], outputCol='features')"
      ],
      "execution_count": 24,
      "outputs": []
    },
    {
      "cell_type": "code",
      "metadata": {
        "id": "gvpAP7aCp7-R"
      },
      "source": [
        "# Create a and run a data processing Pipeline\n",
        "from pyspark.ml import Pipeline\n",
        "data_prep_pipeline = Pipeline(stages=[wine_prices, tokenizer, stopremove, hashingTF, idf, clean_up])"
      ],
      "execution_count": 25,
      "outputs": []
    },
    {
      "cell_type": "code",
      "metadata": {
        "id": "9uQ3YTrbp433"
      },
      "source": [
        "# fit n transform pipeline\n",
        "cleaner = data_prep_pipeline.fit(wine_DF)\n",
        "cleaned = cleaner.transform(wine_DF)\n",
        "\n",
        "\n"
      ],
      "execution_count": 26,
      "outputs": []
    },
    {
      "cell_type": "code",
      "metadata": {
        "id": "MkdA8p83ZHhE",
        "colab": {
          "base_uri": "https://localhost:8080/"
        },
        "outputId": "3a09c63d-5d7f-4bbf-a040-d4c30c688b23"
      },
      "source": [
        "# Show label and resulting features\n",
        "cleaned.select(['label', 'features']).show()"
      ],
      "execution_count": 27,
      "outputs": [
        {
          "output_type": "stream",
          "text": [
            "+-----+--------------------+\n",
            "|label|            features|\n",
            "+-----+--------------------+\n",
            "|  6.0|(262145,[2701,160...|\n",
            "|  3.0|(262145,[11481,33...|\n",
            "|  2.0|(262145,[10077,26...|\n",
            "|  1.0|(262145,[1546,423...|\n",
            "|  1.0|(262145,[1546,171...|\n",
            "|  2.0|(262145,[8408,181...|\n",
            "|  1.0|(262145,[5561,196...|\n",
            "|  3.0|(262145,[4235,315...|\n",
            "|  1.0|(262145,[2306,316...|\n",
            "|  1.0|(262145,[3354,415...|\n",
            "|  2.0|(262145,[3848,939...|\n",
            "|  1.0|(262145,[3456,215...|\n",
            "|  1.0|(262145,[4176,894...|\n",
            "|  2.0|(262145,[8297,120...|\n",
            "|  5.0|(262145,[5847,160...|\n",
            "|  2.0|(262145,[1546,439...|\n",
            "| 10.0|(262145,[18911,55...|\n",
            "|  2.0|(262145,[2701,104...|\n",
            "|  8.0|(262145,[1546,544...|\n",
            "|  2.0|(262145,[3572,190...|\n",
            "+-----+--------------------+\n",
            "only showing top 20 rows\n",
            "\n"
          ],
          "name": "stdout"
        }
      ]
    },
    {
      "cell_type": "code",
      "metadata": {
        "id": "W5Key6f9ZVoc"
      },
      "source": [
        "\n",
        "from pyspark.ml.classification import NaiveBayes\n",
        "\n",
        "# Break data down into a training set and a testing set\n",
        "training, testing = cleaned.randomSplit([0.7, 0.3])\n",
        "\n",
        "# Create a Naive Bayes model and fit training data\n",
        "nb = NaiveBayes()\n",
        "predictor = nb.fit(training)\n"
      ],
      "execution_count": 28,
      "outputs": []
    },
    {
      "cell_type": "code",
      "metadata": {
        "id": "JB3qQD1yZfIA",
        "colab": {
          "base_uri": "https://localhost:8080/"
        },
        "outputId": "90d217d4-66ab-4c99-89d3-2c0888fa6d46"
      },
      "source": [
        "\n",
        "# Tranform the model with the testing data\n",
        "test_results = predictor.transform(testing)\n",
        "test_results.show(5)"
      ],
      "execution_count": 29,
      "outputs": [
        {
          "output_type": "stream",
          "text": [
            "+--------------------+-----+------------------+-------------+-----+--------------------+--------------------+--------------------+--------------------+--------------------+--------------------+--------------------+----------+\n",
            "|         description|price|description_length|price_grouped|label|          token_text|         stop_tokens|          hash_token|           idf_token|            features|       rawPrediction|         probability|prediction|\n",
            "+--------------------+-----+------------------+-------------+-----+--------------------+--------------------+--------------------+--------------------+--------------------+--------------------+--------------------+----------+\n",
            "|). Very good wine...| 47.0|               344|            2|  1.0|[)., very, good, ...|[)., good, wine, ...|(262144,[10564,13...|(262144,[10564,13...|(262145,[10564,13...|[-1747.1634610575...|[4.01019129056183...|       1.0|\n",
            "|. Pencil eraser, ...|  9.0|               202|            1|  0.0|[., pencil, erase...|[., pencil, erase...|(262144,[45404,46...|(262144,[45404,46...|(262145,[45404,46...|[-988.93489539149...|[0.99999999996809...|       0.0|\n",
            "|. Raw and leather...| 11.0|               114|            1|  0.0|[., raw, and, lea...|[., raw, leathery...|(262144,[1689,244...|(262144,[1689,244...|(262145,[1689,244...|[-744.28538124657...|[0.99960110028490...|       0.0|\n",
            "|. This rich and o...| 50.0|               291|            2|  1.0|[., this, rich, a...|[., rich, opulent...|(262144,[10044,10...|(262144,[10044,10...|(262145,[10044,10...|[-1394.8381773522...|[1.08137921497566...|       1.0|\n",
            "|. This rich and o...| 50.0|               291|            2|  1.0|[., this, rich, a...|[., rich, opulent...|(262144,[10044,10...|(262144,[10044,10...|(262145,[10044,10...|[-1394.8381773522...|[1.08137921497566...|       1.0|\n",
            "+--------------------+-----+------------------+-------------+-----+--------------------+--------------------+--------------------+--------------------+--------------------+--------------------+--------------------+----------+\n",
            "only showing top 5 rows\n",
            "\n"
          ],
          "name": "stdout"
        }
      ]
    },
    {
      "cell_type": "code",
      "metadata": {
        "id": "Z9ij2aOvc5ct",
        "colab": {
          "base_uri": "https://localhost:8080/"
        },
        "outputId": "b5632279-60d2-4c26-9e61-7994291ec3a9"
      },
      "source": [
        "# Use the Class Evaluator for a cleaner description\n",
        "from pyspark.ml.evaluation import MulticlassClassificationEvaluator\n",
        "\n",
        "acc_eval = MulticlassClassificationEvaluator()\n",
        "acc = acc_eval.evaluate(test_results)\n",
        "print(\"Accuracy of model at predicting the wine's price was: %f\" % acc)"
      ],
      "execution_count": 30,
      "outputs": [
        {
          "output_type": "stream",
          "text": [
            "Accuracy of model at predicting the wine's price was: 0.744393\n"
          ],
          "name": "stdout"
        }
      ]
    },
    {
      "cell_type": "code",
      "metadata": {
        "id": "-iBm-GTiuHdc"
      },
      "source": [
        ""
      ],
      "execution_count": 30,
      "outputs": []
    }
  ]
}