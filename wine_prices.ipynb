{
  "nbformat": 4,
  "nbformat_minor": 0,
  "metadata": {
    "colab": {
      "name": "wine_prices.ipynb",
      "provenance": [],
      "collapsed_sections": [],
      "mount_file_id": "1FCQhy1CgSuQPSkLHYFCng0ylqNg3w050",
      "authorship_tag": "ABX9TyN1B+kMr41YX7fwczQm5QyT",
      "include_colab_link": true
    },
    "kernelspec": {
      "name": "python3",
      "display_name": "Python 3"
    }
  },
  "cells": [
    {
      "cell_type": "markdown",
      "metadata": {
        "id": "view-in-github",
        "colab_type": "text"
      },
      "source": [
        "<a href=\"https://colab.research.google.com/github/pkrosoff/wine_machine_learning/blob/kelly_branch/wine_prices.ipynb\" target=\"_parent\"><img src=\"https://colab.research.google.com/assets/colab-badge.svg\" alt=\"Open In Colab\"/></a>"
      ]
    },
    {
      "cell_type": "code",
      "metadata": {
        "colab": {
          "base_uri": "https://localhost:8080/"
        },
        "id": "VH2QgC9r11HM",
        "outputId": "ec1be6d5-8ac7-4dda-aaef-f616ab00aa50"
      },
      "source": [
        "import os\n",
        "# Find the latest version of spark 3.0  from http://www-us.apache.org/dist/spark/ and enter as the spark version\n",
        "# For example:\n",
        "spark_version = 'spark-3.0.1'\n",
        "# spark_version = 'spark-3.<enter version>'\n",
        "os.environ['SPARK_VERSION']=spark_version\n",
        "\n",
        "# Install Spark and Java\n",
        "!apt-get update\n",
        "!apt-get install openjdk-11-jdk-headless -qq > /dev/null\n",
        "!wget -q http://www-us.apache.org/dist/spark/$SPARK_VERSION/$SPARK_VERSION-bin-hadoop2.7.tgz\n",
        "!tar xf $SPARK_VERSION-bin-hadoop2.7.tgz\n",
        "!pip install -q findspark\n",
        "\n",
        "# Set Environment Variables\n",
        "os.environ[\"JAVA_HOME\"] = \"/usr/lib/jvm/java-11-openjdk-amd64\"\n",
        "os.environ[\"SPARK_HOME\"] = f\"/content/{spark_version}-bin-hadoop2.7\"\n",
        "\n",
        "# Start a SparkSession\n",
        "import findspark\n",
        "findspark.init()"
      ],
      "execution_count": 1,
      "outputs": [
        {
          "output_type": "stream",
          "text": [
            "\r0% [Working]\r            \rIgn:1 https://developer.download.nvidia.com/compute/cuda/repos/ubuntu1804/x86_64  InRelease\n",
            "\r0% [Connecting to archive.ubuntu.com (91.189.88.152)] [Connecting to security.u\r                                                                               \rHit:2 https://cloud.r-project.org/bin/linux/ubuntu bionic-cran40/ InRelease\n",
            "\r0% [Connecting to archive.ubuntu.com (91.189.88.152)] [Connecting to security.u\r0% [2 InRelease gpgv 3,626 B] [Connecting to archive.ubuntu.com (91.189.88.152)\r                                                                               \rIgn:3 https://developer.download.nvidia.com/compute/machine-learning/repos/ubuntu1804/x86_64  InRelease\n",
            "Hit:4 https://developer.download.nvidia.com/compute/cuda/repos/ubuntu1804/x86_64  Release\n",
            "Hit:5 https://developer.download.nvidia.com/compute/machine-learning/repos/ubuntu1804/x86_64  Release\n",
            "Get:6 http://ppa.launchpad.net/c2d4u.team/c2d4u4.0+/ubuntu bionic InRelease [15.9 kB]\n",
            "Get:7 http://security.ubuntu.com/ubuntu bionic-security InRelease [88.7 kB]\n",
            "Hit:8 http://archive.ubuntu.com/ubuntu bionic InRelease\n",
            "Get:9 http://archive.ubuntu.com/ubuntu bionic-updates InRelease [88.7 kB]\n",
            "Hit:11 http://ppa.launchpad.net/graphics-drivers/ppa/ubuntu bionic InRelease\n",
            "Get:13 http://archive.ubuntu.com/ubuntu bionic-backports InRelease [74.6 kB]\n",
            "Get:14 http://ppa.launchpad.net/c2d4u.team/c2d4u4.0+/ubuntu bionic/main Sources [1,691 kB]\n",
            "Get:15 http://ppa.launchpad.net/c2d4u.team/c2d4u4.0+/ubuntu bionic/main amd64 Packages [866 kB]\n",
            "Fetched 2,824 kB in 3s (902 kB/s)\n",
            "Reading package lists... Done\n"
          ],
          "name": "stdout"
        }
      ]
    },
    {
      "cell_type": "code",
      "metadata": {
        "id": "t8_9nT_F5N1M"
      },
      "source": [
        "# Start Spark session\n",
        "from pyspark.sql import SparkSession\n",
        "spark = SparkSession.builder.appName(\"wine_hashing\").getOrCreate()"
      ],
      "execution_count": 2,
      "outputs": []
    },
    {
      "cell_type": "code",
      "metadata": {
        "id": "pEQfRAGJ5cG5"
      },
      "source": [
        "from pyspark.ml.feature import HashingTF, IDF, Tokenizer, StopWordsRemover\n",
        "from google.colab import drive\n",
        "import pandas as pd\n",
        "import numpy as np\n",
        "import matplotlib.pyplot as plt\n",
        "\n",
        "from pyspark.sql.functions import regexp_replace, col\n"
      ],
      "execution_count": 3,
      "outputs": []
    },
    {
      "cell_type": "code",
      "metadata": {
        "id": "mDUw_mUxGNPU"
      },
      "source": [
        "# from pyspark import SparkFiles\n",
        "# path =\"/content/drive/MyDrive/winemag-data_first150k.csv\"\n",
        "# spark.sparkContext.addFile(path)\n",
        "# df = spark.read.csv(SparkFiles.get(\"winemag-data_first150k.csv\"), sep=\",\", header=True)\n",
        "\n",
        "path = \"/content/drive/MyDrive/winemag-data_first150k.csv\"\n",
        "df = pd.read_csv(path)"
      ],
      "execution_count": 4,
      "outputs": []
    },
    {
      "cell_type": "code",
      "metadata": {
        "colab": {
          "base_uri": "https://localhost:8080/",
          "height": 666
        },
        "id": "y0EqeL4MXMyY",
        "outputId": "fd241323-0bcc-4850-e827-22f8e8b7f428"
      },
      "source": [
        "df\n"
      ],
      "execution_count": 5,
      "outputs": [
        {
          "output_type": "execute_result",
          "data": {
            "text/html": [
              "<div>\n",
              "<style scoped>\n",
              "    .dataframe tbody tr th:only-of-type {\n",
              "        vertical-align: middle;\n",
              "    }\n",
              "\n",
              "    .dataframe tbody tr th {\n",
              "        vertical-align: top;\n",
              "    }\n",
              "\n",
              "    .dataframe thead th {\n",
              "        text-align: right;\n",
              "    }\n",
              "</style>\n",
              "<table border=\"1\" class=\"dataframe\">\n",
              "  <thead>\n",
              "    <tr style=\"text-align: right;\">\n",
              "      <th></th>\n",
              "      <th>Unnamed: 0</th>\n",
              "      <th>country</th>\n",
              "      <th>description</th>\n",
              "      <th>designation</th>\n",
              "      <th>points</th>\n",
              "      <th>price</th>\n",
              "      <th>province</th>\n",
              "      <th>region_1</th>\n",
              "      <th>region_2</th>\n",
              "      <th>variety</th>\n",
              "      <th>winery</th>\n",
              "    </tr>\n",
              "  </thead>\n",
              "  <tbody>\n",
              "    <tr>\n",
              "      <th>0</th>\n",
              "      <td>0</td>\n",
              "      <td>US</td>\n",
              "      <td>This tremendous 100% varietal wine hails from ...</td>\n",
              "      <td>Martha's Vineyard</td>\n",
              "      <td>96</td>\n",
              "      <td>235.0</td>\n",
              "      <td>California</td>\n",
              "      <td>Napa Valley</td>\n",
              "      <td>Napa</td>\n",
              "      <td>Cabernet Sauvignon</td>\n",
              "      <td>Heitz</td>\n",
              "    </tr>\n",
              "    <tr>\n",
              "      <th>1</th>\n",
              "      <td>1</td>\n",
              "      <td>Spain</td>\n",
              "      <td>Ripe aromas of fig, blackberry and cassis are ...</td>\n",
              "      <td>Carodorum Selección Especial Reserva</td>\n",
              "      <td>96</td>\n",
              "      <td>110.0</td>\n",
              "      <td>Northern Spain</td>\n",
              "      <td>Toro</td>\n",
              "      <td>NaN</td>\n",
              "      <td>Tinta de Toro</td>\n",
              "      <td>Bodega Carmen Rodríguez</td>\n",
              "    </tr>\n",
              "    <tr>\n",
              "      <th>2</th>\n",
              "      <td>2</td>\n",
              "      <td>US</td>\n",
              "      <td>Mac Watson honors the memory of a wine once ma...</td>\n",
              "      <td>Special Selected Late Harvest</td>\n",
              "      <td>96</td>\n",
              "      <td>90.0</td>\n",
              "      <td>California</td>\n",
              "      <td>Knights Valley</td>\n",
              "      <td>Sonoma</td>\n",
              "      <td>Sauvignon Blanc</td>\n",
              "      <td>Macauley</td>\n",
              "    </tr>\n",
              "    <tr>\n",
              "      <th>3</th>\n",
              "      <td>3</td>\n",
              "      <td>US</td>\n",
              "      <td>This spent 20 months in 30% new French oak, an...</td>\n",
              "      <td>Reserve</td>\n",
              "      <td>96</td>\n",
              "      <td>65.0</td>\n",
              "      <td>Oregon</td>\n",
              "      <td>Willamette Valley</td>\n",
              "      <td>Willamette Valley</td>\n",
              "      <td>Pinot Noir</td>\n",
              "      <td>Ponzi</td>\n",
              "    </tr>\n",
              "    <tr>\n",
              "      <th>4</th>\n",
              "      <td>4</td>\n",
              "      <td>France</td>\n",
              "      <td>This is the top wine from La Bégude, named aft...</td>\n",
              "      <td>La Brûlade</td>\n",
              "      <td>95</td>\n",
              "      <td>66.0</td>\n",
              "      <td>Provence</td>\n",
              "      <td>Bandol</td>\n",
              "      <td>NaN</td>\n",
              "      <td>Provence red blend</td>\n",
              "      <td>Domaine de la Bégude</td>\n",
              "    </tr>\n",
              "    <tr>\n",
              "      <th>...</th>\n",
              "      <td>...</td>\n",
              "      <td>...</td>\n",
              "      <td>...</td>\n",
              "      <td>...</td>\n",
              "      <td>...</td>\n",
              "      <td>...</td>\n",
              "      <td>...</td>\n",
              "      <td>...</td>\n",
              "      <td>...</td>\n",
              "      <td>...</td>\n",
              "      <td>...</td>\n",
              "    </tr>\n",
              "    <tr>\n",
              "      <th>150925</th>\n",
              "      <td>150925</td>\n",
              "      <td>Italy</td>\n",
              "      <td>Many people feel Fiano represents southern Ita...</td>\n",
              "      <td>NaN</td>\n",
              "      <td>91</td>\n",
              "      <td>20.0</td>\n",
              "      <td>Southern Italy</td>\n",
              "      <td>Fiano di Avellino</td>\n",
              "      <td>NaN</td>\n",
              "      <td>White Blend</td>\n",
              "      <td>Feudi di San Gregorio</td>\n",
              "    </tr>\n",
              "    <tr>\n",
              "      <th>150926</th>\n",
              "      <td>150926</td>\n",
              "      <td>France</td>\n",
              "      <td>Offers an intriguing nose with ginger, lime an...</td>\n",
              "      <td>Cuvée Prestige</td>\n",
              "      <td>91</td>\n",
              "      <td>27.0</td>\n",
              "      <td>Champagne</td>\n",
              "      <td>Champagne</td>\n",
              "      <td>NaN</td>\n",
              "      <td>Champagne Blend</td>\n",
              "      <td>H.Germain</td>\n",
              "    </tr>\n",
              "    <tr>\n",
              "      <th>150927</th>\n",
              "      <td>150927</td>\n",
              "      <td>Italy</td>\n",
              "      <td>This classic example comes from a cru vineyard...</td>\n",
              "      <td>Terre di Dora</td>\n",
              "      <td>91</td>\n",
              "      <td>20.0</td>\n",
              "      <td>Southern Italy</td>\n",
              "      <td>Fiano di Avellino</td>\n",
              "      <td>NaN</td>\n",
              "      <td>White Blend</td>\n",
              "      <td>Terredora</td>\n",
              "    </tr>\n",
              "    <tr>\n",
              "      <th>150928</th>\n",
              "      <td>150928</td>\n",
              "      <td>France</td>\n",
              "      <td>A perfect salmon shade, with scents of peaches...</td>\n",
              "      <td>Grand Brut Rosé</td>\n",
              "      <td>90</td>\n",
              "      <td>52.0</td>\n",
              "      <td>Champagne</td>\n",
              "      <td>Champagne</td>\n",
              "      <td>NaN</td>\n",
              "      <td>Champagne Blend</td>\n",
              "      <td>Gosset</td>\n",
              "    </tr>\n",
              "    <tr>\n",
              "      <th>150929</th>\n",
              "      <td>150929</td>\n",
              "      <td>Italy</td>\n",
              "      <td>More Pinot Grigios should taste like this. A r...</td>\n",
              "      <td>NaN</td>\n",
              "      <td>90</td>\n",
              "      <td>15.0</td>\n",
              "      <td>Northeastern Italy</td>\n",
              "      <td>Alto Adige</td>\n",
              "      <td>NaN</td>\n",
              "      <td>Pinot Grigio</td>\n",
              "      <td>Alois Lageder</td>\n",
              "    </tr>\n",
              "  </tbody>\n",
              "</table>\n",
              "<p>150930 rows × 11 columns</p>\n",
              "</div>"
            ],
            "text/plain": [
              "        Unnamed: 0 country  ...             variety                   winery\n",
              "0                0      US  ...  Cabernet Sauvignon                    Heitz\n",
              "1                1   Spain  ...       Tinta de Toro  Bodega Carmen Rodríguez\n",
              "2                2      US  ...     Sauvignon Blanc                 Macauley\n",
              "3                3      US  ...          Pinot Noir                    Ponzi\n",
              "4                4  France  ...  Provence red blend     Domaine de la Bégude\n",
              "...            ...     ...  ...                 ...                      ...\n",
              "150925      150925   Italy  ...         White Blend    Feudi di San Gregorio\n",
              "150926      150926  France  ...     Champagne Blend                H.Germain\n",
              "150927      150927   Italy  ...         White Blend                Terredora\n",
              "150928      150928  France  ...     Champagne Blend                   Gosset\n",
              "150929      150929   Italy  ...        Pinot Grigio            Alois Lageder\n",
              "\n",
              "[150930 rows x 11 columns]"
            ]
          },
          "metadata": {
            "tags": []
          },
          "execution_count": 5
        }
      ]
    },
    {
      "cell_type": "code",
      "metadata": {
        "colab": {
          "base_uri": "https://localhost:8080/"
        },
        "id": "JUHthRh_Y5TG",
        "outputId": "6cdabae1-bfd9-4679-e3d4-ec76462cb3c0"
      },
      "source": [
        "# Examine the schema \n",
        "print(\"# of NaN in every column\\n\", df.isnull().sum(axis = 0))"
      ],
      "execution_count": 6,
      "outputs": [
        {
          "output_type": "stream",
          "text": [
            "# of NaN in every column\n",
            " Unnamed: 0         0\n",
            "country            5\n",
            "description        0\n",
            "designation    45735\n",
            "points             0\n",
            "price          13695\n",
            "province           5\n",
            "region_1       25060\n",
            "region_2       89977\n",
            "variety            0\n",
            "winery             0\n",
            "dtype: int64\n"
          ],
          "name": "stdout"
        }
      ]
    },
    {
      "cell_type": "code",
      "metadata": {
        "id": "KUGdcsgZmI_Q"
      },
      "source": [
        "# select only id, country, price, and NOT point\n",
        "df_2 = df[['description', 'price']]\n"
      ],
      "execution_count": 7,
      "outputs": []
    },
    {
      "cell_type": "code",
      "metadata": {
        "colab": {
          "base_uri": "https://localhost:8080/"
        },
        "id": "R08V-gYom7aG",
        "outputId": "fec27db6-07ed-4260-b4b4-70776ad6087a"
      },
      "source": [
        "df_2\n",
        "df_2['price'].unique()\n",
        "# df_2['points'].unique()"
      ],
      "execution_count": 8,
      "outputs": [
        {
          "output_type": "execute_result",
          "data": {
            "text/plain": [
              "array([ 235.,  110.,   90.,   65.,   66.,   73.,   60.,   80.,   48.,\n",
              "        185.,  325.,  290.,   75.,   24.,   79.,  220.,   45.,   57.,\n",
              "         62.,  105.,   15.,   37.,   nan,   22.,   42.,  135.,   29.,\n",
              "         23.,   17.,   26.,   55.,   39.,   69.,   30.,   50.,   40.,\n",
              "        100.,   68.,   28.,   18.,   25.,   36.,   38.,   85.,   19.,\n",
              "         54.,   59.,   10.,   12.,   13.,   14.,   20.,  125.,    7.,\n",
              "         49.,   93.,   32.,   16.,   21.,   44.,   35.,   61.,   34.,\n",
              "         11.,   58.,  120.,   41.,  200.,   43.,    9.,   56.,   46.,\n",
              "         92.,   94.,   27.,   95.,   33.,   70.,  155.,   63.,  130.,\n",
              "        115.,   31.,   98.,   52.,   64.,   91.,  111.,   88.,   74.,\n",
              "         77.,   87.,  113.,  140.,  500.,   51.,  150.,  240.,   72.,\n",
              "        103.,    8.,  136.,  141.,  102.,   47.,   53.,   96.,   78.,\n",
              "        149.,  138.,  117.,    4.,   99.,  848.,  450.,  330.,  175.,\n",
              "         89.,   82.,   71.,  137.,  145.,  698.,  160.,  770.,  118.,\n",
              "        238.,  202.,  250.,  165.,   83.,  107.,   76.,   67.,  128.,\n",
              "        119.,  129.,  180.,    6.,  225.,    5.,  152.,   84.,   86.,\n",
              "        124.,   97.,  365.,  179.,  350.,  195.,  300.,  156.,  315.,\n",
              "        187.,  520.,  170.,  428.,  257.,  294.,  166.,  226.,  280.,\n",
              "        380.,  740.,  108.,  391.,  282.,  312.,  123.,  131.,  196.,\n",
              "        850.,  600.,  237.,  227.,  351.,  415., 1100.,  104.,  127.,\n",
              "        106.,  258.,  375.,  320.,  980.,  112.,  101.,  230.,  142.,\n",
              "        468.,  639.,  288.,  281.,  357.,  208.,  199.,  307.,  159.,\n",
              "        168.,  133.,  310.,  215.,  670.,  122.,  245.,  463.,  260.,\n",
              "       2013.,  239.,  400.,  269.,  214.,  625.,   81.,  270.,  345.,\n",
              "        316.,  205.,  410.,  275.,  126.,  764.,  190.,  153.,  183.,\n",
              "        212.,  167.,  169.,  285.,  279.,  249.,  299.,  229.,  360.,\n",
              "        460.,  800.,  139., 1400.,  385.,  390.,  252.,  109.,  154.,\n",
              "        134.,  295.,  445.,  612.,  271.,  228.,  448.,  292.,  440.,\n",
              "        376.,  231.,  114.,  349.,  399.,  163.,  210.,  116.,  151.,\n",
              "        148.,  162.,  191.,  173.,  318.,  550.,  510.,  660.,  685.,\n",
              "        182.,  775.,  323.,  419.,  132., 2300., 1900., 1300., 1200.,\n",
              "        236.,  412., 1000.,  545.,  243.,  143.,  426.,  588.,  204.,\n",
              "        265.,  158.,  174.,  247.,  164.,  430.,  194.,  261.,  147.,\n",
              "        451.,  574.,  544.,  273.,  189.,  317.,  248.,  177.,  176.,\n",
              "        144.,  197.,  157.,  289.,  505.,  198.,  146.,  411.,  757.,\n",
              "        259.,  535.,  328.,  206.,  216.,  354.,  495.,  193.,  525.,\n",
              "        256.,  475.,  398.,  530.,  181.,  255.,  420.,  266.,  121.,\n",
              "        246.,  599.,  178.,  335.,  900.,  222.,  171.,  486.,  203.,\n",
              "        395.,  303.,  319.,  268.,  211.,  467.,  293.,  224.,  283.,\n",
              "        596.,  253.,  455.,  580.,  184.,  172.,  217.])"
            ]
          },
          "metadata": {
            "tags": []
          },
          "execution_count": 8
        }
      ]
    },
    {
      "cell_type": "code",
      "metadata": {
        "colab": {
          "base_uri": "https://localhost:8080/"
        },
        "id": "kXVlAjMRgVhf",
        "outputId": "d50f0f12-44d7-4c62-b82d-9c54ffe1e50b"
      },
      "source": [
        "df_2.info()"
      ],
      "execution_count": 9,
      "outputs": [
        {
          "output_type": "stream",
          "text": [
            "<class 'pandas.core.frame.DataFrame'>\n",
            "RangeIndex: 150930 entries, 0 to 150929\n",
            "Data columns (total 2 columns):\n",
            " #   Column       Non-Null Count   Dtype  \n",
            "---  ------       --------------   -----  \n",
            " 0   description  150930 non-null  object \n",
            " 1   price        137235 non-null  float64\n",
            "dtypes: float64(1), object(1)\n",
            "memory usage: 2.3+ MB\n"
          ],
          "name": "stdout"
        }
      ]
    },
    {
      "cell_type": "code",
      "metadata": {
        "colab": {
          "base_uri": "https://localhost:8080/"
        },
        "id": "JoeCpwfrg0_E",
        "outputId": "3aef0288-f0a0-4efb-a8e9-fa04af8683a3"
      },
      "source": [
        "print(\"# of NaN in every column\\n\", df_2.isnull().sum(axis = 0))"
      ],
      "execution_count": 10,
      "outputs": [
        {
          "output_type": "stream",
          "text": [
            "# of NaN in every column\n",
            " description        0\n",
            "price          13695\n",
            "dtype: int64\n"
          ],
          "name": "stdout"
        }
      ]
    },
    {
      "cell_type": "code",
      "metadata": {
        "colab": {
          "base_uri": "https://localhost:8080/",
          "height": 423
        },
        "id": "Vhphf8xCg1Xu",
        "outputId": "3723f1bc-e3c9-4485-98aa-5dc240d6d064"
      },
      "source": [
        "# drop NaN\n",
        "df_2 = df_2.dropna()\n",
        "df_2"
      ],
      "execution_count": 11,
      "outputs": [
        {
          "output_type": "execute_result",
          "data": {
            "text/html": [
              "<div>\n",
              "<style scoped>\n",
              "    .dataframe tbody tr th:only-of-type {\n",
              "        vertical-align: middle;\n",
              "    }\n",
              "\n",
              "    .dataframe tbody tr th {\n",
              "        vertical-align: top;\n",
              "    }\n",
              "\n",
              "    .dataframe thead th {\n",
              "        text-align: right;\n",
              "    }\n",
              "</style>\n",
              "<table border=\"1\" class=\"dataframe\">\n",
              "  <thead>\n",
              "    <tr style=\"text-align: right;\">\n",
              "      <th></th>\n",
              "      <th>description</th>\n",
              "      <th>price</th>\n",
              "    </tr>\n",
              "  </thead>\n",
              "  <tbody>\n",
              "    <tr>\n",
              "      <th>0</th>\n",
              "      <td>This tremendous 100% varietal wine hails from ...</td>\n",
              "      <td>235.0</td>\n",
              "    </tr>\n",
              "    <tr>\n",
              "      <th>1</th>\n",
              "      <td>Ripe aromas of fig, blackberry and cassis are ...</td>\n",
              "      <td>110.0</td>\n",
              "    </tr>\n",
              "    <tr>\n",
              "      <th>2</th>\n",
              "      <td>Mac Watson honors the memory of a wine once ma...</td>\n",
              "      <td>90.0</td>\n",
              "    </tr>\n",
              "    <tr>\n",
              "      <th>3</th>\n",
              "      <td>This spent 20 months in 30% new French oak, an...</td>\n",
              "      <td>65.0</td>\n",
              "    </tr>\n",
              "    <tr>\n",
              "      <th>4</th>\n",
              "      <td>This is the top wine from La Bégude, named aft...</td>\n",
              "      <td>66.0</td>\n",
              "    </tr>\n",
              "    <tr>\n",
              "      <th>...</th>\n",
              "      <td>...</td>\n",
              "      <td>...</td>\n",
              "    </tr>\n",
              "    <tr>\n",
              "      <th>150925</th>\n",
              "      <td>Many people feel Fiano represents southern Ita...</td>\n",
              "      <td>20.0</td>\n",
              "    </tr>\n",
              "    <tr>\n",
              "      <th>150926</th>\n",
              "      <td>Offers an intriguing nose with ginger, lime an...</td>\n",
              "      <td>27.0</td>\n",
              "    </tr>\n",
              "    <tr>\n",
              "      <th>150927</th>\n",
              "      <td>This classic example comes from a cru vineyard...</td>\n",
              "      <td>20.0</td>\n",
              "    </tr>\n",
              "    <tr>\n",
              "      <th>150928</th>\n",
              "      <td>A perfect salmon shade, with scents of peaches...</td>\n",
              "      <td>52.0</td>\n",
              "    </tr>\n",
              "    <tr>\n",
              "      <th>150929</th>\n",
              "      <td>More Pinot Grigios should taste like this. A r...</td>\n",
              "      <td>15.0</td>\n",
              "    </tr>\n",
              "  </tbody>\n",
              "</table>\n",
              "<p>137235 rows × 2 columns</p>\n",
              "</div>"
            ],
            "text/plain": [
              "                                              description  price\n",
              "0       This tremendous 100% varietal wine hails from ...  235.0\n",
              "1       Ripe aromas of fig, blackberry and cassis are ...  110.0\n",
              "2       Mac Watson honors the memory of a wine once ma...   90.0\n",
              "3       This spent 20 months in 30% new French oak, an...   65.0\n",
              "4       This is the top wine from La Bégude, named aft...   66.0\n",
              "...                                                   ...    ...\n",
              "150925  Many people feel Fiano represents southern Ita...   20.0\n",
              "150926  Offers an intriguing nose with ginger, lime an...   27.0\n",
              "150927  This classic example comes from a cru vineyard...   20.0\n",
              "150928  A perfect salmon shade, with scents of peaches...   52.0\n",
              "150929  More Pinot Grigios should taste like this. A r...   15.0\n",
              "\n",
              "[137235 rows x 2 columns]"
            ]
          },
          "metadata": {
            "tags": []
          },
          "execution_count": 11
        }
      ]
    },
    {
      "cell_type": "code",
      "metadata": {
        "colab": {
          "base_uri": "https://localhost:8080/"
        },
        "id": "182ONnL6g1pD",
        "outputId": "e136d720-5d33-44bd-a218-00023dcd9dcc"
      },
      "source": [
        "print(\"# of NaN in every column\\n\", df_2.isnull().sum(axis = 0))"
      ],
      "execution_count": 12,
      "outputs": [
        {
          "output_type": "stream",
          "text": [
            "# of NaN in every column\n",
            " description    0\n",
            "price          0\n",
            "dtype: int64\n"
          ],
          "name": "stdout"
        }
      ]
    },
    {
      "cell_type": "code",
      "metadata": {
        "colab": {
          "base_uri": "https://localhost:8080/",
          "height": 379
        },
        "id": "DdpRmohCg150",
        "outputId": "81cb418a-2ea7-4eca-b8cc-291e2caf90b3"
      },
      "source": [
        "df_3 = df_2.assign(description_length = df_2['description'].apply(len))\n",
        "df_3.info()\n",
        "df_3.head()"
      ],
      "execution_count": 13,
      "outputs": [
        {
          "output_type": "stream",
          "text": [
            "<class 'pandas.core.frame.DataFrame'>\n",
            "Int64Index: 137235 entries, 0 to 150929\n",
            "Data columns (total 3 columns):\n",
            " #   Column              Non-Null Count   Dtype  \n",
            "---  ------              --------------   -----  \n",
            " 0   description         137235 non-null  object \n",
            " 1   price               137235 non-null  float64\n",
            " 2   description_length  137235 non-null  int64  \n",
            "dtypes: float64(1), int64(1), object(1)\n",
            "memory usage: 4.2+ MB\n"
          ],
          "name": "stdout"
        },
        {
          "output_type": "execute_result",
          "data": {
            "text/html": [
              "<div>\n",
              "<style scoped>\n",
              "    .dataframe tbody tr th:only-of-type {\n",
              "        vertical-align: middle;\n",
              "    }\n",
              "\n",
              "    .dataframe tbody tr th {\n",
              "        vertical-align: top;\n",
              "    }\n",
              "\n",
              "    .dataframe thead th {\n",
              "        text-align: right;\n",
              "    }\n",
              "</style>\n",
              "<table border=\"1\" class=\"dataframe\">\n",
              "  <thead>\n",
              "    <tr style=\"text-align: right;\">\n",
              "      <th></th>\n",
              "      <th>description</th>\n",
              "      <th>price</th>\n",
              "      <th>description_length</th>\n",
              "    </tr>\n",
              "  </thead>\n",
              "  <tbody>\n",
              "    <tr>\n",
              "      <th>0</th>\n",
              "      <td>This tremendous 100% varietal wine hails from ...</td>\n",
              "      <td>235.0</td>\n",
              "      <td>355</td>\n",
              "    </tr>\n",
              "    <tr>\n",
              "      <th>1</th>\n",
              "      <td>Ripe aromas of fig, blackberry and cassis are ...</td>\n",
              "      <td>110.0</td>\n",
              "      <td>318</td>\n",
              "    </tr>\n",
              "    <tr>\n",
              "      <th>2</th>\n",
              "      <td>Mac Watson honors the memory of a wine once ma...</td>\n",
              "      <td>90.0</td>\n",
              "      <td>280</td>\n",
              "    </tr>\n",
              "    <tr>\n",
              "      <th>3</th>\n",
              "      <td>This spent 20 months in 30% new French oak, an...</td>\n",
              "      <td>65.0</td>\n",
              "      <td>386</td>\n",
              "    </tr>\n",
              "    <tr>\n",
              "      <th>4</th>\n",
              "      <td>This is the top wine from La Bégude, named aft...</td>\n",
              "      <td>66.0</td>\n",
              "      <td>376</td>\n",
              "    </tr>\n",
              "  </tbody>\n",
              "</table>\n",
              "</div>"
            ],
            "text/plain": [
              "                                         description  price  description_length\n",
              "0  This tremendous 100% varietal wine hails from ...  235.0                 355\n",
              "1  Ripe aromas of fig, blackberry and cassis are ...  110.0                 318\n",
              "2  Mac Watson honors the memory of a wine once ma...   90.0                 280\n",
              "3  This spent 20 months in 30% new French oak, an...   65.0                 386\n",
              "4  This is the top wine from La Bégude, named aft...   66.0                 376"
            ]
          },
          "metadata": {
            "tags": []
          },
          "execution_count": 13
        }
      ]
    },
    {
      "cell_type": "code",
      "metadata": {
        "colab": {
          "base_uri": "https://localhost:8080/"
        },
        "id": "3pYNmusCrZ5H",
        "outputId": "61018fe4-8e7a-4f1d-f392-123ef0fefb4f"
      },
      "source": [
        "# describe the price\n",
        "df_3['price'].describe()\n",
        "\n",
        "# nunuique for price\n",
        "df_3['price'].nunique()"
      ],
      "execution_count": 14,
      "outputs": [
        {
          "output_type": "execute_result",
          "data": {
            "text/plain": [
              "357"
            ]
          },
          "metadata": {
            "tags": []
          },
          "execution_count": 14
        }
      ]
    },
    {
      "cell_type": "code",
      "metadata": {
        "colab": {
          "base_uri": "https://localhost:8080/"
        },
        "id": "CEaKitgmqPki",
        "outputId": "d599284b-c15c-4d65-aa39-543e7345e460"
      },
      "source": [
        "# sort price descending\n",
        "\n",
        "price_desc = df_3.sort_values(by='price', ascending=False) \n",
        "price_desc['price'].unique()"
      ],
      "execution_count": 15,
      "outputs": [
        {
          "output_type": "execute_result",
          "data": {
            "text/plain": [
              "array([2300., 2013., 1900., 1400., 1300., 1200., 1100., 1000.,  980.,\n",
              "        900.,  850.,  848.,  800.,  775.,  770.,  764.,  757.,  740.,\n",
              "        698.,  685.,  670.,  660.,  639.,  625.,  612.,  600.,  599.,\n",
              "        596.,  588.,  580.,  574.,  550.,  545.,  544.,  535.,  530.,\n",
              "        525.,  520.,  510.,  505.,  500.,  495.,  486.,  475.,  468.,\n",
              "        467.,  463.,  460.,  455.,  451.,  450.,  448.,  445.,  440.,\n",
              "        430.,  428.,  426.,  420.,  419.,  415.,  412.,  411.,  410.,\n",
              "        400.,  399.,  398.,  395.,  391.,  390.,  385.,  380.,  376.,\n",
              "        375.,  365.,  360.,  357.,  354.,  351.,  350.,  349.,  345.,\n",
              "        335.,  330.,  328.,  325.,  323.,  320.,  319.,  318.,  317.,\n",
              "        316.,  315.,  312.,  310.,  307.,  303.,  300.,  299.,  295.,\n",
              "        294.,  293.,  292.,  290.,  289.,  288.,  285.,  283.,  282.,\n",
              "        281.,  280.,  279.,  275.,  273.,  271.,  270.,  269.,  268.,\n",
              "        266.,  265.,  261.,  260.,  259.,  258.,  257.,  256.,  255.,\n",
              "        253.,  252.,  250.,  249.,  248.,  247.,  246.,  245.,  243.,\n",
              "        240.,  239.,  238.,  237.,  236.,  235.,  231.,  230.,  229.,\n",
              "        228.,  227.,  226.,  225.,  224.,  222.,  220.,  217.,  216.,\n",
              "        215.,  214.,  212.,  211.,  210.,  208.,  206.,  205.,  204.,\n",
              "        203.,  202.,  200.,  199.,  198.,  197.,  196.,  195.,  194.,\n",
              "        193.,  191.,  190.,  189.,  187.,  185.,  184.,  183.,  182.,\n",
              "        181.,  180.,  179.,  178.,  177.,  176.,  175.,  174.,  173.,\n",
              "        172.,  171.,  170.,  169.,  168.,  167.,  166.,  165.,  164.,\n",
              "        163.,  162.,  160.,  159.,  158.,  157.,  156.,  155.,  154.,\n",
              "        153.,  152.,  151.,  150.,  149.,  148.,  147.,  146.,  145.,\n",
              "        144.,  143.,  142.,  141.,  140.,  139.,  138.,  137.,  136.,\n",
              "        135.,  134.,  133.,  132.,  131.,  130.,  129.,  128.,  127.,\n",
              "        126.,  125.,  124.,  123.,  122.,  121.,  120.,  119.,  118.,\n",
              "        117.,  116.,  115.,  114.,  113.,  112.,  111.,  110.,  109.,\n",
              "        108.,  107.,  106.,  105.,  104.,  103.,  102.,  101.,  100.,\n",
              "         99.,   98.,   97.,   96.,   95.,   94.,   93.,   92.,   91.,\n",
              "         90.,   89.,   88.,   87.,   86.,   85.,   84.,   83.,   82.,\n",
              "         81.,   80.,   79.,   78.,   77.,   76.,   75.,   74.,   73.,\n",
              "         72.,   71.,   70.,   69.,   68.,   67.,   66.,   65.,   64.,\n",
              "         63.,   62.,   61.,   60.,   59.,   58.,   57.,   56.,   55.,\n",
              "         54.,   53.,   52.,   51.,   50.,   49.,   48.,   47.,   46.,\n",
              "         45.,   44.,   43.,   42.,   41.,   40.,   39.,   38.,   37.,\n",
              "         36.,   35.,   34.,   33.,   32.,   31.,   30.,   29.,   28.,\n",
              "         27.,   26.,   25.,   24.,   23.,   22.,   21.,   20.,   19.,\n",
              "         18.,   17.,   16.,   15.,   14.,   13.,   12.,   11.,   10.,\n",
              "          9.,    8.,    7.,    6.,    5.,    4.])"
            ]
          },
          "metadata": {
            "tags": []
          },
          "execution_count": 15
        }
      ]
    },
    {
      "cell_type": "code",
      "metadata": {
        "colab": {
          "base_uri": "https://localhost:8080/",
          "height": 206
        },
        "id": "ek8v61DQdvsR",
        "outputId": "b73dc766-44ab-4c8c-fa43-03bf37601d9e"
      },
      "source": [
        "# Bin the prices so the range of prices is more manageable for the model\n",
        "\n",
        "def price_bins(price):\n",
        "    if price < 0:\n",
        "        return 1\n",
        "    elif price >= 35 and price < 70:\n",
        "        return 2 \n",
        "    elif price >= 70 and price < 105:\n",
        "        return 3 \n",
        "    elif price >= 105 and price < 140:\n",
        "        return 5 \n",
        "    elif price >= 140 and price < 175:\n",
        "        return 6\n",
        "    elif price >= 175 and price < 210:\n",
        "        return 7\n",
        "    elif price >= 210 and price < 245:\n",
        "        return 8\n",
        "    elif price >= 245 and price < 280:\n",
        "        return 9\n",
        "    elif price >= 280 and price < 315:\n",
        "        return 10\n",
        "    elif price >= 315 and price < 350:\n",
        "        return 11\n",
        "    elif price >= 350 and price < 385:\n",
        "        return 12\n",
        "    elif price >= 385 and price < 420:\n",
        "        return 13\n",
        "    elif price >= 420 and price < 455:\n",
        "        return 14\n",
        "    elif price >= 455 and price < 490:\n",
        "        return 15\n",
        "    elif price >= 490 and price < 525:\n",
        "        return 16\n",
        "    elif price >= 525 and price < 560:\n",
        "        return 17\n",
        "    elif price >= 560 and price < 595:\n",
        "        return 18\n",
        "    elif price >= 595 and price < 630:\n",
        "        return 19\n",
        "    elif price >= 630 and price < 665:\n",
        "        return 20\n",
        "    elif price >= 665 and price < 700:\n",
        "        return 21\n",
        "    else:\n",
        "        return 22\n",
        "\n",
        "#Applying transform method and assigning result to new column \"points_simplified\"\n",
        "df_3 = df_3.assign(price_grouped = df_3['price'].apply(price_bins))\n",
        "df_3.head()\n",
        "\n"
      ],
      "execution_count": 23,
      "outputs": [
        {
          "output_type": "execute_result",
          "data": {
            "text/html": [
              "<div>\n",
              "<style scoped>\n",
              "    .dataframe tbody tr th:only-of-type {\n",
              "        vertical-align: middle;\n",
              "    }\n",
              "\n",
              "    .dataframe tbody tr th {\n",
              "        vertical-align: top;\n",
              "    }\n",
              "\n",
              "    .dataframe thead th {\n",
              "        text-align: right;\n",
              "    }\n",
              "</style>\n",
              "<table border=\"1\" class=\"dataframe\">\n",
              "  <thead>\n",
              "    <tr style=\"text-align: right;\">\n",
              "      <th></th>\n",
              "      <th>description</th>\n",
              "      <th>price</th>\n",
              "      <th>description_length</th>\n",
              "      <th>price_grouped</th>\n",
              "    </tr>\n",
              "  </thead>\n",
              "  <tbody>\n",
              "    <tr>\n",
              "      <th>0</th>\n",
              "      <td>This tremendous 100% varietal wine hails from ...</td>\n",
              "      <td>235.0</td>\n",
              "      <td>355</td>\n",
              "      <td>8</td>\n",
              "    </tr>\n",
              "    <tr>\n",
              "      <th>1</th>\n",
              "      <td>Ripe aromas of fig, blackberry and cassis are ...</td>\n",
              "      <td>110.0</td>\n",
              "      <td>318</td>\n",
              "      <td>5</td>\n",
              "    </tr>\n",
              "    <tr>\n",
              "      <th>2</th>\n",
              "      <td>Mac Watson honors the memory of a wine once ma...</td>\n",
              "      <td>90.0</td>\n",
              "      <td>280</td>\n",
              "      <td>3</td>\n",
              "    </tr>\n",
              "    <tr>\n",
              "      <th>3</th>\n",
              "      <td>This spent 20 months in 30% new French oak, an...</td>\n",
              "      <td>65.0</td>\n",
              "      <td>386</td>\n",
              "      <td>2</td>\n",
              "    </tr>\n",
              "    <tr>\n",
              "      <th>4</th>\n",
              "      <td>This is the top wine from La Bégude, named aft...</td>\n",
              "      <td>66.0</td>\n",
              "      <td>376</td>\n",
              "      <td>2</td>\n",
              "    </tr>\n",
              "  </tbody>\n",
              "</table>\n",
              "</div>"
            ],
            "text/plain": [
              "                                         description  ...  price_grouped\n",
              "0  This tremendous 100% varietal wine hails from ...  ...              8\n",
              "1  Ripe aromas of fig, blackberry and cassis are ...  ...              5\n",
              "2  Mac Watson honors the memory of a wine once ma...  ...              3\n",
              "3  This spent 20 months in 30% new French oak, an...  ...              2\n",
              "4  This is the top wine from La Bégude, named aft...  ...              2\n",
              "\n",
              "[5 rows x 4 columns]"
            ]
          },
          "metadata": {
            "tags": []
          },
          "execution_count": 23
        }
      ]
    },
    {
      "cell_type": "code",
      "metadata": {
        "id": "cGzHswBXg50j",
        "colab": {
          "base_uri": "https://localhost:8080/"
        },
        "outputId": "9055da78-f726-4096-c8c8-c8ae32617302"
      },
      "source": [
        "# Bring Pandas DF TO the PYSPARK\n",
        "\n",
        "# Pandas to Spark\n",
        "wine_DF = spark.createDataFrame(df_3)\n",
        "\n",
        "\n",
        "wine_DF.show()\n",
        "\n"
      ],
      "execution_count": 24,
      "outputs": [
        {
          "output_type": "stream",
          "text": [
            "+--------------------+-----+------------------+-------------+\n",
            "|         description|price|description_length|price_grouped|\n",
            "+--------------------+-----+------------------+-------------+\n",
            "|This tremendous 1...|235.0|               355|            8|\n",
            "|Ripe aromas of fi...|110.0|               318|            5|\n",
            "|Mac Watson honors...| 90.0|               280|            3|\n",
            "|This spent 20 mon...| 65.0|               386|            2|\n",
            "|This is the top w...| 66.0|               376|            2|\n",
            "|Deep, dense and p...| 73.0|               315|            3|\n",
            "|Slightly gritty b...| 65.0|               319|            2|\n",
            "|Lush cedary black...|110.0|               357|            5|\n",
            "|This re-named vin...| 65.0|               298|            2|\n",
            "|The producer sour...| 60.0|               307|            2|\n",
            "|Elegance, complex...| 80.0|               374|            3|\n",
            "|From 18-year-old ...| 48.0|               260|            2|\n",
            "|A standout even i...| 48.0|               289|            2|\n",
            "|This wine is in p...| 90.0|               303|            3|\n",
            "|With its sophisti...|185.0|               427|            7|\n",
            "|First made in 200...| 90.0|               277|            3|\n",
            "|This blockbuster,...|325.0|               276|           11|\n",
            "|Nicely oaked blac...| 80.0|               338|            3|\n",
            "|Coming from a sev...|290.0|               372|           10|\n",
            "|This fresh and li...| 75.0|               260|            3|\n",
            "+--------------------+-----+------------------+-------------+\n",
            "only showing top 20 rows\n",
            "\n"
          ],
          "name": "stdout"
        }
      ]
    },
    {
      "cell_type": "code",
      "metadata": {
        "id": "WnSkv1o-oR9v",
        "colab": {
          "base_uri": "https://localhost:8080/"
        },
        "outputId": "407af7b2-06da-44f5-e870-3095e7f03895"
      },
      "source": [
        "# find the number of missing values per column\n",
        "from pyspark.sql.functions import isnan, when, count, col, isnull\n",
        "\n",
        "wine_DF.select([count(when(isnull(j), j)).alias(j) for j in wine_DF.columns]).show()\n"
      ],
      "execution_count": 25,
      "outputs": [
        {
          "output_type": "stream",
          "text": [
            "+-----------+-----+------------------+-------------+\n",
            "|description|price|description_length|price_grouped|\n",
            "+-----------+-----+------------------+-------------+\n",
            "|          0|    0|                 0|            0|\n",
            "+-----------+-----+------------------+-------------+\n",
            "\n"
          ],
          "name": "stdout"
        }
      ]
    },
    {
      "cell_type": "markdown",
      "metadata": {
        "id": "wXYm8gqEjJH3"
      },
      "source": [
        "Build the model \n"
      ]
    },
    {
      "cell_type": "code",
      "metadata": {
        "id": "mNyUIYQXp7af"
      },
      "source": [
        "from pyspark.ml.feature import Tokenizer, StopWordsRemover, HashingTF, IDF, StringIndexer\n",
        "# Create all the features to the data set\n",
        "wine_prices = StringIndexer(inputCol='price_grouped',outputCol='label')\n",
        "tokenizer = Tokenizer(inputCol=\"description\", outputCol=\"token_text\")\n",
        "stopremove = StopWordsRemover(inputCol='token_text',outputCol='stop_tokens')\n",
        "hashingTF = HashingTF(inputCol=\"stop_tokens\", outputCol='hash_token')\n",
        "idf = IDF(inputCol='hash_token', outputCol='idf_token')\n",
        "\n"
      ],
      "execution_count": 26,
      "outputs": []
    },
    {
      "cell_type": "code",
      "metadata": {
        "id": "L1RUBS6FR-eQ"
      },
      "source": [
        "from pyspark.ml.feature import VectorAssembler\n",
        "from pyspark.ml.linalg import Vector\n",
        "\n",
        "# Create feature vectors\n",
        "clean_up = VectorAssembler(inputCols=['idf_token', 'description_length'], outputCol='features')"
      ],
      "execution_count": 27,
      "outputs": []
    },
    {
      "cell_type": "code",
      "metadata": {
        "id": "gvpAP7aCp7-R"
      },
      "source": [
        "# Create a and run a data processing Pipeline\n",
        "from pyspark.ml import Pipeline\n",
        "data_prep_pipeline = Pipeline(stages=[wine_prices, tokenizer, stopremove, hashingTF, idf, clean_up])"
      ],
      "execution_count": 28,
      "outputs": []
    },
    {
      "cell_type": "code",
      "metadata": {
        "id": "9uQ3YTrbp433"
      },
      "source": [
        "# fit n transform pipeline\n",
        "cleaner = data_prep_pipeline.fit(wine_DF)\n",
        "cleaned = cleaner.transform(wine_DF)\n",
        "\n",
        "\n"
      ],
      "execution_count": 29,
      "outputs": []
    },
    {
      "cell_type": "code",
      "metadata": {
        "id": "MkdA8p83ZHhE",
        "colab": {
          "base_uri": "https://localhost:8080/"
        },
        "outputId": "e00c8deb-6f4f-4df2-9205-c69163efd413"
      },
      "source": [
        "# Show label and resulting features\n",
        "cleaned.select(['label', 'features']).show()"
      ],
      "execution_count": 30,
      "outputs": [
        {
          "output_type": "stream",
          "text": [
            "+-----+--------------------+\n",
            "|label|            features|\n",
            "+-----+--------------------+\n",
            "|  6.0|(262145,[2701,160...|\n",
            "|  3.0|(262145,[11481,33...|\n",
            "|  2.0|(262145,[10077,26...|\n",
            "|  1.0|(262145,[1546,423...|\n",
            "|  1.0|(262145,[1546,171...|\n",
            "|  2.0|(262145,[8408,181...|\n",
            "|  1.0|(262145,[5561,196...|\n",
            "|  3.0|(262145,[4235,315...|\n",
            "|  1.0|(262145,[2306,316...|\n",
            "|  1.0|(262145,[3354,415...|\n",
            "|  2.0|(262145,[3848,939...|\n",
            "|  1.0|(262145,[3456,215...|\n",
            "|  1.0|(262145,[4176,894...|\n",
            "|  2.0|(262145,[8297,120...|\n",
            "|  5.0|(262145,[5847,160...|\n",
            "|  2.0|(262145,[1546,439...|\n",
            "| 10.0|(262145,[18911,55...|\n",
            "|  2.0|(262145,[2701,104...|\n",
            "|  8.0|(262145,[1546,544...|\n",
            "|  2.0|(262145,[3572,190...|\n",
            "+-----+--------------------+\n",
            "only showing top 20 rows\n",
            "\n"
          ],
          "name": "stdout"
        }
      ]
    },
    {
      "cell_type": "code",
      "metadata": {
        "id": "W5Key6f9ZVoc"
      },
      "source": [
        "\n",
        "from pyspark.ml.classification import NaiveBayes\n",
        "\n",
        "# Break data down into a training set and a testing set\n",
        "training, testing = cleaned.randomSplit([0.7, 0.3])\n",
        "\n",
        "# Create a Naive Bayes model and fit training data\n",
        "nb = NaiveBayes()\n",
        "predictor = nb.fit(training)\n"
      ],
      "execution_count": 31,
      "outputs": []
    },
    {
      "cell_type": "code",
      "metadata": {
        "id": "JB3qQD1yZfIA",
        "colab": {
          "base_uri": "https://localhost:8080/"
        },
        "outputId": "9b25997a-e84f-4f79-878e-b98c86a41528"
      },
      "source": [
        "\n",
        "# Tranform the model with the testing data\n",
        "test_results = predictor.transform(testing)\n",
        "test_results.show(5)"
      ],
      "execution_count": 32,
      "outputs": [
        {
          "output_type": "stream",
          "text": [
            "+--------------------+-----+------------------+-------------+-----+--------------------+--------------------+--------------------+--------------------+--------------------+--------------------+--------------------+----------+\n",
            "|         description|price|description_length|price_grouped|label|          token_text|         stop_tokens|          hash_token|           idf_token|            features|       rawPrediction|         probability|prediction|\n",
            "+--------------------+-----+------------------+-------------+-----+--------------------+--------------------+--------------------+--------------------+--------------------+--------------------+--------------------+----------+\n",
            "|). Certainly not ...| 42.0|               286|            2|  1.0|[)., certainly, n...|[)., certainly, l...|(262144,[3992,268...|(262144,[3992,268...|(262145,[3992,268...|[-1515.1373063023...|[1.94451477633080...|       1.0|\n",
            "|). Very good wine...| 47.0|               344|            2|  1.0|[)., very, good, ...|[)., good, wine, ...|(262144,[10564,13...|(262144,[10564,13...|(262145,[10564,13...|[-1754.4955916173...|[8.28985066705169...|       1.0|\n",
            "|). Very good wine...| 47.0|               344|            2|  1.0|[)., very, good, ...|[)., good, wine, ...|(262144,[10564,13...|(262144,[10564,13...|(262145,[10564,13...|[-1754.4955916173...|[8.28985066705169...|       1.0|\n",
            "|. Lemon zest and ...| 22.0|               192|           22|  0.0|[., lemon, zest, ...|[., lemon, zest, ...|(262144,[6706,121...|(262144,[6706,121...|(262145,[6706,121...|[-1054.2952701391...|[0.99999999999999...|       0.0|\n",
            "|. Pencil eraser, ...|  9.0|               202|           22|  0.0|[., pencil, erase...|[., pencil, erase...|(262144,[45404,46...|(262144,[45404,46...|(262145,[45404,46...|[-989.40851860858...|[0.99999999996608...|       0.0|\n",
            "+--------------------+-----+------------------+-------------+-----+--------------------+--------------------+--------------------+--------------------+--------------------+--------------------+--------------------+----------+\n",
            "only showing top 5 rows\n",
            "\n"
          ],
          "name": "stdout"
        }
      ]
    },
    {
      "cell_type": "code",
      "metadata": {
        "id": "Z9ij2aOvc5ct",
        "colab": {
          "base_uri": "https://localhost:8080/"
        },
        "outputId": "cafd9782-b66f-46c4-dcf5-9d06b5de8d6c"
      },
      "source": [
        "# Use the Class Evaluator for a cleaner description\n",
        "from pyspark.ml.evaluation import MulticlassClassificationEvaluator\n",
        "\n",
        "acc_eval = MulticlassClassificationEvaluator()\n",
        "acc = acc_eval.evaluate(test_results)\n",
        "print(\"Accuracy of model at predicting the wine's price was: %f\" % acc)"
      ],
      "execution_count": 33,
      "outputs": [
        {
          "output_type": "stream",
          "text": [
            "Accuracy of model at predicting the wine's price was: 0.742975\n"
          ],
          "name": "stdout"
        }
      ]
    }
  ]
}