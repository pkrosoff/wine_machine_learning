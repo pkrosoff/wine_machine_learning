{
  "nbformat": 4,
  "nbformat_minor": 0,
  "metadata": {
    "colab": {
      "name": "wine_prices.ipynb",
      "provenance": [],
      "collapsed_sections": [],
      "mount_file_id": "1FCQhy1CgSuQPSkLHYFCng0ylqNg3w050",
      "authorship_tag": "ABX9TyNnRc2rgvTpk6vtCOLxFDFW",
      "include_colab_link": true
    },
    "kernelspec": {
      "name": "python3",
      "display_name": "Python 3"
    }
  },
  "cells": [
    {
      "cell_type": "markdown",
      "metadata": {
        "id": "view-in-github",
        "colab_type": "text"
      },
      "source": [
        "<a href=\"https://colab.research.google.com/github/pkrosoff/wine_machine_learning/blob/kelly_branch/wine_prices.ipynb\" target=\"_parent\"><img src=\"https://colab.research.google.com/assets/colab-badge.svg\" alt=\"Open In Colab\"/></a>"
      ]
    },
    {
      "cell_type": "markdown",
      "metadata": {
        "id": "TEH6F0fWLgLl"
      },
      "source": [
        "Model to Predict Wine Price Range \n"
      ]
    },
    {
      "cell_type": "code",
      "metadata": {
        "id": "VH2QgC9r11HM",
        "colab": {
          "base_uri": "https://localhost:8080/"
        },
        "outputId": "efa95bdc-d2b6-42e8-911d-ae1b9f2476bc"
      },
      "source": [
        "import os\n",
        "# Find the latest version of spark 3.0  from http://www-us.apache.org/dist/spark/ and enter as the spark version\n",
        "# For example:\n",
        "spark_version = 'spark-3.0.1'\n",
        "# spark_version = 'spark-3.<enter version>'\n",
        "os.environ['SPARK_VERSION']=spark_version\n",
        "\n",
        "# Install Spark and Java\n",
        "!apt-get update\n",
        "!apt-get install openjdk-11-jdk-headless -qq > /dev/null\n",
        "!wget -q http://www-us.apache.org/dist/spark/$SPARK_VERSION/$SPARK_VERSION-bin-hadoop2.7.tgz\n",
        "!tar xf $SPARK_VERSION-bin-hadoop2.7.tgz\n",
        "!pip install -q findspark\n",
        "\n",
        "# Set Environment Variables\n",
        "os.environ[\"JAVA_HOME\"] = \"/usr/lib/jvm/java-11-openjdk-amd64\"\n",
        "os.environ[\"SPARK_HOME\"] = f\"/content/{spark_version}-bin-hadoop2.7\"\n",
        "\n",
        "# Start a SparkSession\n",
        "import findspark\n",
        "findspark.init()"
      ],
      "execution_count": 2,
      "outputs": [
        {
          "output_type": "stream",
          "text": [
            "\r0% [Working]\r            \rGet:1 https://cloud.r-project.org/bin/linux/ubuntu bionic-cran40/ InRelease [3,626 B]\n",
            "\r0% [Waiting for headers] [Waiting for headers] [1 InRelease 0 B/3,626 B 0%] [Wa\r0% [Waiting for headers] [Waiting for headers] [Waiting for headers] [Waiting f\r                                                                               \rGet:2 http://security.ubuntu.com/ubuntu bionic-security InRelease [88.7 kB]\n",
            "\r                                                                               \rGet:3 http://ppa.launchpad.net/c2d4u.team/c2d4u4.0+/ubuntu bionic InRelease [15.9 kB]\n",
            "\r                                                                               \rIgn:4 https://developer.download.nvidia.com/compute/cuda/repos/ubuntu1804/x86_64  InRelease\n",
            "Hit:5 http://archive.ubuntu.com/ubuntu bionic InRelease\n",
            "Ign:6 https://developer.download.nvidia.com/compute/machine-learning/repos/ubuntu1804/x86_64  InRelease\n",
            "Hit:7 https://developer.download.nvidia.com/compute/cuda/repos/ubuntu1804/x86_64  Release\n",
            "Hit:8 https://developer.download.nvidia.com/compute/machine-learning/repos/ubuntu1804/x86_64  Release\n",
            "Get:9 http://archive.ubuntu.com/ubuntu bionic-updates InRelease [88.7 kB]\n",
            "Get:10 http://ppa.launchpad.net/graphics-drivers/ppa/ubuntu bionic InRelease [21.3 kB]\n",
            "Get:11 http://archive.ubuntu.com/ubuntu bionic-backports InRelease [74.6 kB]\n",
            "Get:14 http://ppa.launchpad.net/c2d4u.team/c2d4u4.0+/ubuntu bionic/main Sources [1,696 kB]\n",
            "Get:15 http://security.ubuntu.com/ubuntu bionic-security/main amd64 Packages [1,815 kB]\n",
            "Get:16 http://archive.ubuntu.com/ubuntu bionic-updates/multiverse amd64 Packages [54.3 kB]\n",
            "Get:17 http://security.ubuntu.com/ubuntu bionic-security/multiverse amd64 Packages [15.8 kB]\n",
            "Get:18 http://security.ubuntu.com/ubuntu bionic-security/universe amd64 Packages [1,370 kB]\n",
            "Get:19 http://archive.ubuntu.com/ubuntu bionic-updates/main amd64 Packages [2,243 kB]\n",
            "Get:20 http://ppa.launchpad.net/c2d4u.team/c2d4u4.0+/ubuntu bionic/main amd64 Packages [868 kB]\n",
            "Get:21 http://archive.ubuntu.com/ubuntu bionic-updates/universe amd64 Packages [2,134 kB]\n",
            "Get:22 http://ppa.launchpad.net/graphics-drivers/ppa/ubuntu bionic/main amd64 Packages [46.5 kB]\n",
            "Fetched 10.5 MB in 3s (3,287 kB/s)\n",
            "Reading package lists... Done\n"
          ],
          "name": "stdout"
        }
      ]
    },
    {
      "cell_type": "code",
      "metadata": {
        "id": "t8_9nT_F5N1M"
      },
      "source": [
        "# Start Spark session\n",
        "from pyspark.sql import SparkSession\n",
        "spark = SparkSession.builder.appName(\"wine_hashing\").getOrCreate()\n",
        "# spark = SparkSession.builder.config(\"spark.driver.memory\", \"15g\").appName('my-cool-app').getOrCreate()"
      ],
      "execution_count": 3,
      "outputs": []
    },
    {
      "cell_type": "code",
      "metadata": {
        "id": "pEQfRAGJ5cG5"
      },
      "source": [
        "# Initial dependencies to import\n",
        "\n",
        "from pyspark.ml.feature import HashingTF, IDF, Tokenizer, StopWordsRemover\n",
        "# from google.colab import drive\n",
        "import pandas as pd\n",
        "import numpy as np\n",
        "import matplotlib.pyplot as plt\n",
        "import seaborn as sns\n",
        "\n",
        "from pyspark.sql.functions import regexp_replace, col\n"
      ],
      "execution_count": 4,
      "outputs": []
    },
    {
      "cell_type": "markdown",
      "metadata": {
        "id": "wKPw6dJPL89n"
      },
      "source": [
        "BEFORE PROGRESSING ENSURE GOOGLE DRIVE IS MOUNTED TO NOTEBOOK"
      ]
    },
    {
      "cell_type": "code",
      "metadata": {
        "id": "mDUw_mUxGNPU"
      },
      "source": [
        "# Read in the CSV from local Google Drive into Pandas Dataframe\n",
        "\n",
        "path = \"/content/drive/MyDrive/winemag-data_first150k.csv\"\n",
        "\n",
        "df = pd.read_csv(path)"
      ],
      "execution_count": 5,
      "outputs": []
    },
    {
      "cell_type": "code",
      "metadata": {
        "id": "y0EqeL4MXMyY",
        "colab": {
          "base_uri": "https://localhost:8080/",
          "height": 1000
        },
        "outputId": "3f0f5aa9-d749-47cb-d93a-62a9a3536298"
      },
      "source": [
        "df\n"
      ],
      "execution_count": 6,
      "outputs": [
        {
          "output_type": "execute_result",
          "data": {
            "text/html": [
              "<div>\n",
              "<style scoped>\n",
              "    .dataframe tbody tr th:only-of-type {\n",
              "        vertical-align: middle;\n",
              "    }\n",
              "\n",
              "    .dataframe tbody tr th {\n",
              "        vertical-align: top;\n",
              "    }\n",
              "\n",
              "    .dataframe thead th {\n",
              "        text-align: right;\n",
              "    }\n",
              "</style>\n",
              "<table border=\"1\" class=\"dataframe\">\n",
              "  <thead>\n",
              "    <tr style=\"text-align: right;\">\n",
              "      <th></th>\n",
              "      <th>Unnamed: 0</th>\n",
              "      <th>country</th>\n",
              "      <th>description</th>\n",
              "      <th>designation</th>\n",
              "      <th>points</th>\n",
              "      <th>price</th>\n",
              "      <th>province</th>\n",
              "      <th>region_1</th>\n",
              "      <th>region_2</th>\n",
              "      <th>variety</th>\n",
              "      <th>winery</th>\n",
              "    </tr>\n",
              "  </thead>\n",
              "  <tbody>\n",
              "    <tr>\n",
              "      <th>0</th>\n",
              "      <td>0</td>\n",
              "      <td>US</td>\n",
              "      <td>This tremendous 100% varietal wine hails from ...</td>\n",
              "      <td>Martha's Vineyard</td>\n",
              "      <td>96</td>\n",
              "      <td>235.0</td>\n",
              "      <td>California</td>\n",
              "      <td>Napa Valley</td>\n",
              "      <td>Napa</td>\n",
              "      <td>Cabernet Sauvignon</td>\n",
              "      <td>Heitz</td>\n",
              "    </tr>\n",
              "    <tr>\n",
              "      <th>1</th>\n",
              "      <td>1</td>\n",
              "      <td>Spain</td>\n",
              "      <td>Ripe aromas of fig, blackberry and cassis are ...</td>\n",
              "      <td>Carodorum Selección Especial Reserva</td>\n",
              "      <td>96</td>\n",
              "      <td>110.0</td>\n",
              "      <td>Northern Spain</td>\n",
              "      <td>Toro</td>\n",
              "      <td>NaN</td>\n",
              "      <td>Tinta de Toro</td>\n",
              "      <td>Bodega Carmen Rodríguez</td>\n",
              "    </tr>\n",
              "    <tr>\n",
              "      <th>2</th>\n",
              "      <td>2</td>\n",
              "      <td>US</td>\n",
              "      <td>Mac Watson honors the memory of a wine once ma...</td>\n",
              "      <td>Special Selected Late Harvest</td>\n",
              "      <td>96</td>\n",
              "      <td>90.0</td>\n",
              "      <td>California</td>\n",
              "      <td>Knights Valley</td>\n",
              "      <td>Sonoma</td>\n",
              "      <td>Sauvignon Blanc</td>\n",
              "      <td>Macauley</td>\n",
              "    </tr>\n",
              "    <tr>\n",
              "      <th>3</th>\n",
              "      <td>3</td>\n",
              "      <td>US</td>\n",
              "      <td>This spent 20 months in 30% new French oak, an...</td>\n",
              "      <td>Reserve</td>\n",
              "      <td>96</td>\n",
              "      <td>65.0</td>\n",
              "      <td>Oregon</td>\n",
              "      <td>Willamette Valley</td>\n",
              "      <td>Willamette Valley</td>\n",
              "      <td>Pinot Noir</td>\n",
              "      <td>Ponzi</td>\n",
              "    </tr>\n",
              "    <tr>\n",
              "      <th>4</th>\n",
              "      <td>4</td>\n",
              "      <td>France</td>\n",
              "      <td>This is the top wine from La Bégude, named aft...</td>\n",
              "      <td>La Brûlade</td>\n",
              "      <td>95</td>\n",
              "      <td>66.0</td>\n",
              "      <td>Provence</td>\n",
              "      <td>Bandol</td>\n",
              "      <td>NaN</td>\n",
              "      <td>Provence red blend</td>\n",
              "      <td>Domaine de la Bégude</td>\n",
              "    </tr>\n",
              "    <tr>\n",
              "      <th>...</th>\n",
              "      <td>...</td>\n",
              "      <td>...</td>\n",
              "      <td>...</td>\n",
              "      <td>...</td>\n",
              "      <td>...</td>\n",
              "      <td>...</td>\n",
              "      <td>...</td>\n",
              "      <td>...</td>\n",
              "      <td>...</td>\n",
              "      <td>...</td>\n",
              "      <td>...</td>\n",
              "    </tr>\n",
              "    <tr>\n",
              "      <th>150925</th>\n",
              "      <td>150925</td>\n",
              "      <td>Italy</td>\n",
              "      <td>Many people feel Fiano represents southern Ita...</td>\n",
              "      <td>NaN</td>\n",
              "      <td>91</td>\n",
              "      <td>20.0</td>\n",
              "      <td>Southern Italy</td>\n",
              "      <td>Fiano di Avellino</td>\n",
              "      <td>NaN</td>\n",
              "      <td>White Blend</td>\n",
              "      <td>Feudi di San Gregorio</td>\n",
              "    </tr>\n",
              "    <tr>\n",
              "      <th>150926</th>\n",
              "      <td>150926</td>\n",
              "      <td>France</td>\n",
              "      <td>Offers an intriguing nose with ginger, lime an...</td>\n",
              "      <td>Cuvée Prestige</td>\n",
              "      <td>91</td>\n",
              "      <td>27.0</td>\n",
              "      <td>Champagne</td>\n",
              "      <td>Champagne</td>\n",
              "      <td>NaN</td>\n",
              "      <td>Champagne Blend</td>\n",
              "      <td>H.Germain</td>\n",
              "    </tr>\n",
              "    <tr>\n",
              "      <th>150927</th>\n",
              "      <td>150927</td>\n",
              "      <td>Italy</td>\n",
              "      <td>This classic example comes from a cru vineyard...</td>\n",
              "      <td>Terre di Dora</td>\n",
              "      <td>91</td>\n",
              "      <td>20.0</td>\n",
              "      <td>Southern Italy</td>\n",
              "      <td>Fiano di Avellino</td>\n",
              "      <td>NaN</td>\n",
              "      <td>White Blend</td>\n",
              "      <td>Terredora</td>\n",
              "    </tr>\n",
              "    <tr>\n",
              "      <th>150928</th>\n",
              "      <td>150928</td>\n",
              "      <td>France</td>\n",
              "      <td>A perfect salmon shade, with scents of peaches...</td>\n",
              "      <td>Grand Brut Rosé</td>\n",
              "      <td>90</td>\n",
              "      <td>52.0</td>\n",
              "      <td>Champagne</td>\n",
              "      <td>Champagne</td>\n",
              "      <td>NaN</td>\n",
              "      <td>Champagne Blend</td>\n",
              "      <td>Gosset</td>\n",
              "    </tr>\n",
              "    <tr>\n",
              "      <th>150929</th>\n",
              "      <td>150929</td>\n",
              "      <td>Italy</td>\n",
              "      <td>More Pinot Grigios should taste like this. A r...</td>\n",
              "      <td>NaN</td>\n",
              "      <td>90</td>\n",
              "      <td>15.0</td>\n",
              "      <td>Northeastern Italy</td>\n",
              "      <td>Alto Adige</td>\n",
              "      <td>NaN</td>\n",
              "      <td>Pinot Grigio</td>\n",
              "      <td>Alois Lageder</td>\n",
              "    </tr>\n",
              "  </tbody>\n",
              "</table>\n",
              "<p>150930 rows × 11 columns</p>\n",
              "</div>"
            ],
            "text/plain": [
              "        Unnamed: 0 country  ...             variety                   winery\n",
              "0                0      US  ...  Cabernet Sauvignon                    Heitz\n",
              "1                1   Spain  ...       Tinta de Toro  Bodega Carmen Rodríguez\n",
              "2                2      US  ...     Sauvignon Blanc                 Macauley\n",
              "3                3      US  ...          Pinot Noir                    Ponzi\n",
              "4                4  France  ...  Provence red blend     Domaine de la Bégude\n",
              "...            ...     ...  ...                 ...                      ...\n",
              "150925      150925   Italy  ...         White Blend    Feudi di San Gregorio\n",
              "150926      150926  France  ...     Champagne Blend                H.Germain\n",
              "150927      150927   Italy  ...         White Blend                Terredora\n",
              "150928      150928  France  ...     Champagne Blend                   Gosset\n",
              "150929      150929   Italy  ...        Pinot Grigio            Alois Lageder\n",
              "\n",
              "[150930 rows x 11 columns]"
            ]
          },
          "metadata": {
            "tags": []
          },
          "execution_count": 6
        }
      ]
    },
    {
      "cell_type": "code",
      "metadata": {
        "id": "JUHthRh_Y5TG",
        "colab": {
          "base_uri": "https://localhost:8080/"
        },
        "outputId": "7d2d4acb-9a64-41d0-bae8-1d057f24b73b"
      },
      "source": [
        "# Examine the schema to find number of null values by column\n",
        "print(\"# of NaN in every column\\n\", df.isnull().sum(axis = 0))"
      ],
      "execution_count": 7,
      "outputs": [
        {
          "output_type": "stream",
          "text": [
            "# of NaN in every column\n",
            " Unnamed: 0         0\n",
            "country            5\n",
            "description        0\n",
            "designation    45735\n",
            "points             0\n",
            "price          13695\n",
            "province           5\n",
            "region_1       25060\n",
            "region_2       89977\n",
            "variety            0\n",
            "winery             0\n",
            "dtype: int64\n"
          ],
          "name": "stdout"
        }
      ]
    },
    {
      "cell_type": "code",
      "metadata": {
        "id": "KUGdcsgZmI_Q"
      },
      "source": [
        "# Select the 'description' and 'price' column to be used in analysis\n",
        "\n",
        "df_2 = df[['description', 'price']]\n"
      ],
      "execution_count": 8,
      "outputs": []
    },
    {
      "cell_type": "code",
      "metadata": {
        "id": "kXVlAjMRgVhf",
        "colab": {
          "base_uri": "https://localhost:8080/"
        },
        "outputId": "5ab93e6f-4cf0-4c01-e454-666bf61b3c5a"
      },
      "source": [
        "# Check data types\n",
        "df_2.info()"
      ],
      "execution_count": 9,
      "outputs": [
        {
          "output_type": "stream",
          "text": [
            "<class 'pandas.core.frame.DataFrame'>\n",
            "RangeIndex: 150930 entries, 0 to 150929\n",
            "Data columns (total 2 columns):\n",
            " #   Column       Non-Null Count   Dtype  \n",
            "---  ------       --------------   -----  \n",
            " 0   description  150930 non-null  object \n",
            " 1   price        137235 non-null  float64\n",
            "dtypes: float64(1), object(1)\n",
            "memory usage: 2.3+ MB\n"
          ],
          "name": "stdout"
        }
      ]
    },
    {
      "cell_type": "code",
      "metadata": {
        "id": "JoeCpwfrg0_E",
        "colab": {
          "base_uri": "https://localhost:8080/"
        },
        "outputId": "9accd8e0-6b74-47a7-bff3-f89046e7084e"
      },
      "source": [
        "# Secondary check of amount of NaN or Null values in DataFrame\n",
        "print(\"# of NaN in every column\\n\", df_2.isnull().sum(axis = 0))"
      ],
      "execution_count": 10,
      "outputs": [
        {
          "output_type": "stream",
          "text": [
            "# of NaN in every column\n",
            " description        0\n",
            "price          13695\n",
            "dtype: int64\n"
          ],
          "name": "stdout"
        }
      ]
    },
    {
      "cell_type": "code",
      "metadata": {
        "id": "Vhphf8xCg1Xu",
        "colab": {
          "base_uri": "https://localhost:8080/",
          "height": 419
        },
        "outputId": "8debb72b-22d3-4e4d-90d7-2a6513bfb991"
      },
      "source": [
        "# Drop Null Values from DataFrame\n",
        "df_2 = df_2.dropna()\n",
        "df_2"
      ],
      "execution_count": 11,
      "outputs": [
        {
          "output_type": "execute_result",
          "data": {
            "text/html": [
              "<div>\n",
              "<style scoped>\n",
              "    .dataframe tbody tr th:only-of-type {\n",
              "        vertical-align: middle;\n",
              "    }\n",
              "\n",
              "    .dataframe tbody tr th {\n",
              "        vertical-align: top;\n",
              "    }\n",
              "\n",
              "    .dataframe thead th {\n",
              "        text-align: right;\n",
              "    }\n",
              "</style>\n",
              "<table border=\"1\" class=\"dataframe\">\n",
              "  <thead>\n",
              "    <tr style=\"text-align: right;\">\n",
              "      <th></th>\n",
              "      <th>description</th>\n",
              "      <th>price</th>\n",
              "    </tr>\n",
              "  </thead>\n",
              "  <tbody>\n",
              "    <tr>\n",
              "      <th>0</th>\n",
              "      <td>This tremendous 100% varietal wine hails from ...</td>\n",
              "      <td>235.0</td>\n",
              "    </tr>\n",
              "    <tr>\n",
              "      <th>1</th>\n",
              "      <td>Ripe aromas of fig, blackberry and cassis are ...</td>\n",
              "      <td>110.0</td>\n",
              "    </tr>\n",
              "    <tr>\n",
              "      <th>2</th>\n",
              "      <td>Mac Watson honors the memory of a wine once ma...</td>\n",
              "      <td>90.0</td>\n",
              "    </tr>\n",
              "    <tr>\n",
              "      <th>3</th>\n",
              "      <td>This spent 20 months in 30% new French oak, an...</td>\n",
              "      <td>65.0</td>\n",
              "    </tr>\n",
              "    <tr>\n",
              "      <th>4</th>\n",
              "      <td>This is the top wine from La Bégude, named aft...</td>\n",
              "      <td>66.0</td>\n",
              "    </tr>\n",
              "    <tr>\n",
              "      <th>...</th>\n",
              "      <td>...</td>\n",
              "      <td>...</td>\n",
              "    </tr>\n",
              "    <tr>\n",
              "      <th>150925</th>\n",
              "      <td>Many people feel Fiano represents southern Ita...</td>\n",
              "      <td>20.0</td>\n",
              "    </tr>\n",
              "    <tr>\n",
              "      <th>150926</th>\n",
              "      <td>Offers an intriguing nose with ginger, lime an...</td>\n",
              "      <td>27.0</td>\n",
              "    </tr>\n",
              "    <tr>\n",
              "      <th>150927</th>\n",
              "      <td>This classic example comes from a cru vineyard...</td>\n",
              "      <td>20.0</td>\n",
              "    </tr>\n",
              "    <tr>\n",
              "      <th>150928</th>\n",
              "      <td>A perfect salmon shade, with scents of peaches...</td>\n",
              "      <td>52.0</td>\n",
              "    </tr>\n",
              "    <tr>\n",
              "      <th>150929</th>\n",
              "      <td>More Pinot Grigios should taste like this. A r...</td>\n",
              "      <td>15.0</td>\n",
              "    </tr>\n",
              "  </tbody>\n",
              "</table>\n",
              "<p>137235 rows × 2 columns</p>\n",
              "</div>"
            ],
            "text/plain": [
              "                                              description  price\n",
              "0       This tremendous 100% varietal wine hails from ...  235.0\n",
              "1       Ripe aromas of fig, blackberry and cassis are ...  110.0\n",
              "2       Mac Watson honors the memory of a wine once ma...   90.0\n",
              "3       This spent 20 months in 30% new French oak, an...   65.0\n",
              "4       This is the top wine from La Bégude, named aft...   66.0\n",
              "...                                                   ...    ...\n",
              "150925  Many people feel Fiano represents southern Ita...   20.0\n",
              "150926  Offers an intriguing nose with ginger, lime an...   27.0\n",
              "150927  This classic example comes from a cru vineyard...   20.0\n",
              "150928  A perfect salmon shade, with scents of peaches...   52.0\n",
              "150929  More Pinot Grigios should taste like this. A r...   15.0\n",
              "\n",
              "[137235 rows x 2 columns]"
            ]
          },
          "metadata": {
            "tags": []
          },
          "execution_count": 11
        }
      ]
    },
    {
      "cell_type": "code",
      "metadata": {
        "id": "182ONnL6g1pD",
        "colab": {
          "base_uri": "https://localhost:8080/"
        },
        "outputId": "3a969e3f-2083-41b2-d48f-d0a9bf0825a2"
      },
      "source": [
        "# Ensure the Columns were dropped\n",
        "print(\"# of NaN in every column\\n\", df_2.isnull().sum(axis = 0))"
      ],
      "execution_count": 12,
      "outputs": [
        {
          "output_type": "stream",
          "text": [
            "# of NaN in every column\n",
            " description    0\n",
            "price          0\n",
            "dtype: int64\n"
          ],
          "name": "stdout"
        }
      ]
    },
    {
      "cell_type": "code",
      "metadata": {
        "id": "DdpRmohCg150",
        "colab": {
          "base_uri": "https://localhost:8080/",
          "height": 374
        },
        "outputId": "08cab81c-cbe3-4f9f-8546-a563dcd84eb1"
      },
      "source": [
        "# Add column for length of description for NLP processing model\n",
        "\n",
        "df_3 = df_2.assign(description_length = df_2['description'].apply(len))\n",
        "df_3.info()\n",
        "df_3.head()"
      ],
      "execution_count": 13,
      "outputs": [
        {
          "output_type": "stream",
          "text": [
            "<class 'pandas.core.frame.DataFrame'>\n",
            "Int64Index: 137235 entries, 0 to 150929\n",
            "Data columns (total 3 columns):\n",
            " #   Column              Non-Null Count   Dtype  \n",
            "---  ------              --------------   -----  \n",
            " 0   description         137235 non-null  object \n",
            " 1   price               137235 non-null  float64\n",
            " 2   description_length  137235 non-null  int64  \n",
            "dtypes: float64(1), int64(1), object(1)\n",
            "memory usage: 4.2+ MB\n"
          ],
          "name": "stdout"
        },
        {
          "output_type": "execute_result",
          "data": {
            "text/html": [
              "<div>\n",
              "<style scoped>\n",
              "    .dataframe tbody tr th:only-of-type {\n",
              "        vertical-align: middle;\n",
              "    }\n",
              "\n",
              "    .dataframe tbody tr th {\n",
              "        vertical-align: top;\n",
              "    }\n",
              "\n",
              "    .dataframe thead th {\n",
              "        text-align: right;\n",
              "    }\n",
              "</style>\n",
              "<table border=\"1\" class=\"dataframe\">\n",
              "  <thead>\n",
              "    <tr style=\"text-align: right;\">\n",
              "      <th></th>\n",
              "      <th>description</th>\n",
              "      <th>price</th>\n",
              "      <th>description_length</th>\n",
              "    </tr>\n",
              "  </thead>\n",
              "  <tbody>\n",
              "    <tr>\n",
              "      <th>0</th>\n",
              "      <td>This tremendous 100% varietal wine hails from ...</td>\n",
              "      <td>235.0</td>\n",
              "      <td>355</td>\n",
              "    </tr>\n",
              "    <tr>\n",
              "      <th>1</th>\n",
              "      <td>Ripe aromas of fig, blackberry and cassis are ...</td>\n",
              "      <td>110.0</td>\n",
              "      <td>318</td>\n",
              "    </tr>\n",
              "    <tr>\n",
              "      <th>2</th>\n",
              "      <td>Mac Watson honors the memory of a wine once ma...</td>\n",
              "      <td>90.0</td>\n",
              "      <td>280</td>\n",
              "    </tr>\n",
              "    <tr>\n",
              "      <th>3</th>\n",
              "      <td>This spent 20 months in 30% new French oak, an...</td>\n",
              "      <td>65.0</td>\n",
              "      <td>386</td>\n",
              "    </tr>\n",
              "    <tr>\n",
              "      <th>4</th>\n",
              "      <td>This is the top wine from La Bégude, named aft...</td>\n",
              "      <td>66.0</td>\n",
              "      <td>376</td>\n",
              "    </tr>\n",
              "  </tbody>\n",
              "</table>\n",
              "</div>"
            ],
            "text/plain": [
              "                                         description  price  description_length\n",
              "0  This tremendous 100% varietal wine hails from ...  235.0                 355\n",
              "1  Ripe aromas of fig, blackberry and cassis are ...  110.0                 318\n",
              "2  Mac Watson honors the memory of a wine once ma...   90.0                 280\n",
              "3  This spent 20 months in 30% new French oak, an...   65.0                 386\n",
              "4  This is the top wine from La Bégude, named aft...   66.0                 376"
            ]
          },
          "metadata": {
            "tags": []
          },
          "execution_count": 13
        }
      ]
    },
    {
      "cell_type": "markdown",
      "metadata": {
        "id": "xhUG2bimN6Xo"
      },
      "source": [
        "Five separate functions to create bins for separate price ranges of wine.\n",
        "For each time the code is run, all but one of the functions, and their accompanying code to create the \"price_grouped\" column, must be commented out."
      ]
    },
    {
      "cell_type": "code",
      "metadata": {
        "id": "ek8v61DQdvsR"
      },
      "source": [
        "# Bin the prices so the range of prices is more manageable for the model\n",
        "\n",
        "# BINS NUMBER: 1, Returns 74% Accuracy\n",
        "\n",
        "# def price_bins(price):\n",
        "#     if price < 35:\n",
        "#         return 1\n",
        "#     elif price >= 35 and price < 70:\n",
        "#         return 2 \n",
        "#     elif price >= 70 and price < 105:\n",
        "#         return 3 \n",
        "#     elif price >= 105 and price < 140:\n",
        "#         return 5 \n",
        "#     elif price >= 140 and price < 175:\n",
        "#         return 6\n",
        "#     elif price >= 175 and price < 210:\n",
        "#         return 7\n",
        "#     elif price >= 210 and price < 245:\n",
        "#         return 8\n",
        "#     elif price >= 245 and price < 280:\n",
        "#         return 9\n",
        "#     elif price >= 280 and price < 315:\n",
        "#         return 10\n",
        "#     elif price >= 315 and price < 350:\n",
        "#         return 11\n",
        "#     elif price >= 350 and price < 385:\n",
        "#         return 12\n",
        "#     elif price >= 385 and price < 420:\n",
        "#         return 13\n",
        "#     elif price >= 420 and price < 455:\n",
        "#         return 14\n",
        "#     elif price >= 455 and price < 490:\n",
        "#         return 15\n",
        "#     elif price >= 490 and price < 525:\n",
        "#         return 16\n",
        "#     elif price >= 525 and price < 560:\n",
        "#         return 17\n",
        "#     elif price >= 560 and price < 595:\n",
        "#         return 18\n",
        "#     elif price >= 595 and price < 630:\n",
        "#         return 19\n",
        "#     elif price >= 630 and price < 665:\n",
        "#         return 20\n",
        "#     elif price >= 665 and price < 700:\n",
        "#         return 21\n",
        "#     else:\n",
        "#         return 22\n",
        "\n",
        "# Applying transform method and assigning result to new column \"price_grouped\"\n",
        "# df_3 = df_3.assign(price_grouped = df_3['price'].apply(price_bins))\n",
        "# df_3.head()\n",
        "\n"
      ],
      "execution_count": 14,
      "outputs": []
    },
    {
      "cell_type": "code",
      "metadata": {
        "id": "UAy-fNtChs0Y"
      },
      "source": [
        "# # ALTERNATIVE BINS MODEL NUMBER: 2, Returns 83% Accuracy\n",
        "\n",
        "# def price_bins_2(price):\n",
        "#     if price < 50:\n",
        "#         return 1\n",
        "#     elif price >= 50 and price < 100:\n",
        "#         return 2\n",
        "#     elif price >= 100 and price < 150:\n",
        "#         return 3\n",
        "#     elif price >= 150 and price < 200:\n",
        "#         return 4\n",
        "#     elif price >= 200 and price < 250:\n",
        "#         return 5\n",
        "#     elif price >= 250 and price < 300:\n",
        "#         return 6\n",
        "#     elif price >= 300 and price < 350:\n",
        "#         return 7\n",
        "#     elif price >= 350 and price < 400:\n",
        "#         return 8\n",
        "#     elif price >= 400 and price < 450:\n",
        "#         return 9\n",
        "#     elif price >= 450 and price < 500:\n",
        "#         return 10\n",
        "#     elif price >= 500 and price < 550:\n",
        "#         return 11\n",
        "#     elif price >= 550 and price < 600:\n",
        "#         return 12\n",
        "#     elif price >= 600 and price < 650:\n",
        "#         return 13\n",
        "#     elif price >= 650 and price < 700:\n",
        "#         return 14\n",
        "#     else:\n",
        "#         return 15\n",
        "\n",
        "# #Applying transform method and assigning result to new column \"points_simplified\"\n",
        "# df_3 = df_3.assign(price_grouped = df_3['price'].apply(price_bins_2))\n",
        "# df_3.head()"
      ],
      "execution_count": 15,
      "outputs": []
    },
    {
      "cell_type": "code",
      "metadata": {
        "id": "vrUrvbIUrgAc",
        "colab": {
          "base_uri": "https://localhost:8080/",
          "height": 204
        },
        "outputId": "4b79e8c7-e131-4579-ea8e-c6b8084baa97"
      },
      "source": [
        "# # ALTERNATIVE BINS MODEL NUMBER: 3, Returns 92% Accuracy\n",
        "\n",
        "def price_bins_3(price):\n",
        "    if price < 75:\n",
        "        return 1\n",
        "    elif price >= 75 and price < 150:\n",
        "        return 2\n",
        "    elif price >= 150 and price < 225:\n",
        "        return 3\n",
        "    elif price >= 225 and price < 300:\n",
        "        return 4\n",
        "    elif price >= 300 and price < 375:\n",
        "        return 5\n",
        "    elif price >= 375 and price < 450:\n",
        "        return 6\n",
        "    elif price >= 450 and price < 525:\n",
        "        return 7\n",
        "    elif price >= 525 and price < 600:\n",
        "        return 8\n",
        "    elif price >= 600 and price < 675:\n",
        "        return 9\n",
        "    else:\n",
        "        return 10\n",
        "\n",
        "# #Applying transform method and assigning result to new column \"points_simplified\"\n",
        "df_3 = df_3.assign(price_grouped = df_3['price'].apply(price_bins_3))\n",
        "df_3.head()"
      ],
      "execution_count": 16,
      "outputs": [
        {
          "output_type": "execute_result",
          "data": {
            "text/html": [
              "<div>\n",
              "<style scoped>\n",
              "    .dataframe tbody tr th:only-of-type {\n",
              "        vertical-align: middle;\n",
              "    }\n",
              "\n",
              "    .dataframe tbody tr th {\n",
              "        vertical-align: top;\n",
              "    }\n",
              "\n",
              "    .dataframe thead th {\n",
              "        text-align: right;\n",
              "    }\n",
              "</style>\n",
              "<table border=\"1\" class=\"dataframe\">\n",
              "  <thead>\n",
              "    <tr style=\"text-align: right;\">\n",
              "      <th></th>\n",
              "      <th>description</th>\n",
              "      <th>price</th>\n",
              "      <th>description_length</th>\n",
              "      <th>price_grouped</th>\n",
              "    </tr>\n",
              "  </thead>\n",
              "  <tbody>\n",
              "    <tr>\n",
              "      <th>0</th>\n",
              "      <td>This tremendous 100% varietal wine hails from ...</td>\n",
              "      <td>235.0</td>\n",
              "      <td>355</td>\n",
              "      <td>4</td>\n",
              "    </tr>\n",
              "    <tr>\n",
              "      <th>1</th>\n",
              "      <td>Ripe aromas of fig, blackberry and cassis are ...</td>\n",
              "      <td>110.0</td>\n",
              "      <td>318</td>\n",
              "      <td>2</td>\n",
              "    </tr>\n",
              "    <tr>\n",
              "      <th>2</th>\n",
              "      <td>Mac Watson honors the memory of a wine once ma...</td>\n",
              "      <td>90.0</td>\n",
              "      <td>280</td>\n",
              "      <td>2</td>\n",
              "    </tr>\n",
              "    <tr>\n",
              "      <th>3</th>\n",
              "      <td>This spent 20 months in 30% new French oak, an...</td>\n",
              "      <td>65.0</td>\n",
              "      <td>386</td>\n",
              "      <td>1</td>\n",
              "    </tr>\n",
              "    <tr>\n",
              "      <th>4</th>\n",
              "      <td>This is the top wine from La Bégude, named aft...</td>\n",
              "      <td>66.0</td>\n",
              "      <td>376</td>\n",
              "      <td>1</td>\n",
              "    </tr>\n",
              "  </tbody>\n",
              "</table>\n",
              "</div>"
            ],
            "text/plain": [
              "                                         description  ...  price_grouped\n",
              "0  This tremendous 100% varietal wine hails from ...  ...              4\n",
              "1  Ripe aromas of fig, blackberry and cassis are ...  ...              2\n",
              "2  Mac Watson honors the memory of a wine once ma...  ...              2\n",
              "3  This spent 20 months in 30% new French oak, an...  ...              1\n",
              "4  This is the top wine from La Bégude, named aft...  ...              1\n",
              "\n",
              "[5 rows x 4 columns]"
            ]
          },
          "metadata": {
            "tags": []
          },
          "execution_count": 16
        }
      ]
    },
    {
      "cell_type": "code",
      "metadata": {
        "id": "USXIDQPTpWhD"
      },
      "source": [
        "# # ALTERNATIVE BINS MODEL NUMBER: 4, Returns 96% Accuracy\n",
        "\n",
        "# def price_bins_4(price):\n",
        "#     if price < 100:\n",
        "#         return 1\n",
        "#     elif price >= 100 and price < 200:\n",
        "#         return 2\n",
        "#     elif price >= 200 and price < 300:\n",
        "#         return 3\n",
        "#     elif price >= 300 and price < 400:\n",
        "#         return 4\n",
        "#     elif price >= 400 and price < 500:\n",
        "#         return 5\n",
        "#     elif price >= 500 and price < 600:\n",
        "#         return 6\n",
        "#     elif price >= 600 and price < 700:\n",
        "#         return 7\n",
        "#     else:\n",
        "#         return 8\n",
        "\n",
        "# # #Applying transform method and assigning result to new column \"points_simplified\"\n",
        "# df_3 = df_3.assign(price_grouped = df_3['price'].apply(price_bins_4))\n",
        "# df_3.head()"
      ],
      "execution_count": 17,
      "outputs": []
    },
    {
      "cell_type": "code",
      "metadata": {
        "id": "DNU7Mo3h61LH"
      },
      "source": [
        ""
      ],
      "execution_count": 17,
      "outputs": []
    },
    {
      "cell_type": "code",
      "metadata": {
        "id": "OfRcFzCp62xR"
      },
      "source": [
        "# # ALTERNATIVE BINS MODEL NUMBER: 5, Returns 50% Accuracy\n",
        "\n",
        "# USE for histogram, IT shows the distribution is mainly consisting of wines less than $100\n",
        "\n",
        "# def price_bins_5(price):\n",
        "#     if price < 10:\n",
        "#         return 1\n",
        "#     elif price >= 10 and price < 20:\n",
        "#         return 2\n",
        "#     elif price >= 20 and price < 30:\n",
        "#         return 3\n",
        "#     elif price >= 30 and price < 40:\n",
        "#         return 4\n",
        "#     elif price >= 40 and price < 50:\n",
        "#         return 5\n",
        "#     elif price >= 50 and price < 60:\n",
        "#         return 6\n",
        "#     elif price >= 60 and price < 70:\n",
        "#         return 7\n",
        "#     elif price >= 70 and price < 80:\n",
        "#         return 8\n",
        "#     elif price >= 80 and price < 90:\n",
        "#         return 9\n",
        "#     elif price >= 90 and price < 100:\n",
        "#         return 10\n",
        "#     else:\n",
        "#         return 11\n",
        "\n",
        "# # #Applying transform method and assigning result to new column \"points_simplified\"\n",
        "# df_3 = df_3.assign(price_grouped = df_3['price'].apply(price_bins_5))\n",
        "# df_3.head()"
      ],
      "execution_count": 18,
      "outputs": []
    },
    {
      "cell_type": "code",
      "metadata": {
        "id": "me7qKsDs1uRm",
        "colab": {
          "base_uri": "https://localhost:8080/",
          "height": 297
        },
        "outputId": "77904af4-e3c1-422b-9efb-6b08602857d2"
      },
      "source": [
        "# Histogram\n",
        "\n",
        "sns.histplot(data=df_3, x=\"price_grouped\", element=\"step\")\n"
      ],
      "execution_count": 19,
      "outputs": [
        {
          "output_type": "execute_result",
          "data": {
            "text/plain": [
              "<matplotlib.axes._subplots.AxesSubplot at 0x7fbfcd6d55f8>"
            ]
          },
          "metadata": {
            "tags": []
          },
          "execution_count": 19
        },
        {
          "output_type": "display_data",
          "data": {
            "image/png": "[encoded data removed]",
            "text/plain": [
              "<Figure size 432x288 with 1 Axes>"
            ]
          },
          "metadata": {
            "tags": [],
            "needs_background": "light"
          }
        }
      ]
    },
    {
      "cell_type": "code",
      "metadata": {
        "colab": {
          "base_uri": "https://localhost:8080/",
          "height": 297
        },
        "id": "tMAVIQRWjxaP",
        "outputId": "af56be1c-d1c3-41e0-e5a8-b1c45e694567"
      },
      "source": [
        "# Describe the Price Point Groups\n",
        "pricePoints = df_3[['price_grouped']]\n",
        "pricePoints.describe()"
      ],
      "execution_count": 20,
      "outputs": [
        {
          "output_type": "execute_result",
          "data": {
            "text/html": [
              "<div>\n",
              "<style scoped>\n",
              "    .dataframe tbody tr th:only-of-type {\n",
              "        vertical-align: middle;\n",
              "    }\n",
              "\n",
              "    .dataframe tbody tr th {\n",
              "        vertical-align: top;\n",
              "    }\n",
              "\n",
              "    .dataframe thead th {\n",
              "        text-align: right;\n",
              "    }\n",
              "</style>\n",
              "<table border=\"1\" class=\"dataframe\">\n",
              "  <thead>\n",
              "    <tr style=\"text-align: right;\">\n",
              "      <th></th>\n",
              "      <th>price_grouped</th>\n",
              "    </tr>\n",
              "  </thead>\n",
              "  <tbody>\n",
              "    <tr>\n",
              "      <th>count</th>\n",
              "      <td>137235.000000</td>\n",
              "    </tr>\n",
              "    <tr>\n",
              "      <th>mean</th>\n",
              "      <td>1.089088</td>\n",
              "    </tr>\n",
              "    <tr>\n",
              "      <th>std</th>\n",
              "      <td>0.418686</td>\n",
              "    </tr>\n",
              "    <tr>\n",
              "      <th>min</th>\n",
              "      <td>1.000000</td>\n",
              "    </tr>\n",
              "    <tr>\n",
              "      <th>25%</th>\n",
              "      <td>1.000000</td>\n",
              "    </tr>\n",
              "    <tr>\n",
              "      <th>50%</th>\n",
              "      <td>1.000000</td>\n",
              "    </tr>\n",
              "    <tr>\n",
              "      <th>75%</th>\n",
              "      <td>1.000000</td>\n",
              "    </tr>\n",
              "    <tr>\n",
              "      <th>max</th>\n",
              "      <td>10.000000</td>\n",
              "    </tr>\n",
              "  </tbody>\n",
              "</table>\n",
              "</div>"
            ],
            "text/plain": [
              "       price_grouped\n",
              "count  137235.000000\n",
              "mean        1.089088\n",
              "std         0.418686\n",
              "min         1.000000\n",
              "25%         1.000000\n",
              "50%         1.000000\n",
              "75%         1.000000\n",
              "max        10.000000"
            ]
          },
          "metadata": {
            "tags": []
          },
          "execution_count": 20
        }
      ]
    },
    {
      "cell_type": "markdown",
      "metadata": {
        "id": "2qNWpauxvlMo"
      },
      "source": [
        "Converting the Pandas Dataframe to a Pyspark Dataframe \n"
      ]
    },
    {
      "cell_type": "code",
      "metadata": {
        "id": "cGzHswBXg50j",
        "colab": {
          "base_uri": "https://localhost:8080/"
        },
        "outputId": "2956d730-b5a4-40ed-ebe3-caba9a3bd3a0"
      },
      "source": [
        "\n",
        "# Pandas to Spark\n",
        "wine_DF = spark.createDataFrame(df_3)\n",
        "\n",
        "wine_DF.show()"
      ],
      "execution_count": 21,
      "outputs": [
        {
          "output_type": "stream",
          "text": [
            "+--------------------+-----+------------------+-------------+\n",
            "|         description|price|description_length|price_grouped|\n",
            "+--------------------+-----+------------------+-------------+\n",
            "|This tremendous 1...|235.0|               355|            4|\n",
            "|Ripe aromas of fi...|110.0|               318|            2|\n",
            "|Mac Watson honors...| 90.0|               280|            2|\n",
            "|This spent 20 mon...| 65.0|               386|            1|\n",
            "|This is the top w...| 66.0|               376|            1|\n",
            "|Deep, dense and p...| 73.0|               315|            1|\n",
            "|Slightly gritty b...| 65.0|               319|            1|\n",
            "|Lush cedary black...|110.0|               357|            2|\n",
            "|This re-named vin...| 65.0|               298|            1|\n",
            "|The producer sour...| 60.0|               307|            1|\n",
            "|Elegance, complex...| 80.0|               374|            2|\n",
            "|From 18-year-old ...| 48.0|               260|            1|\n",
            "|A standout even i...| 48.0|               289|            1|\n",
            "|This wine is in p...| 90.0|               303|            2|\n",
            "|With its sophisti...|185.0|               427|            3|\n",
            "|First made in 200...| 90.0|               277|            2|\n",
            "|This blockbuster,...|325.0|               276|            5|\n",
            "|Nicely oaked blac...| 80.0|               338|            2|\n",
            "|Coming from a sev...|290.0|               372|            4|\n",
            "|This fresh and li...| 75.0|               260|            2|\n",
            "+--------------------+-----+------------------+-------------+\n",
            "only showing top 20 rows\n",
            "\n"
          ],
          "name": "stdout"
        }
      ]
    },
    {
      "cell_type": "code",
      "metadata": {
        "id": "WnSkv1o-oR9v",
        "colab": {
          "base_uri": "https://localhost:8080/"
        },
        "outputId": "f2a7488c-c1fa-4d9a-e15b-0ff5c3d4234d"
      },
      "source": [
        "# Ensure no missing values were created when converting the DataFrame\n",
        "\n",
        "from pyspark.sql.functions import isnan, when, count, col, isnull\n",
        "\n",
        "wine_DF.select([count(when(isnull(j), j)).alias(j) for j in wine_DF.columns]).show()\n"
      ],
      "execution_count": 22,
      "outputs": [
        {
          "output_type": "stream",
          "text": [
            "+-----------+-----+------------------+-------------+\n",
            "|description|price|description_length|price_grouped|\n",
            "+-----------+-----+------------------+-------------+\n",
            "|          0|    0|                 0|            0|\n",
            "+-----------+-----+------------------+-------------+\n",
            "\n"
          ],
          "name": "stdout"
        }
      ]
    },
    {
      "cell_type": "markdown",
      "metadata": {
        "id": "wXYm8gqEjJH3"
      },
      "source": [
        "Feeding the NLP model to catagorize the wines into price points\n"
      ]
    },
    {
      "cell_type": "code",
      "metadata": {
        "id": "mNyUIYQXp7af"
      },
      "source": [
        "from pyspark.ml.feature import Tokenizer, StopWordsRemover, HashingTF, IDF, StringIndexer\n",
        "# Create all the features to the data set\n",
        "wine_prices = StringIndexer(inputCol='price_grouped',outputCol='label')\n",
        "tokenizer = Tokenizer(inputCol=\"description\", outputCol=\"token_text\")\n",
        "stopremove = StopWordsRemover(inputCol='token_text',outputCol='stop_tokens')\n",
        "hashingTF = HashingTF(inputCol=\"stop_tokens\", outputCol='hash_token')\n",
        "idf = IDF(inputCol='hash_token', outputCol='idf_token')\n",
        "\n"
      ],
      "execution_count": 23,
      "outputs": []
    },
    {
      "cell_type": "code",
      "metadata": {
        "id": "L1RUBS6FR-eQ"
      },
      "source": [
        "from pyspark.ml.feature import VectorAssembler\n",
        "from pyspark.ml.linalg import Vector\n",
        "\n",
        "# Create feature vectors\n",
        "clean_up = VectorAssembler(inputCols=['idf_token', 'description_length'], outputCol='features')"
      ],
      "execution_count": 24,
      "outputs": []
    },
    {
      "cell_type": "code",
      "metadata": {
        "id": "gvpAP7aCp7-R"
      },
      "source": [
        "# Create a and run a data processing Pipeline\n",
        "from pyspark.ml import Pipeline\n",
        "data_prep_pipeline = Pipeline(stages=[wine_prices, tokenizer, stopremove, hashingTF, idf, clean_up])"
      ],
      "execution_count": 25,
      "outputs": []
    },
    {
      "cell_type": "code",
      "metadata": {
        "id": "9uQ3YTrbp433"
      },
      "source": [
        "# Fitting and Transforming the Pipeline\n",
        "cleaner = data_prep_pipeline.fit(wine_DF)\n",
        "cleaned = cleaner.transform(wine_DF)"
      ],
      "execution_count": 26,
      "outputs": []
    },
    {
      "cell_type": "code",
      "metadata": {
        "id": "MkdA8p83ZHhE",
        "colab": {
          "base_uri": "https://localhost:8080/"
        },
        "outputId": "1c61412d-45c2-400a-b6c6-0ade09edc021"
      },
      "source": [
        "# Show label and resulting features\n",
        "cleaned.select(['label', 'features']).show()"
      ],
      "execution_count": 27,
      "outputs": [
        {
          "output_type": "stream",
          "text": [
            "+-----+--------------------+\n",
            "|label|            features|\n",
            "+-----+--------------------+\n",
            "|  3.0|(262145,[2701,160...|\n",
            "|  1.0|(262145,[11481,33...|\n",
            "|  1.0|(262145,[10077,26...|\n",
            "|  0.0|(262145,[1546,423...|\n",
            "|  0.0|(262145,[1546,171...|\n",
            "|  0.0|(262145,[8408,181...|\n",
            "|  0.0|(262145,[5561,196...|\n",
            "|  1.0|(262145,[4235,315...|\n",
            "|  0.0|(262145,[2306,316...|\n",
            "|  0.0|(262145,[3354,415...|\n",
            "|  1.0|(262145,[3848,939...|\n",
            "|  0.0|(262145,[3456,215...|\n",
            "|  0.0|(262145,[4176,894...|\n",
            "|  1.0|(262145,[8297,120...|\n",
            "|  2.0|(262145,[5847,160...|\n",
            "|  1.0|(262145,[1546,439...|\n",
            "|  4.0|(262145,[18911,55...|\n",
            "|  1.0|(262145,[2701,104...|\n",
            "|  3.0|(262145,[1546,544...|\n",
            "|  1.0|(262145,[3572,190...|\n",
            "+-----+--------------------+\n",
            "only showing top 20 rows\n",
            "\n"
          ],
          "name": "stdout"
        }
      ]
    },
    {
      "cell_type": "markdown",
      "metadata": {
        "id": "Y4pKYGHGPVsS"
      },
      "source": [
        "Import the NaiveBayes module for the classification model."
      ]
    },
    {
      "cell_type": "code",
      "metadata": {
        "id": "W5Key6f9ZVoc"
      },
      "source": [
        "from pyspark.ml.classification import NaiveBayes\n",
        "\n",
        "# # Break data down into a training set and a testing set\n",
        "training, testing = cleaned.randomSplit([0.7, 0.3])\n",
        "\n",
        "# # Create a Naive Bayes model and fit training data\n",
        "nb = NaiveBayes()\n",
        "predictor = nb.fit(training)"
      ],
      "execution_count": 29,
      "outputs": []
    },
    {
      "cell_type": "code",
      "metadata": {
        "id": "JB3qQD1yZfIA",
        "colab": {
          "base_uri": "https://localhost:8080/"
        },
        "outputId": "9611ba84-c66d-4b1e-a6f4-7b77c4dacf30"
      },
      "source": [
        "# Tranform the model with the testing data\n",
        "test_results = predictor.transform(testing)\n",
        "test_results.show(5)"
      ],
      "execution_count": 30,
      "outputs": [
        {
          "output_type": "stream",
          "text": [
            "+--------------------+-----+------------------+-------------+-----+--------------------+--------------------+--------------------+--------------------+--------------------+--------------------+--------------------+----------+\n",
            "|         description|price|description_length|price_grouped|label|          token_text|         stop_tokens|          hash_token|           idf_token|            features|       rawPrediction|         probability|prediction|\n",
            "+--------------------+-----+------------------+-------------+-----+--------------------+--------------------+--------------------+--------------------+--------------------+--------------------+--------------------+----------+\n",
            "|). Certainly not ...| 42.0|               286|            1|  0.0|[)., certainly, n...|[)., certainly, l...|(262144,[3992,268...|(262144,[3992,268...|(262145,[3992,268...|[-1478.5688318444...|[0.99999999447481...|       0.0|\n",
            "|. Christoph Neume...| 48.0|               233|            1|  0.0|[., christoph, ne...|[., christoph, ne...|(262144,[18176,37...|(262144,[18176,37...|(262145,[18176,37...|[-1636.4297662481...|[0.99971419520784...|       0.0|\n",
            "|. Christoph Neume...| 48.0|               233|            1|  0.0|[., christoph, ne...|[., christoph, ne...|(262144,[18176,37...|(262144,[18176,37...|(262145,[18176,37...|[-1636.4297662481...|[0.99971419520784...|       0.0|\n",
            "|. If you're famil...| 23.0|               288|            1|  0.0|[., if, you're, f...|[., familiar, lus...|(262144,[1892,326...|(262144,[1892,326...|(262145,[1892,326...|[-1695.9763550731...|[1.0,3.6417041915...|       0.0|\n",
            "|. The citrus and ...| 14.0|               245|            1|  0.0|[., the, citrus, ...|[., citrus, grape...|(262144,[23071,37...|(262144,[23071,37...|(262145,[23071,37...|[-1321.2058221899...|[1.0,5.4256842188...|       0.0|\n",
            "+--------------------+-----+------------------+-------------+-----+--------------------+--------------------+--------------------+--------------------+--------------------+--------------------+--------------------+----------+\n",
            "only showing top 5 rows\n",
            "\n"
          ],
          "name": "stdout"
        }
      ]
    },
    {
      "cell_type": "markdown",
      "metadata": {
        "id": "5CBRHJPTPo2E"
      },
      "source": [
        "Use the Class Evaluator to return the accuracy of the model."
      ]
    },
    {
      "cell_type": "code",
      "metadata": {
        "id": "Z9ij2aOvc5ct",
        "colab": {
          "base_uri": "https://localhost:8080/"
        },
        "outputId": "db532e42-f430-4b73-c593-1ab92fd0bb0b"
      },
      "source": [
        "from pyspark.ml.evaluation import MulticlassClassificationEvaluator\n",
        "\n",
        "acc_eval = MulticlassClassificationEvaluator()\n",
        "acc = acc_eval.evaluate(test_results)\n",
        "print(\"Accuracy of model at predicting the wine's price was: %f\" % acc)"
      ],
      "execution_count": 31,
      "outputs": [
        {
          "output_type": "stream",
          "text": [
            "Accuracy of model at predicting the wine's price was: 0.920847\n"
          ],
          "name": "stdout"
        }
      ]
    }
  ]
}