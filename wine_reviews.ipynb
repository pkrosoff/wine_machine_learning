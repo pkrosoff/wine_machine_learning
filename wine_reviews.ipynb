{
  "nbformat": 4,
  "nbformat_minor": 0,
  "metadata": {
    "colab": {
      "name": "wine_reviews.ipynb",
      "provenance": [],
      "collapsed_sections": [],
      "toc_visible": true,
      "mount_file_id": "13c8q4yLxF8L1L05IHlhHbergdmkioZc-",
      "authorship_tag": "ABX9TyOGK/PIGIDGkn7mxadMC5b2",
      "include_colab_link": true
    },
    "kernelspec": {
      "name": "python3",
      "display_name": "Python 3"
    }
  },
  "cells": [
    {
      "cell_type": "markdown",
      "metadata": {
        "id": "view-in-github",
        "colab_type": "text"
      },
      "source": [
        "<a href=\"https://colab.research.google.com/github/pkrosoff/wine_machine_learning/blob/justans_branch/wine_reviews.ipynb\" target=\"_parent\"><img src=\"https://colab.research.google.com/assets/colab-badge.svg\" alt=\"Open In Colab\"/></a>"
      ]
    },
    {
      "cell_type": "code",
      "metadata": {
        "colab": {
          "base_uri": "https://localhost:8080/"
        },
        "id": "NnetNxlGEVyz",
        "outputId": "2deb22ec-3a08-4805-d0e5-16826d72d52d"
      },
      "source": [
        "import os\n",
        "# Find the latest version of spark 3.0  from http://www-us.apache.org/dist/spark/ and enter as the spark version\n",
        "# For example:\n",
        "spark_version = 'spark-3.0.1'\n",
        "# spark_version = 'spark-3.<enter version>'\n",
        "os.environ['SPARK_VERSION']=spark_version\n",
        "\n",
        "# Install Spark and Java\n",
        "!apt-get update\n",
        "!apt-get install openjdk-11-jdk-headless -qq > /dev/null\n",
        "!wget -q http://www-us.apache.org/dist/spark/$SPARK_VERSION/$SPARK_VERSION-bin-hadoop2.7.tgz\n",
        "!tar xf $SPARK_VERSION-bin-hadoop2.7.tgz\n",
        "!pip install -q findspark\n",
        "\n",
        "# Set Environment Variables\n",
        "os.environ[\"JAVA_HOME\"] = \"/usr/lib/jvm/java-11-openjdk-amd64\"\n",
        "os.environ[\"SPARK_HOME\"] = f\"/content/{spark_version}-bin-hadoop2.7\"\n",
        "\n",
        "# Start a SparkSession\n",
        "import findspark\n",
        "findspark.init()"
      ],
      "execution_count": 1,
      "outputs": [
        {
          "output_type": "stream",
          "text": [
            "Hit:1 https://cloud.r-project.org/bin/linux/ubuntu bionic-cran40/ InRelease\n",
            "Hit:2 http://ppa.launchpad.net/c2d4u.team/c2d4u4.0+/ubuntu bionic InRelease\n",
            "Hit:3 http://archive.ubuntu.com/ubuntu bionic InRelease\n",
            "Hit:4 http://security.ubuntu.com/ubuntu bionic-security InRelease\n",
            "Ign:5 https://developer.download.nvidia.com/compute/cuda/repos/ubuntu1804/x86_64  InRelease\n",
            "Ign:6 https://developer.download.nvidia.com/compute/machine-learning/repos/ubuntu1804/x86_64  InRelease\n",
            "Hit:7 https://developer.download.nvidia.com/compute/cuda/repos/ubuntu1804/x86_64  Release\n",
            "Hit:8 http://archive.ubuntu.com/ubuntu bionic-updates InRelease\n",
            "Hit:9 https://developer.download.nvidia.com/compute/machine-learning/repos/ubuntu1804/x86_64  Release\n",
            "Hit:10 http://ppa.launchpad.net/graphics-drivers/ppa/ubuntu bionic InRelease\n",
            "Hit:11 http://archive.ubuntu.com/ubuntu bionic-backports InRelease\n",
            "Reading package lists... Done\n"
          ],
          "name": "stdout"
        }
      ]
    },
    {
      "cell_type": "code",
      "metadata": {
        "id": "6i3sP8zGIeU4"
      },
      "source": [
        "# Start Spark session\n",
        "from pyspark.sql import SparkSession\n",
        "spark = SparkSession.builder.appName(\"NaiveBayes\").getOrCreate()"
      ],
      "execution_count": 2,
      "outputs": []
    },
    {
      "cell_type": "code",
      "metadata": {
        "id": "dZgYAaAsGpY9"
      },
      "source": [
        "# Read in data from Google Drive and put the data into a Panda's dataframe\n",
        "from pyspark import SparkFiles\n",
        "import pandas as pd\n",
        "\n",
        "path = \"/content/drive/MyDrive/winemag-data_first150k.csv\"\n",
        "df = pd.read_csv(path)"
      ],
      "execution_count": 3,
      "outputs": []
    },
    {
      "cell_type": "code",
      "metadata": {
        "colab": {
          "base_uri": "https://localhost:8080/",
          "height": 521
        },
        "id": "BVqIlwwlFQ6X",
        "outputId": "a2e3e7c6-0c7f-4a20-9468-a01e0789e4f4"
      },
      "source": [
        "df.dropna()"
      ],
      "execution_count": 4,
      "outputs": [
        {
          "output_type": "execute_result",
          "data": {
            "text/html": [
              "<div>\n",
              "<style scoped>\n",
              "    .dataframe tbody tr th:only-of-type {\n",
              "        vertical-align: middle;\n",
              "    }\n",
              "\n",
              "    .dataframe tbody tr th {\n",
              "        vertical-align: top;\n",
              "    }\n",
              "\n",
              "    .dataframe thead th {\n",
              "        text-align: right;\n",
              "    }\n",
              "</style>\n",
              "<table border=\"1\" class=\"dataframe\">\n",
              "  <thead>\n",
              "    <tr style=\"text-align: right;\">\n",
              "      <th></th>\n",
              "      <th>Unnamed: 0</th>\n",
              "      <th>country</th>\n",
              "      <th>description</th>\n",
              "      <th>designation</th>\n",
              "      <th>points</th>\n",
              "      <th>price</th>\n",
              "      <th>province</th>\n",
              "      <th>region_1</th>\n",
              "      <th>region_2</th>\n",
              "      <th>variety</th>\n",
              "      <th>winery</th>\n",
              "    </tr>\n",
              "  </thead>\n",
              "  <tbody>\n",
              "    <tr>\n",
              "      <th>0</th>\n",
              "      <td>0</td>\n",
              "      <td>US</td>\n",
              "      <td>This tremendous 100% varietal wine hails from ...</td>\n",
              "      <td>Martha's Vineyard</td>\n",
              "      <td>96</td>\n",
              "      <td>235.0</td>\n",
              "      <td>California</td>\n",
              "      <td>Napa Valley</td>\n",
              "      <td>Napa</td>\n",
              "      <td>Cabernet Sauvignon</td>\n",
              "      <td>Heitz</td>\n",
              "    </tr>\n",
              "    <tr>\n",
              "      <th>2</th>\n",
              "      <td>2</td>\n",
              "      <td>US</td>\n",
              "      <td>Mac Watson honors the memory of a wine once ma...</td>\n",
              "      <td>Special Selected Late Harvest</td>\n",
              "      <td>96</td>\n",
              "      <td>90.0</td>\n",
              "      <td>California</td>\n",
              "      <td>Knights Valley</td>\n",
              "      <td>Sonoma</td>\n",
              "      <td>Sauvignon Blanc</td>\n",
              "      <td>Macauley</td>\n",
              "    </tr>\n",
              "    <tr>\n",
              "      <th>3</th>\n",
              "      <td>3</td>\n",
              "      <td>US</td>\n",
              "      <td>This spent 20 months in 30% new French oak, an...</td>\n",
              "      <td>Reserve</td>\n",
              "      <td>96</td>\n",
              "      <td>65.0</td>\n",
              "      <td>Oregon</td>\n",
              "      <td>Willamette Valley</td>\n",
              "      <td>Willamette Valley</td>\n",
              "      <td>Pinot Noir</td>\n",
              "      <td>Ponzi</td>\n",
              "    </tr>\n",
              "    <tr>\n",
              "      <th>8</th>\n",
              "      <td>8</td>\n",
              "      <td>US</td>\n",
              "      <td>This re-named vineyard was formerly bottled as...</td>\n",
              "      <td>Silice</td>\n",
              "      <td>95</td>\n",
              "      <td>65.0</td>\n",
              "      <td>Oregon</td>\n",
              "      <td>Chehalem Mountains</td>\n",
              "      <td>Willamette Valley</td>\n",
              "      <td>Pinot Noir</td>\n",
              "      <td>Bergström</td>\n",
              "    </tr>\n",
              "    <tr>\n",
              "      <th>9</th>\n",
              "      <td>9</td>\n",
              "      <td>US</td>\n",
              "      <td>The producer sources from two blocks of the vi...</td>\n",
              "      <td>Gap's Crown Vineyard</td>\n",
              "      <td>95</td>\n",
              "      <td>60.0</td>\n",
              "      <td>California</td>\n",
              "      <td>Sonoma Coast</td>\n",
              "      <td>Sonoma</td>\n",
              "      <td>Pinot Noir</td>\n",
              "      <td>Blue Farm</td>\n",
              "    </tr>\n",
              "    <tr>\n",
              "      <th>...</th>\n",
              "      <td>...</td>\n",
              "      <td>...</td>\n",
              "      <td>...</td>\n",
              "      <td>...</td>\n",
              "      <td>...</td>\n",
              "      <td>...</td>\n",
              "      <td>...</td>\n",
              "      <td>...</td>\n",
              "      <td>...</td>\n",
              "      <td>...</td>\n",
              "      <td>...</td>\n",
              "    </tr>\n",
              "    <tr>\n",
              "      <th>150889</th>\n",
              "      <td>150889</td>\n",
              "      <td>US</td>\n",
              "      <td>A bizarre style of wine. The aromas are Port-l...</td>\n",
              "      <td>Lafond Vineyard</td>\n",
              "      <td>82</td>\n",
              "      <td>35.0</td>\n",
              "      <td>California</td>\n",
              "      <td>Santa Ynez Valley</td>\n",
              "      <td>Central Coast</td>\n",
              "      <td>Pinot Noir</td>\n",
              "      <td>Lafond</td>\n",
              "    </tr>\n",
              "    <tr>\n",
              "      <th>150892</th>\n",
              "      <td>150892</td>\n",
              "      <td>US</td>\n",
              "      <td>A light, earthy wine, with violet, berry and t...</td>\n",
              "      <td>Coastal</td>\n",
              "      <td>82</td>\n",
              "      <td>10.0</td>\n",
              "      <td>California</td>\n",
              "      <td>California</td>\n",
              "      <td>California Other</td>\n",
              "      <td>Merlot</td>\n",
              "      <td>Callaway</td>\n",
              "    </tr>\n",
              "    <tr>\n",
              "      <th>150914</th>\n",
              "      <td>150914</td>\n",
              "      <td>US</td>\n",
              "      <td>Old-gold in color, and thick and syrupy. The a...</td>\n",
              "      <td>Late Harvest Cluster Select</td>\n",
              "      <td>94</td>\n",
              "      <td>25.0</td>\n",
              "      <td>California</td>\n",
              "      <td>Anderson Valley</td>\n",
              "      <td>Mendocino/Lake Counties</td>\n",
              "      <td>White Riesling</td>\n",
              "      <td>Navarro</td>\n",
              "    </tr>\n",
              "    <tr>\n",
              "      <th>150915</th>\n",
              "      <td>150915</td>\n",
              "      <td>US</td>\n",
              "      <td>Decades ago, Beringer’s then-winemaker Myron N...</td>\n",
              "      <td>Nightingale</td>\n",
              "      <td>93</td>\n",
              "      <td>30.0</td>\n",
              "      <td>California</td>\n",
              "      <td>North Coast</td>\n",
              "      <td>North Coast</td>\n",
              "      <td>White Blend</td>\n",
              "      <td>Beringer</td>\n",
              "    </tr>\n",
              "    <tr>\n",
              "      <th>150916</th>\n",
              "      <td>150916</td>\n",
              "      <td>US</td>\n",
              "      <td>An impressive wine that presents a full bouque...</td>\n",
              "      <td>J. Schram</td>\n",
              "      <td>93</td>\n",
              "      <td>65.0</td>\n",
              "      <td>California</td>\n",
              "      <td>Napa Valley</td>\n",
              "      <td>Napa</td>\n",
              "      <td>Champagne Blend</td>\n",
              "      <td>Schramsberg</td>\n",
              "    </tr>\n",
              "  </tbody>\n",
              "</table>\n",
              "<p>39241 rows × 11 columns</p>\n",
              "</div>"
            ],
            "text/plain": [
              "        Unnamed: 0 country  ...             variety       winery\n",
              "0                0      US  ...  Cabernet Sauvignon        Heitz\n",
              "2                2      US  ...     Sauvignon Blanc     Macauley\n",
              "3                3      US  ...          Pinot Noir        Ponzi\n",
              "8                8      US  ...          Pinot Noir    Bergström\n",
              "9                9      US  ...          Pinot Noir    Blue Farm\n",
              "...            ...     ...  ...                 ...          ...\n",
              "150889      150889      US  ...          Pinot Noir       Lafond\n",
              "150892      150892      US  ...              Merlot     Callaway\n",
              "150914      150914      US  ...      White Riesling      Navarro\n",
              "150915      150915      US  ...         White Blend     Beringer\n",
              "150916      150916      US  ...     Champagne Blend  Schramsberg\n",
              "\n",
              "[39241 rows x 11 columns]"
            ]
          },
          "metadata": {
            "tags": []
          },
          "execution_count": 4
        }
      ]
    },
    {
      "cell_type": "code",
      "metadata": {
        "id": "CADoIIHbGo9E"
      },
      "source": [
        "# Create a second data fram to hold only the columns we want\n",
        "\n",
        "df_2 = df[['description', 'points']]"
      ],
      "execution_count": 5,
      "outputs": []
    },
    {
      "cell_type": "code",
      "metadata": {
        "colab": {
          "base_uri": "https://localhost:8080/"
        },
        "id": "x9rO-dTkDh1F",
        "outputId": "8567fdcf-4c18-440c-ca74-1881c002600e"
      },
      "source": [
        "# Pandas to Spark\n",
        "wine_scores = spark.createDataFrame(df_2)\n",
        "\n",
        "wine_scores.show()"
      ],
      "execution_count": 6,
      "outputs": [
        {
          "output_type": "stream",
          "text": [
            "+--------------------+------+\n",
            "|         description|points|\n",
            "+--------------------+------+\n",
            "|This tremendous 1...|    96|\n",
            "|Ripe aromas of fi...|    96|\n",
            "|Mac Watson honors...|    96|\n",
            "|This spent 20 mon...|    96|\n",
            "|This is the top w...|    95|\n",
            "|Deep, dense and p...|    95|\n",
            "|Slightly gritty b...|    95|\n",
            "|Lush cedary black...|    95|\n",
            "|This re-named vin...|    95|\n",
            "|The producer sour...|    95|\n",
            "|Elegance, complex...|    95|\n",
            "|From 18-year-old ...|    95|\n",
            "|A standout even i...|    95|\n",
            "|This wine is in p...|    95|\n",
            "|With its sophisti...|    95|\n",
            "|First made in 200...|    95|\n",
            "|This blockbuster,...|    95|\n",
            "|Nicely oaked blac...|    95|\n",
            "|Coming from a sev...|    95|\n",
            "|This fresh and li...|    95|\n",
            "+--------------------+------+\n",
            "only showing top 20 rows\n",
            "\n"
          ],
          "name": "stdout"
        }
      ]
    },
    {
      "cell_type": "code",
      "metadata": {
        "id": "EbDd1_p5aHLw"
      },
      "source": [
        "# Import regexp_replace to replace any characters that are not alphanumeric\n",
        "from pyspark.sql.functions import regexp_replace, col\n",
        "\n",
        "# Utitlize regexp_replace on the description column of the data frame\n",
        "df_3 = wine_scores.withColumn(\"description\", regexp_replace(col(\"description\"), \"[^a-zA-Z\\d\\s:]\", \"\"));"
      ],
      "execution_count": 7,
      "outputs": []
    },
    {
      "cell_type": "code",
      "metadata": {
        "colab": {
          "base_uri": "https://localhost:8080/"
        },
        "id": "eWOQ2QsUMEyN",
        "outputId": "d4c147a4-c7f7-4efa-87fe-6b493ac21ecc"
      },
      "source": [
        "from pyspark.sql.functions import length\n",
        "\n",
        "# Create a length column to be used as a future feature \n",
        "wine_df = df_3.withColumn('length', length(df_3['description']))\n",
        "\n",
        "# Show new wine_df with length column\n",
        "wine_df.show()"
      ],
      "execution_count": 8,
      "outputs": [
        {
          "output_type": "stream",
          "text": [
            "+--------------------+------+------+\n",
            "|         description|points|length|\n",
            "+--------------------+------+------+\n",
            "|This tremendous 1...|    96|   345|\n",
            "|Ripe aromas of fi...|    96|   309|\n",
            "|Mac Watson honors...|    96|   273|\n",
            "|This spent 20 mon...|    96|   370|\n",
            "|This is the top w...|    95|   364|\n",
            "|Deep dense and pu...|    95|   305|\n",
            "|Slightly gritty b...|    95|   309|\n",
            "|Lush cedary black...|    95|   347|\n",
            "|This renamed vine...|    95|   289|\n",
            "|The producer sour...|    95|   300|\n",
            "|Elegance complexi...|    95|   365|\n",
            "|From 18yearold vi...|    95|   250|\n",
            "|A standout even i...|    95|   282|\n",
            "|This wine is in p...|    95|   297|\n",
            "|With its sophisti...|    95|   412|\n",
            "|First made in 200...|    95|   271|\n",
            "|This blockbuster ...|    95|   268|\n",
            "|Nicely oaked blac...|    95|   329|\n",
            "|Coming from a sev...|    95|   361|\n",
            "|This fresh and li...|    95|   253|\n",
            "+--------------------+------+------+\n",
            "only showing top 20 rows\n",
            "\n"
          ],
          "name": "stdout"
        }
      ]
    },
    {
      "cell_type": "code",
      "metadata": {
        "colab": {
          "base_uri": "https://localhost:8080/"
        },
        "id": "00hRdc4jYl1J",
        "outputId": "beefbf0b-e540-4ff6-84e9-e26275e2ff6b"
      },
      "source": [
        "from pyspark.sql.functions import isnan, when, count, col, isnull\n",
        "\n",
        "# Find any null values\n",
        "wine_df.select([count(when(isnull(c), c)).alias(c) for c in wine_df.columns]).show()"
      ],
      "execution_count": 9,
      "outputs": [
        {
          "output_type": "stream",
          "text": [
            "+-----------+------+------+\n",
            "|description|points|length|\n",
            "+-----------+------+------+\n",
            "|          0|     0|     0|\n",
            "+-----------+------+------+\n",
            "\n"
          ],
          "name": "stdout"
        }
      ]
    },
    {
      "cell_type": "code",
      "metadata": {
        "id": "qkjZZoMVMcnJ"
      },
      "source": [
        "from pyspark.ml.feature import Tokenizer, StopWordsRemover, HashingTF, IDF, StringIndexer\n",
        "# Create all the features to the data set\n",
        "# Create label column for predictor\n",
        "wine_points = StringIndexer(inputCol='points',outputCol='label')\n",
        "tokenizer = Tokenizer(inputCol=\"description\", outputCol=\"token_text\")\n",
        "stopremove = StopWordsRemover(inputCol='token_text',outputCol='stop_tokens')\n",
        "hashingTF = HashingTF(inputCol=\"stop_tokens\", outputCol='hash_token')\n",
        "idf = IDF(inputCol='hash_token', outputCol='idf_token')"
      ],
      "execution_count": 10,
      "outputs": []
    },
    {
      "cell_type": "code",
      "metadata": {
        "id": "iwVd42npEzG1"
      },
      "source": [
        "from pyspark.ml.feature import VectorAssembler\n",
        "from pyspark.ml.linalg import Vector\n",
        "\n",
        "# Create feature vectors\n",
        "clean_up = VectorAssembler(inputCols=['idf_token', 'length'], outputCol='features')"
      ],
      "execution_count": 11,
      "outputs": []
    },
    {
      "cell_type": "code",
      "metadata": {
        "id": "bRm8exytMbbX"
      },
      "source": [
        "# Create and run a data processing Pipeline\n",
        "from pyspark.ml import Pipeline\n",
        "data_prep_pipeline = Pipeline(stages=[wine_points, tokenizer, stopremove, hashingTF, idf, clean_up])"
      ],
      "execution_count": 12,
      "outputs": []
    },
    {
      "cell_type": "code",
      "metadata": {
        "id": "Jl5yoBA0E2pg"
      },
      "source": [
        "# Fit and transform the pipeline\n",
        "cleaner = data_prep_pipeline.fit(wine_df)\n",
        "cleaned = cleaner.transform(wine_df)"
      ],
      "execution_count": 13,
      "outputs": []
    },
    {
      "cell_type": "code",
      "metadata": {
        "colab": {
          "base_uri": "https://localhost:8080/"
        },
        "id": "O_hpXoPiNLM9",
        "outputId": "c1e39aa1-c839-4e96-a696-8fdd50d1bd0e"
      },
      "source": [
        "# Show label, points, and resulting features. We can see that points range from 0-21. 0 being the most common score which is 87.\n",
        "cleaned.select(['label','features']).show()"
      ],
      "execution_count": 14,
      "outputs": [
        {
          "output_type": "stream",
          "text": [
            "+-----+--------------------+\n",
            "|label|            features|\n",
            "+-----+--------------------+\n",
            "| 16.0|(262145,[2701,471...|\n",
            "| 16.0|(262145,[11481,33...|\n",
            "| 16.0|(262145,[10077,12...|\n",
            "| 16.0|(262145,[1546,153...|\n",
            "| 13.0|(262145,[1546,181...|\n",
            "| 13.0|(262145,[8408,104...|\n",
            "| 13.0|(262145,[5561,114...|\n",
            "| 13.0|(262145,[4235,121...|\n",
            "| 13.0|(262145,[2306,316...|\n",
            "| 13.0|(262145,[3354,584...|\n",
            "| 13.0|(262145,[3848,939...|\n",
            "| 13.0|(262145,[21534,32...|\n",
            "| 13.0|(262145,[4176,894...|\n",
            "| 13.0|(262145,[8297,120...|\n",
            "| 13.0|(262145,[2306,584...|\n",
            "| 13.0|(262145,[1546,439...|\n",
            "| 13.0|(262145,[5847,189...|\n",
            "| 13.0|(262145,[2701,104...|\n",
            "| 13.0|(262145,[1546,124...|\n",
            "| 13.0|(262145,[3572,311...|\n",
            "+-----+--------------------+\n",
            "only showing top 20 rows\n",
            "\n"
          ],
          "name": "stdout"
        }
      ]
    },
    {
      "cell_type": "code",
      "metadata": {
        "id": "pR_T-R1YetpS"
      },
      "source": [
        "from pyspark.ml.classification import NaiveBayes\n",
        "\n",
        "# Break data down into a training set and a testing set\n",
        "training, testing = cleaned.randomSplit([0.7, 0.3])\n",
        "\n",
        "# Create a Naive Bayes model and fit training data\n",
        "nb = NaiveBayes()\n",
        "predictor = nb.fit(training)"
      ],
      "execution_count": 15,
      "outputs": []
    },
    {
      "cell_type": "code",
      "metadata": {
        "colab": {
          "base_uri": "https://localhost:8080/"
        },
        "id": "htapinkcfoIX",
        "outputId": "51c490d3-4609-4da7-b9db-40e04efa3ea7"
      },
      "source": [
        "# Tranform the model with the testing data\n",
        "test_results = predictor.transform(testing)\n",
        "test_results.show(5)"
      ],
      "execution_count": 16,
      "outputs": [
        {
          "output_type": "stream",
          "text": [
            "+--------------------+------+------+-----+--------------------+--------------------+--------------------+--------------------+--------------------+--------------------+--------------------+----------+\n",
            "|         description|points|length|label|          token_text|         stop_tokens|          hash_token|           idf_token|            features|       rawPrediction|         probability|prediction|\n",
            "+--------------------+------+------+-----+--------------------+--------------------+--------------------+--------------------+--------------------+--------------------+--------------------+----------+\n",
            "| Big lively and v...|    91|   288|  7.0|[, big, lively, a...|[, big, lively, i...|(262144,[18911,45...|(262144,[18911,45...|(262145,[18911,45...|[-1075.0828573832...|[2.41174227496105...|       2.0|\n",
            "| Christoph Neumei...|    93|   223| 10.0|[, christoph, neu...|[, christoph, neu...|(262144,[18176,38...|(262144,[18176,38...|(262145,[18176,38...|[-1366.0720883603...|[2.37164265011818...|      10.0|\n",
            "| From a small sou...|    91|   332|  7.0|[, from, a, small...|[, small, southfa...|(262144,[2437,246...|(262144,[2437,246...|(262145,[2437,246...|[-1865.9098571655...|[3.01214933654658...|       7.0|\n",
            "| If youre familia...|    92|   272|  8.0|[, if, youre, fam...|[, youre, familia...|(262144,[14066,16...|(262144,[14066,16...|(262145,[14066,16...|[-1439.3627989224...|[6.94938933729215...|       6.0|\n",
            "| Pencil eraser to...|    83|   196|  9.0|[, pencil, eraser...|[, pencil, eraser...|(262144,[2325,103...|(262144,[2325,103...|(262145,[2325,103...|[-850.86512605963...|[0.43554063840853...|       1.0|\n",
            "+--------------------+------+------+-----+--------------------+--------------------+--------------------+--------------------+--------------------+--------------------+--------------------+----------+\n",
            "only showing top 5 rows\n",
            "\n"
          ],
          "name": "stdout"
        }
      ]
    },
    {
      "cell_type": "code",
      "metadata": {
        "colab": {
          "base_uri": "https://localhost:8080/"
        },
        "id": "cMioKvJ6fqcd",
        "outputId": "a740353b-35e9-4ee2-8f7b-07de271fb54f"
      },
      "source": [
        "# Use the Class Evaluator for a cleaner description\n",
        "from pyspark.ml.evaluation import MulticlassClassificationEvaluator\n",
        "\n",
        "acc_eval = MulticlassClassificationEvaluator()\n",
        "acc = acc_eval.evaluate(test_results)\n",
        "print(\"Accuracy of model at predicting reviews was: %f\" % acc)"
      ],
      "execution_count": 17,
      "outputs": [
        {
          "output_type": "stream",
          "text": [
            "Accuracy of model at predicting reviews was: 0.355120\n"
          ],
          "name": "stdout"
        }
      ]
    },
    {
      "cell_type": "code",
      "metadata": {
        "id": "8RNjxObjvu_y"
      },
      "source": [
        ""
      ],
      "execution_count": 17,
      "outputs": []
    }
  ]
}