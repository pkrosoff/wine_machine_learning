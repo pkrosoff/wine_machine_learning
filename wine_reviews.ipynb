{
  "nbformat": 4,
  "nbformat_minor": 0,
  "metadata": {
    "colab": {
      "name": "wine_reviews.ipynb",
      "provenance": [],
      "collapsed_sections": [],
      "toc_visible": true,
      "mount_file_id": "13c8q4yLxF8L1L05IHlhHbergdmkioZc-",
      "authorship_tag": "ABX9TyN2NHy0ic+fdQ8ELhkvwwHa",
      "include_colab_link": true
    },
    "kernelspec": {
      "name": "python3",
      "display_name": "Python 3"
    }
  },
  "cells": [
    {
      "cell_type": "markdown",
      "metadata": {
        "id": "view-in-github",
        "colab_type": "text"
      },
      "source": [
        "<a href=\"https://colab.research.google.com/github/pkrosoff/wine_machine_learning/blob/justans_branch/wine_reviews.ipynb\" target=\"_parent\"><img src=\"https://colab.research.google.com/assets/colab-badge.svg\" alt=\"Open In Colab\"/></a>"
      ]
    },
    {
      "cell_type": "code",
      "metadata": {
        "colab": {
          "base_uri": "https://localhost:8080/"
        },
        "id": "NnetNxlGEVyz",
        "outputId": "341c1696-bb93-4c17-ec4d-b7af5eb4205f"
      },
      "source": [
        "import os\n",
        "# Find the latest version of spark 3.0  from http://www-us.apache.org/dist/spark/ and enter as the spark version\n",
        "# For example:\n",
        "spark_version = 'spark-3.0.1'\n",
        "# spark_version = 'spark-3.<enter version>'\n",
        "os.environ['SPARK_VERSION']=spark_version\n",
        "\n",
        "# Install Spark and Java\n",
        "!apt-get update\n",
        "!apt-get install openjdk-11-jdk-headless -qq > /dev/null\n",
        "!wget -q http://www-us.apache.org/dist/spark/$SPARK_VERSION/$SPARK_VERSION-bin-hadoop2.7.tgz\n",
        "!tar xf $SPARK_VERSION-bin-hadoop2.7.tgz\n",
        "!pip install -q findspark\n",
        "\n",
        "# Set Environment Variables\n",
        "os.environ[\"JAVA_HOME\"] = \"/usr/lib/jvm/java-11-openjdk-amd64\"\n",
        "os.environ[\"SPARK_HOME\"] = f\"/content/{spark_version}-bin-hadoop2.7\"\n",
        "\n",
        "# Start a SparkSession\n",
        "import findspark\n",
        "findspark.init()"
      ],
      "execution_count": 1,
      "outputs": [
        {
          "output_type": "stream",
          "text": [
            "Hit:1 https://cloud.r-project.org/bin/linux/ubuntu bionic-cran40/ InRelease\n",
            "Ign:2 https://developer.download.nvidia.com/compute/cuda/repos/ubuntu1804/x86_64  InRelease\n",
            "Hit:3 http://security.ubuntu.com/ubuntu bionic-security InRelease\n",
            "Ign:4 https://developer.download.nvidia.com/compute/machine-learning/repos/ubuntu1804/x86_64  InRelease\n",
            "Hit:5 https://developer.download.nvidia.com/compute/cuda/repos/ubuntu1804/x86_64  Release\n",
            "Hit:6 https://developer.download.nvidia.com/compute/machine-learning/repos/ubuntu1804/x86_64  Release\n",
            "Hit:7 http://ppa.launchpad.net/c2d4u.team/c2d4u4.0+/ubuntu bionic InRelease\n",
            "Hit:8 http://archive.ubuntu.com/ubuntu bionic InRelease\n",
            "Hit:10 http://archive.ubuntu.com/ubuntu bionic-updates InRelease\n",
            "Hit:11 http://ppa.launchpad.net/graphics-drivers/ppa/ubuntu bionic InRelease\n",
            "Hit:13 http://archive.ubuntu.com/ubuntu bionic-backports InRelease\n",
            "Reading package lists... Done\n"
          ],
          "name": "stdout"
        }
      ]
    },
    {
      "cell_type": "code",
      "metadata": {
        "id": "6i3sP8zGIeU4"
      },
      "source": [
        "# Start Spark session\n",
        "from pyspark.sql import SparkSession\n",
        "spark = SparkSession.builder.appName(\"NaiveBayes\").getOrCreate()"
      ],
      "execution_count": 2,
      "outputs": []
    },
    {
      "cell_type": "code",
      "metadata": {
        "colab": {
          "base_uri": "https://localhost:8080/"
        },
        "id": "dZgYAaAsGpY9",
        "outputId": "08cf4f80-0866-4887-b7f0-c3a45831a52a"
      },
      "source": [
        "# Read in data from Google Drive\n",
        "from pyspark import SparkFiles\n",
        "url =\"/content/drive/MyDrive/winemag-data_first150k.csv\"\n",
        "spark.sparkContext.addFile(url)\n",
        "df = spark.read.csv(SparkFiles.get(\"winemag-data_first150k.csv\"), sep=\",\", header=True)\n",
        "\n",
        "# Show DataFrame\n",
        "df.show()"
      ],
      "execution_count": 3,
      "outputs": [
        {
          "output_type": "stream",
          "text": [
            "+---+-------+--------------------+--------------------+------+-----+------------------+--------------------+-----------------+------------------+--------------------+\n",
            "|_c0|country|         description|         designation|points|price|          province|            region_1|         region_2|           variety|              winery|\n",
            "+---+-------+--------------------+--------------------+------+-----+------------------+--------------------+-----------------+------------------+--------------------+\n",
            "|  0|     US|This tremendous 1...|   Martha's Vineyard|    96|235.0|        California|         Napa Valley|             Napa|Cabernet Sauvignon|               Heitz|\n",
            "|  1|  Spain|Ripe aromas of fi...|Carodorum Selecci...|    96|110.0|    Northern Spain|                Toro|             null|     Tinta de Toro|Bodega Carmen Rod...|\n",
            "|  2|     US|Mac Watson honors...|Special Selected ...|    96| 90.0|        California|      Knights Valley|           Sonoma|   Sauvignon Blanc|            Macauley|\n",
            "|  3|     US|This spent 20 mon...|             Reserve|    96| 65.0|            Oregon|   Willamette Valley|Willamette Valley|        Pinot Noir|               Ponzi|\n",
            "|  4| France|This is the top w...|          La Brûlade|    95| 66.0|          Provence|              Bandol|             null|Provence red blend|Domaine de la Bégude|\n",
            "|  5|  Spain|Deep, dense and p...|           Numanthia|    95| 73.0|    Northern Spain|                Toro|             null|     Tinta de Toro|           Numanthia|\n",
            "|  6|  Spain|Slightly gritty b...|           San Román|    95| 65.0|    Northern Spain|                Toro|             null|     Tinta de Toro|            Maurodos|\n",
            "|  7|  Spain|Lush cedary black...|Carodorum Único C...|    95|110.0|    Northern Spain|                Toro|             null|     Tinta de Toro|Bodega Carmen Rod...|\n",
            "|  8|     US|This re-named vin...|              Silice|    95| 65.0|            Oregon|  Chehalem Mountains|Willamette Valley|        Pinot Noir|           Bergström|\n",
            "|  9|     US|The producer sour...|Gap's Crown Vineyard|    95| 60.0|        California|        Sonoma Coast|           Sonoma|        Pinot Noir|           Blue Farm|\n",
            "| 10|  Italy|Elegance, complex...|  Ronco della Chiesa|    95| 80.0|Northeastern Italy|              Collio|             null|          Friulano|    Borgo del Tiglio|\n",
            "| 11|     US|From 18-year-old ...|Estate Vineyard W...|    95| 48.0|            Oregon|        Ribbon Ridge|Willamette Valley|        Pinot Noir|Patricia Green Ce...|\n",
            "| 12|     US|A standout even i...|      Weber Vineyard|    95| 48.0|            Oregon|        Dundee Hills|Willamette Valley|        Pinot Noir|Patricia Green Ce...|\n",
            "| 13| France|This wine is in p...|Château Montus Pr...|    95| 90.0|  Southwest France|             Madiran|             null|            Tannat|   Vignobles Brumont|\n",
            "| 14|     US|With its sophisti...|      Grace Vineyard|    95|185.0|            Oregon|        Dundee Hills|Willamette Valley|        Pinot Noir|      Domaine Serene|\n",
            "| 15|     US|First made in 200...|              Sigrid|    95| 90.0|            Oregon|   Willamette Valley|Willamette Valley|        Chardonnay|           Bergström|\n",
            "| 16|     US|This blockbuster,...|     Rainin Vineyard|    95|325.0|        California|Diamond Mountain ...|             Napa|Cabernet Sauvignon|                Hall|\n",
            "| 17|  Spain|Nicely oaked blac...|6 Años Reserva Pr...|    95| 80.0|    Northern Spain|    Ribera del Duero|             null|       Tempranillo|            Valduero|\n",
            "| 18| France|Coming from a sev...|       Le Pigeonnier|    95|290.0|  Southwest France|              Cahors|             null|            Malbec|  Château Lagrézette|\n",
            "| 19|     US|This fresh and li...|Gap's Crown Vineyard|    95| 75.0|        California|        Sonoma Coast|           Sonoma|        Pinot Noir|        Gary Farrell|\n",
            "+---+-------+--------------------+--------------------+------+-----+------------------+--------------------+-----------------+------------------+--------------------+\n",
            "only showing top 20 rows\n",
            "\n"
          ],
          "name": "stdout"
        }
      ]
    },
    {
      "cell_type": "code",
      "metadata": {
        "id": "EbDd1_p5aHLw"
      },
      "source": [
        "# wine_df['description'].str.encode('ascii', 'ignore').str.decode('ascii')\n",
        "from pyspark.sql.functions import regexp_replace, col\n",
        "\n",
        "df = df.withColumn(\"description\", regexp_replace(col(\"description\"), \"[^a-zA-Z\\d\\s:]\", \"\"));\n",
        "\n",
        "# [^a-zA-Z0-9_]"
      ],
      "execution_count": 4,
      "outputs": []
    },
    {
      "cell_type": "code",
      "metadata": {
        "colab": {
          "base_uri": "https://localhost:8080/"
        },
        "id": "Dp8416aoLmqb",
        "outputId": "669fb4fd-c93c-4d1e-e064-87daef9663be"
      },
      "source": [
        "wine_scores = df.drop('_c0','country', 'designation', 'price', 'province', 'region_1', 'region_2', 'variety', 'winery')\n",
        "\n",
        "wine_scores.show()"
      ],
      "execution_count": 5,
      "outputs": [
        {
          "output_type": "stream",
          "text": [
            "+--------------------+------+\n",
            "|         description|points|\n",
            "+--------------------+------+\n",
            "|This tremendous 1...|    96|\n",
            "|Ripe aromas of fi...|    96|\n",
            "|Mac Watson honors...|    96|\n",
            "|This spent 20 mon...|    96|\n",
            "|This is the top w...|    95|\n",
            "|Deep dense and pu...|    95|\n",
            "|Slightly gritty b...|    95|\n",
            "|Lush cedary black...|    95|\n",
            "|This renamed vine...|    95|\n",
            "|The producer sour...|    95|\n",
            "|Elegance complexi...|    95|\n",
            "|From 18yearold vi...|    95|\n",
            "|A standout even i...|    95|\n",
            "|This wine is in p...|    95|\n",
            "|With its sophisti...|    95|\n",
            "|First made in 200...|    95|\n",
            "|This blockbuster ...|    95|\n",
            "|Nicely oaked blac...|    95|\n",
            "|Coming from a sev...|    95|\n",
            "|This fresh and li...|    95|\n",
            "+--------------------+------+\n",
            "only showing top 20 rows\n",
            "\n"
          ],
          "name": "stdout"
        }
      ]
    },
    {
      "cell_type": "code",
      "metadata": {
        "colab": {
          "base_uri": "https://localhost:8080/"
        },
        "id": "eWOQ2QsUMEyN",
        "outputId": "24232ad3-6ae6-408f-e965-e1e841d5fb72"
      },
      "source": [
        "from pyspark.sql.functions import length\n",
        "# Create a length column to be used as a future feature \n",
        "wine_df = wine_scores.withColumn('length', length(df['description']))\n",
        "wine_df.show()"
      ],
      "execution_count": 6,
      "outputs": [
        {
          "output_type": "stream",
          "text": [
            "+--------------------+------+------+\n",
            "|         description|points|length|\n",
            "+--------------------+------+------+\n",
            "|This tremendous 1...|    96|   345|\n",
            "|Ripe aromas of fi...|    96|   309|\n",
            "|Mac Watson honors...|    96|   273|\n",
            "|This spent 20 mon...|    96|   370|\n",
            "|This is the top w...|    95|   364|\n",
            "|Deep dense and pu...|    95|   305|\n",
            "|Slightly gritty b...|    95|   309|\n",
            "|Lush cedary black...|    95|   347|\n",
            "|This renamed vine...|    95|   289|\n",
            "|The producer sour...|    95|   300|\n",
            "|Elegance complexi...|    95|   365|\n",
            "|From 18yearold vi...|    95|   250|\n",
            "|A standout even i...|    95|   282|\n",
            "|This wine is in p...|    95|   297|\n",
            "|With its sophisti...|    95|   412|\n",
            "|First made in 200...|    95|   271|\n",
            "|This blockbuster ...|    95|   268|\n",
            "|Nicely oaked blac...|    95|   329|\n",
            "|Coming from a sev...|    95|   361|\n",
            "|This fresh and li...|    95|   253|\n",
            "+--------------------+------+------+\n",
            "only showing top 20 rows\n",
            "\n"
          ],
          "name": "stdout"
        }
      ]
    },
    {
      "cell_type": "code",
      "metadata": {
        "colab": {
          "base_uri": "https://localhost:8080/"
        },
        "id": "00hRdc4jYl1J",
        "outputId": "cf7c8b92-500a-4d95-e008-8c10013e3a7b"
      },
      "source": [
        "from pyspark.sql.functions import isnan, when, count, col, isnull\n",
        "\n",
        "wine_df.select([count(when(isnull(c), c)).alias(c) for c in wine_df.columns]).show()"
      ],
      "execution_count": 7,
      "outputs": [
        {
          "output_type": "stream",
          "text": [
            "+-----------+------+------+\n",
            "|description|points|length|\n",
            "+-----------+------+------+\n",
            "|          1|     6|     1|\n",
            "+-----------+------+------+\n",
            "\n"
          ],
          "name": "stdout"
        }
      ]
    },
    {
      "cell_type": "code",
      "metadata": {
        "id": "EfB102dpd6Dz"
      },
      "source": [
        "wine_df = wine_df.na.drop()"
      ],
      "execution_count": 8,
      "outputs": []
    },
    {
      "cell_type": "code",
      "metadata": {
        "colab": {
          "base_uri": "https://localhost:8080/"
        },
        "id": "xJVyEMU2eaBM",
        "outputId": "e5627056-3de1-4f00-c723-24130d6a4442"
      },
      "source": [
        "wine_df.select([count(when(isnull(c), c)).alias(c) for c in wine_df.columns]).show()"
      ],
      "execution_count": 9,
      "outputs": [
        {
          "output_type": "stream",
          "text": [
            "+-----------+------+------+\n",
            "|description|points|length|\n",
            "+-----------+------+------+\n",
            "|          0|     0|     0|\n",
            "+-----------+------+------+\n",
            "\n"
          ],
          "name": "stdout"
        }
      ]
    },
    {
      "cell_type": "code",
      "metadata": {
        "id": "qkjZZoMVMcnJ"
      },
      "source": [
        "from pyspark.ml.feature import Tokenizer, StopWordsRemover, HashingTF, IDF, StringIndexer\n",
        "# Create all the features to the data set\n",
        "wine_points = StringIndexer(inputCol='points',outputCol='label')\n",
        "tokenizer = Tokenizer(inputCol=\"description\", outputCol=\"token_text\")\n",
        "stopremove = StopWordsRemover(inputCol='token_text',outputCol='stop_tokens')\n",
        "hashingTF = HashingTF(inputCol=\"stop_tokens\", outputCol='hash_token')\n",
        "idf = IDF(inputCol='hash_token', outputCol='idf_token')"
      ],
      "execution_count": 25,
      "outputs": []
    },
    {
      "cell_type": "code",
      "metadata": {
        "id": "iwVd42npEzG1"
      },
      "source": [
        "from pyspark.ml.feature import VectorAssembler\n",
        "from pyspark.ml.linalg import Vector\n",
        "\n",
        "# Create feature vectors\n",
        "clean_up = VectorAssembler(inputCols=['idf_token', 'length'], outputCol='features')"
      ],
      "execution_count": 26,
      "outputs": []
    },
    {
      "cell_type": "code",
      "metadata": {
        "id": "bRm8exytMbbX"
      },
      "source": [
        "# Create a and run a data processing Pipeline\n",
        "from pyspark.ml import Pipeline\n",
        "data_prep_pipeline = Pipeline(stages=[wine_points, tokenizer, stopremove, hashingTF, idf, clean_up])"
      ],
      "execution_count": 27,
      "outputs": []
    },
    {
      "cell_type": "code",
      "metadata": {
        "id": "Jl5yoBA0E2pg"
      },
      "source": [
        "# Fit and transform the pipeline\n",
        "cleaner = data_prep_pipeline.fit(wine_df)\n",
        "cleaned = cleaner.transform(wine_df)"
      ],
      "execution_count": 28,
      "outputs": []
    },
    {
      "cell_type": "code",
      "metadata": {
        "colab": {
          "base_uri": "https://localhost:8080/"
        },
        "id": "O_hpXoPiNLM9",
        "outputId": "4fa4ae30-576f-4c00-c262-5df1472533f5"
      },
      "source": [
        "# Show label and resulting features\n",
        "cleaned.select(['label', 'features']).show()"
      ],
      "execution_count": 29,
      "outputs": [
        {
          "output_type": "stream",
          "text": [
            "+-----+--------------------+\n",
            "|label|            features|\n",
            "+-----+--------------------+\n",
            "| 16.0|(262145,[2701,471...|\n",
            "| 16.0|(262145,[11481,33...|\n",
            "| 16.0|(262145,[10077,12...|\n",
            "| 16.0|(262145,[1546,153...|\n",
            "| 13.0|(262145,[1546,181...|\n",
            "| 13.0|(262145,[8408,104...|\n",
            "| 13.0|(262145,[5561,114...|\n",
            "| 13.0|(262145,[4235,121...|\n",
            "| 13.0|(262145,[2306,316...|\n",
            "| 13.0|(262145,[3354,584...|\n",
            "| 13.0|(262145,[3848,939...|\n",
            "| 13.0|(262145,[21534,32...|\n",
            "| 13.0|(262145,[4176,894...|\n",
            "| 13.0|(262145,[8297,120...|\n",
            "| 13.0|(262145,[2306,584...|\n",
            "| 13.0|(262145,[1546,439...|\n",
            "| 13.0|(262145,[5847,189...|\n",
            "| 13.0|(262145,[2701,104...|\n",
            "| 13.0|(262145,[1546,124...|\n",
            "| 13.0|(262145,[3572,311...|\n",
            "+-----+--------------------+\n",
            "only showing top 20 rows\n",
            "\n"
          ],
          "name": "stdout"
        }
      ]
    },
    {
      "cell_type": "code",
      "metadata": {
        "id": "pR_T-R1YetpS"
      },
      "source": [
        "from pyspark.ml.classification import NaiveBayes\n",
        "\n",
        "# Break data down into a training set and a testing set\n",
        "training, testing = cleaned.randomSplit([0.7, 0.3])\n",
        "\n",
        "# Create a Naive Bayes model and fit training data\n",
        "nb = NaiveBayes()\n",
        "predictor = nb.fit(training)"
      ],
      "execution_count": 30,
      "outputs": []
    },
    {
      "cell_type": "code",
      "metadata": {
        "colab": {
          "base_uri": "https://localhost:8080/"
        },
        "id": "htapinkcfoIX",
        "outputId": "cdcc580f-a0b3-4ef0-e991-86e212046912"
      },
      "source": [
        "# Tranform the model with the testing data\n",
        "test_results = predictor.transform(testing)\n",
        "test_results.show(5)"
      ],
      "execution_count": 31,
      "outputs": [
        {
          "output_type": "stream",
          "text": [
            "+--------------------+------+------+-----+--------------------+--------------------+--------------------+--------------------+--------------------+--------------------+--------------------+----------+\n",
            "|         description|points|length|label|          token_text|         stop_tokens|          hash_token|           idf_token|            features|       rawPrediction|         probability|prediction|\n",
            "+--------------------+------+------+-----+--------------------+--------------------+--------------------+--------------------+--------------------+--------------------+--------------------+----------+\n",
            "| Big lively and v...|    91|   288|  7.0|[, big, lively, a...|[, big, lively, i...|(262144,[18911,45...|(262144,[18911,45...|(262145,[18911,45...|[-1080.4835129746...|[6.50174364162678...|       2.0|\n",
            "| The wine is easy...|    88|   149|  1.0|[, the, wine, is,...|[, wine, easy, fr...|(262144,[62807,64...|(262144,[62807,64...|(262145,[62807,64...|[-620.11420196923...|[0.99665242104747...|       0.0|\n",
            "| The wine is easy...|    88|   149|  1.0|[, the, wine, is,...|[, wine, easy, fr...|(262144,[62807,64...|(262144,[62807,64...|(262145,[62807,64...|[-620.11420196923...|[0.99665242104747...|       0.0|\n",
            "| Theres a compact...|    90|   220|  2.0|[, theres, a, com...|[, theres, compac...|(262144,[10044,18...|(262144,[10044,18...|(262145,[10044,18...|[-1160.9116919839...|[0.91176650899704...|       0.0|\n",
            "|100 Cabernet Sauv...|    85|   328|  5.0|[100, cabernet, s...|[100, cabernet, s...|(262144,[535,1056...|(262144,[535,1056...|(262145,[535,1056...|[-1523.7171066066...|[3.55730449087067...|       1.0|\n",
            "+--------------------+------+------+-----+--------------------+--------------------+--------------------+--------------------+--------------------+--------------------+--------------------+----------+\n",
            "only showing top 5 rows\n",
            "\n"
          ],
          "name": "stdout"
        }
      ]
    },
    {
      "cell_type": "code",
      "metadata": {
        "colab": {
          "base_uri": "https://localhost:8080/"
        },
        "id": "cMioKvJ6fqcd",
        "outputId": "8583d29d-a1e3-478b-e495-735e6887c190"
      },
      "source": [
        "# Use the Class Evaluator for a cleaner description\n",
        "from pyspark.ml.evaluation import MulticlassClassificationEvaluator\n",
        "\n",
        "acc_eval = MulticlassClassificationEvaluator()\n",
        "acc = acc_eval.evaluate(test_results)\n",
        "print(\"Accuracy of model at predicting reviews was: %f\" % acc)"
      ],
      "execution_count": 32,
      "outputs": [
        {
          "output_type": "stream",
          "text": [
            "Accuracy of model at predicting reviews was: 0.354097\n"
          ],
          "name": "stdout"
        }
      ]
    },
    {
      "cell_type": "code",
      "metadata": {
        "id": "8RNjxObjvu_y"
      },
      "source": [
        ""
      ],
      "execution_count": null,
      "outputs": []
    }
  ]
}